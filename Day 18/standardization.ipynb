{
 "cells": [
  {
   "cell_type": "markdown",
   "metadata": {},
   "source": [
    "# Data Transformations\n",
    "In general, data transformations change raw feature vectors into a representation that is more suitable for various estimators.\n",
    "\n",
    "## Standardization\n",
    "\n",
    "**Standardization** of dataset is a common requirement for many machine learning techniques. These techniques might perform poorly if the individual features do not more or less look like standard normally distributed data.\n",
    "\n",
    "Standardization transforms data points into corresponding standard scores by removing mean and scaling to unit variance.\n",
    "\n",
    "The standard score is the signed number of standard deviations by which the value of an observation or data point is above the mean value of what is being observed or measured.\n",
    "\n",
    "Standardization can be performed using `fit(ZScoreTransform, ...)`.\n",
    "\n",
    "Keyword arguments\n",
    "\n",
    "`dims`: if 1 fit standardization parameters in column-wise fashion; if 2 fit in row-wise fashion. The default is nothing, which is equivalent to dims=2 with a deprecation warning.\n",
    "\n",
    "`center`: if true (the default) center data so that its mean is zero.\n",
    "\n",
    "`scale`: if true (the default) scale the data so that its variance is equal to one."
   ]
  },
  {
   "cell_type": "code",
   "execution_count": 3,
   "metadata": {},
   "outputs": [
    {
     "data": {
      "text/plain": [
       "2×3 Matrix{Float64}:\n",
       "  0.0  -1.0  1.0\n",
       " -1.0   0.0  1.0"
      ]
     },
     "execution_count": 3,
     "metadata": {},
     "output_type": "execute_result"
    }
   ],
   "source": [
    "using StatsBase\n",
    "X = [0.0 -0.5 0.5; 0.0 1.0 2.0]\n",
    "dt = fit(ZScoreTransform, X, dims=2)\n",
    "StatsBase.transform(dt, X)"
   ]
  },
  {
   "cell_type": "markdown",
   "metadata": {},
   "source": [
    "## Unit range normalization\n",
    "\n",
    "Unit range normalization is an alternative data transformation which scales features to lie in the interval [0; 1].\n",
    "\n",
    "Unit range normalization can be performed using `fit(UnitRangeTransform, ...)`.\n",
    "\n",
    "Fit a scaling parameters to vector or matrix X and return a UnitRangeTransform transformation object.\n",
    "\n",
    "Keyword arguments\n",
    "\n",
    "`dims`: if 1 fit standardization parameters in column-wise fashion;\n",
    "\n",
    "if 2 fit in row-wise fashion. The default is nothing.\n",
    "\n",
    "`unit`: if true (the default) shift the minimum data to zero."
   ]
  },
  {
   "cell_type": "code",
   "execution_count": 4,
   "metadata": {},
   "outputs": [
    {
     "data": {
      "text/plain": [
       "2×3 Matrix{Float64}:\n",
       " 0.5  0.0  1.0\n",
       " 0.0  0.5  1.0"
      ]
     },
     "execution_count": 4,
     "metadata": {},
     "output_type": "execute_result"
    }
   ],
   "source": [
    "using StatsBase\n",
    "X = [0.0 -0.5 0.5; 0.0 1.0 2.0]\n",
    "dt = fit(UnitRangeTransform, X, dims=2)\n",
    "StatsBase.transform(dt, X)"
   ]
  },
  {
   "cell_type": "markdown",
   "metadata": {},
   "source": [
    "## StatsBase.standardize\n",
    "\n",
    "`standardize(DT, X; dims=nothing, kwargs...)`\n",
    "\n",
    "Return a standardized copy of vector or matrix X along dimensions dims using transformation DT which is a subtype of `AbstractDataTransform`:\n",
    "\n",
    "* `ZScoreTransform`\n",
    "* `UnitRangeTransform`\n"
   ]
  },
  {
   "cell_type": "code",
   "execution_count": 5,
   "metadata": {},
   "outputs": [
    {
     "data": {
      "text/plain": [
       "2×3 Matrix{Float64}:\n",
       "  0.0  -1.0  1.0\n",
       " -1.0   0.0  1.0"
      ]
     },
     "execution_count": 5,
     "metadata": {},
     "output_type": "execute_result"
    }
   ],
   "source": [
    "using StatsBase\n",
    "standardize(ZScoreTransform, [0.0 -0.5 0.5; 0.0 1.0 2.0], dims=2)"
   ]
  },
  {
   "cell_type": "code",
   "execution_count": 6,
   "metadata": {},
   "outputs": [
    {
     "data": {
      "text/plain": [
       "2×3 Matrix{Float64}:\n",
       " 0.5  0.0  1.0\n",
       " 0.0  0.5  1.0"
      ]
     },
     "execution_count": 6,
     "metadata": {},
     "output_type": "execute_result"
    }
   ],
   "source": [
    "standardize(UnitRangeTransform, [0.0 -0.5 0.5; 0.0 1.0 2.0], dims=2)"
   ]
  }
 ],
 "metadata": {
  "kernelspec": {
   "display_name": "Julia 1.6.3",
   "language": "julia",
   "name": "julia-1.6"
  },
  "language_info": {
   "file_extension": ".jl",
   "mimetype": "application/julia",
   "name": "julia",
   "version": "1.6.3"
  },
  "orig_nbformat": 4
 },
 "nbformat": 4,
 "nbformat_minor": 2
}
