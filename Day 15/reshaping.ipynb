{
 "cells": [
  {
   "cell_type": "markdown",
   "metadata": {},
   "source": [
    "# Reshaping DataFrames\n",
    "## Wide to long"
   ]
  },
  {
   "cell_type": "code",
   "execution_count": 2,
   "metadata": {},
   "outputs": [],
   "source": [
    "using DataFrames # load package"
   ]
  },
  {
   "cell_type": "code",
   "execution_count": 3,
   "metadata": {},
   "outputs": [
    {
     "data": {
      "text/html": [
       "<div class=\"data-frame\"><p>4 rows × 4 columns</p><table class=\"data-frame\"><thead><tr><th></th><th>id</th><th>id2</th><th>M1</th><th>M2</th></tr><tr><th></th><th title=\"Int64\">Int64</th><th title=\"Int64\">Int64</th><th title=\"Int64\">Int64</th><th title=\"Int64\">Int64</th></tr></thead><tbody><tr><th>1</th><td>1</td><td>1</td><td>11</td><td>111</td></tr><tr><th>2</th><td>2</td><td>1</td><td>12</td><td>112</td></tr><tr><th>3</th><td>3</td><td>2</td><td>13</td><td>113</td></tr><tr><th>4</th><td>4</td><td>2</td><td>14</td><td>114</td></tr></tbody></table></div>"
      ],
      "text/latex": [
       "\\begin{tabular}{r|cccc}\n",
       "\t& id & id2 & M1 & M2\\\\\n",
       "\t\\hline\n",
       "\t& Int64 & Int64 & Int64 & Int64\\\\\n",
       "\t\\hline\n",
       "\t1 & 1 & 1 & 11 & 111 \\\\\n",
       "\t2 & 2 & 1 & 12 & 112 \\\\\n",
       "\t3 & 3 & 2 & 13 & 113 \\\\\n",
       "\t4 & 4 & 2 & 14 & 114 \\\\\n",
       "\\end{tabular}\n"
      ],
      "text/plain": [
       "\u001b[1m4×4 DataFrame\u001b[0m\n",
       "\u001b[1m Row \u001b[0m│\u001b[1m id    \u001b[0m\u001b[1m id2   \u001b[0m\u001b[1m M1    \u001b[0m\u001b[1m M2    \u001b[0m\n",
       "\u001b[1m     \u001b[0m│\u001b[90m Int64 \u001b[0m\u001b[90m Int64 \u001b[0m\u001b[90m Int64 \u001b[0m\u001b[90m Int64 \u001b[0m\n",
       "─────┼────────────────────────────\n",
       "   1 │     1      1     11    111\n",
       "   2 │     2      1     12    112\n",
       "   3 │     3      2     13    113\n",
       "   4 │     4      2     14    114"
      ]
     },
     "execution_count": 3,
     "metadata": {},
     "output_type": "execute_result"
    }
   ],
   "source": [
    "x = DataFrame(id=[1,2,3,4], id2=[1,1,2,2], M1=[11,12,13,14], M2=[111,112,113,114])"
   ]
  },
  {
   "cell_type": "code",
   "execution_count": 4,
   "metadata": {},
   "outputs": [
    {
     "data": {
      "text/html": [
       "<div class=\"data-frame\"><p>8 rows × 3 columns</p><table class=\"data-frame\"><thead><tr><th></th><th>id</th><th>variable</th><th>value</th></tr><tr><th></th><th title=\"Int64\">Int64</th><th title=\"String\">String</th><th title=\"Int64\">Int64</th></tr></thead><tbody><tr><th>1</th><td>1</td><td>M1</td><td>11</td></tr><tr><th>2</th><td>2</td><td>M1</td><td>12</td></tr><tr><th>3</th><td>3</td><td>M1</td><td>13</td></tr><tr><th>4</th><td>4</td><td>M1</td><td>14</td></tr><tr><th>5</th><td>1</td><td>M2</td><td>111</td></tr><tr><th>6</th><td>2</td><td>M2</td><td>112</td></tr><tr><th>7</th><td>3</td><td>M2</td><td>113</td></tr><tr><th>8</th><td>4</td><td>M2</td><td>114</td></tr></tbody></table></div>"
      ],
      "text/latex": [
       "\\begin{tabular}{r|ccc}\n",
       "\t& id & variable & value\\\\\n",
       "\t\\hline\n",
       "\t& Int64 & String & Int64\\\\\n",
       "\t\\hline\n",
       "\t1 & 1 & M1 & 11 \\\\\n",
       "\t2 & 2 & M1 & 12 \\\\\n",
       "\t3 & 3 & M1 & 13 \\\\\n",
       "\t4 & 4 & M1 & 14 \\\\\n",
       "\t5 & 1 & M2 & 111 \\\\\n",
       "\t6 & 2 & M2 & 112 \\\\\n",
       "\t7 & 3 & M2 & 113 \\\\\n",
       "\t8 & 4 & M2 & 114 \\\\\n",
       "\\end{tabular}\n"
      ],
      "text/plain": [
       "\u001b[1m8×3 DataFrame\u001b[0m\n",
       "\u001b[1m Row \u001b[0m│\u001b[1m id    \u001b[0m\u001b[1m variable \u001b[0m\u001b[1m value \u001b[0m\n",
       "\u001b[1m     \u001b[0m│\u001b[90m Int64 \u001b[0m\u001b[90m String   \u001b[0m\u001b[90m Int64 \u001b[0m\n",
       "─────┼────────────────────────\n",
       "   1 │     1  M1           11\n",
       "   2 │     2  M1           12\n",
       "   3 │     3  M1           13\n",
       "   4 │     4  M1           14\n",
       "   5 │     1  M2          111\n",
       "   6 │     2  M2          112\n",
       "   7 │     3  M2          113\n",
       "   8 │     4  M2          114"
      ]
     },
     "execution_count": 4,
     "metadata": {},
     "output_type": "execute_result"
    }
   ],
   "source": [
    "stack(x, [:M1, :M2], :id) # first pass measure variables and then id-variable"
   ]
  },
  {
   "cell_type": "markdown",
   "metadata": {},
   "source": [
    "add view=true keyword argument to make a view; in that case columns of the resulting data frame share memory with columns of the source data frame, so the operation is potentially unsafe"
   ]
  },
  {
   "cell_type": "code",
   "execution_count": 5,
   "metadata": {},
   "outputs": [
    {
     "data": {
      "text/html": [
       "<div class=\"data-frame\"><p>8 rows × 3 columns</p><table class=\"data-frame\"><thead><tr><th></th><th>id</th><th>key</th><th>observed</th></tr><tr><th></th><th title=\"Int64\">Int64</th><th title=\"String\">String</th><th title=\"Int64\">Int64</th></tr></thead><tbody><tr><th>1</th><td>1</td><td>M1</td><td>11</td></tr><tr><th>2</th><td>2</td><td>M1</td><td>12</td></tr><tr><th>3</th><td>3</td><td>M1</td><td>13</td></tr><tr><th>4</th><td>4</td><td>M1</td><td>14</td></tr><tr><th>5</th><td>1</td><td>M2</td><td>111</td></tr><tr><th>6</th><td>2</td><td>M2</td><td>112</td></tr><tr><th>7</th><td>3</td><td>M2</td><td>113</td></tr><tr><th>8</th><td>4</td><td>M2</td><td>114</td></tr></tbody></table></div>"
      ],
      "text/latex": [
       "\\begin{tabular}{r|ccc}\n",
       "\t& id & key & observed\\\\\n",
       "\t\\hline\n",
       "\t& Int64 & String & Int64\\\\\n",
       "\t\\hline\n",
       "\t1 & 1 & M1 & 11 \\\\\n",
       "\t2 & 2 & M1 & 12 \\\\\n",
       "\t3 & 3 & M1 & 13 \\\\\n",
       "\t4 & 4 & M1 & 14 \\\\\n",
       "\t5 & 1 & M2 & 111 \\\\\n",
       "\t6 & 2 & M2 & 112 \\\\\n",
       "\t7 & 3 & M2 & 113 \\\\\n",
       "\t8 & 4 & M2 & 114 \\\\\n",
       "\\end{tabular}\n"
      ],
      "text/plain": [
       "\u001b[1m8×3 DataFrame\u001b[0m\n",
       "\u001b[1m Row \u001b[0m│\u001b[1m id    \u001b[0m\u001b[1m key    \u001b[0m\u001b[1m observed \u001b[0m\n",
       "\u001b[1m     \u001b[0m│\u001b[90m Int64 \u001b[0m\u001b[90m String \u001b[0m\u001b[90m Int64    \u001b[0m\n",
       "─────┼─────────────────────────\n",
       "   1 │     1  M1            11\n",
       "   2 │     2  M1            12\n",
       "   3 │     3  M1            13\n",
       "   4 │     4  M1            14\n",
       "   5 │     1  M2           111\n",
       "   6 │     2  M2           112\n",
       "   7 │     3  M2           113\n",
       "   8 │     4  M2           114"
      ]
     },
     "execution_count": 5,
     "metadata": {},
     "output_type": "execute_result"
    }
   ],
   "source": [
    "# optionally you can rename columns\n",
    "stack(x, [\"M1\", \"M2\"], \"id\", variable_name=\"key\", value_name=\"observed\")\n"
   ]
  },
  {
   "cell_type": "markdown",
   "metadata": {},
   "source": [
    "if second argument is omitted in stack , all other columns are assumed to be the id-variables"
   ]
  },
  {
   "cell_type": "code",
   "execution_count": 6,
   "metadata": {},
   "outputs": [
    {
     "data": {
      "text/html": [
       "<div class=\"data-frame\"><p>8 rows × 4 columns</p><table class=\"data-frame\"><thead><tr><th></th><th>id</th><th>id2</th><th>variable</th><th>value</th></tr><tr><th></th><th title=\"Int64\">Int64</th><th title=\"Int64\">Int64</th><th title=\"String\">String</th><th title=\"Int64\">Int64</th></tr></thead><tbody><tr><th>1</th><td>1</td><td>1</td><td>M1</td><td>11</td></tr><tr><th>2</th><td>2</td><td>1</td><td>M1</td><td>12</td></tr><tr><th>3</th><td>3</td><td>2</td><td>M1</td><td>13</td></tr><tr><th>4</th><td>4</td><td>2</td><td>M1</td><td>14</td></tr><tr><th>5</th><td>1</td><td>1</td><td>M2</td><td>111</td></tr><tr><th>6</th><td>2</td><td>1</td><td>M2</td><td>112</td></tr><tr><th>7</th><td>3</td><td>2</td><td>M2</td><td>113</td></tr><tr><th>8</th><td>4</td><td>2</td><td>M2</td><td>114</td></tr></tbody></table></div>"
      ],
      "text/latex": [
       "\\begin{tabular}{r|cccc}\n",
       "\t& id & id2 & variable & value\\\\\n",
       "\t\\hline\n",
       "\t& Int64 & Int64 & String & Int64\\\\\n",
       "\t\\hline\n",
       "\t1 & 1 & 1 & M1 & 11 \\\\\n",
       "\t2 & 2 & 1 & M1 & 12 \\\\\n",
       "\t3 & 3 & 2 & M1 & 13 \\\\\n",
       "\t4 & 4 & 2 & M1 & 14 \\\\\n",
       "\t5 & 1 & 1 & M2 & 111 \\\\\n",
       "\t6 & 2 & 1 & M2 & 112 \\\\\n",
       "\t7 & 3 & 2 & M2 & 113 \\\\\n",
       "\t8 & 4 & 2 & M2 & 114 \\\\\n",
       "\\end{tabular}\n"
      ],
      "text/plain": [
       "\u001b[1m8×4 DataFrame\u001b[0m\n",
       "\u001b[1m Row \u001b[0m│\u001b[1m id    \u001b[0m\u001b[1m id2   \u001b[0m\u001b[1m variable \u001b[0m\u001b[1m value \u001b[0m\n",
       "\u001b[1m     \u001b[0m│\u001b[90m Int64 \u001b[0m\u001b[90m Int64 \u001b[0m\u001b[90m String   \u001b[0m\u001b[90m Int64 \u001b[0m\n",
       "─────┼───────────────────────────────\n",
       "   1 │     1      1  M1           11\n",
       "   2 │     2      1  M1           12\n",
       "   3 │     3      2  M1           13\n",
       "   4 │     4      2  M1           14\n",
       "   5 │     1      1  M2          111\n",
       "   6 │     2      1  M2          112\n",
       "   7 │     3      2  M2          113\n",
       "   8 │     4      2  M2          114"
      ]
     },
     "execution_count": 6,
     "metadata": {},
     "output_type": "execute_result"
    }
   ],
   "source": [
    "stack(x, Not([:id, :id2]))"
   ]
  },
  {
   "cell_type": "code",
   "execution_count": 7,
   "metadata": {},
   "outputs": [
    {
     "data": {
      "text/html": [
       "<div class=\"data-frame\"><p>8 rows × 4 columns</p><table class=\"data-frame\"><thead><tr><th></th><th>id</th><th>id2</th><th>variable</th><th>value</th></tr><tr><th></th><th title=\"Int64\">Int64</th><th title=\"Int64\">Int64</th><th title=\"String\">String</th><th title=\"Int64\">Int64</th></tr></thead><tbody><tr><th>1</th><td>1</td><td>1</td><td>M1</td><td>11</td></tr><tr><th>2</th><td>2</td><td>1</td><td>M1</td><td>12</td></tr><tr><th>3</th><td>3</td><td>2</td><td>M1</td><td>13</td></tr><tr><th>4</th><td>4</td><td>2</td><td>M1</td><td>14</td></tr><tr><th>5</th><td>1</td><td>1</td><td>M2</td><td>111</td></tr><tr><th>6</th><td>2</td><td>1</td><td>M2</td><td>112</td></tr><tr><th>7</th><td>3</td><td>2</td><td>M2</td><td>113</td></tr><tr><th>8</th><td>4</td><td>2</td><td>M2</td><td>114</td></tr></tbody></table></div>"
      ],
      "text/latex": [
       "\\begin{tabular}{r|cccc}\n",
       "\t& id & id2 & variable & value\\\\\n",
       "\t\\hline\n",
       "\t& Int64 & Int64 & String & Int64\\\\\n",
       "\t\\hline\n",
       "\t1 & 1 & 1 & M1 & 11 \\\\\n",
       "\t2 & 2 & 1 & M1 & 12 \\\\\n",
       "\t3 & 3 & 2 & M1 & 13 \\\\\n",
       "\t4 & 4 & 2 & M1 & 14 \\\\\n",
       "\t5 & 1 & 1 & M2 & 111 \\\\\n",
       "\t6 & 2 & 1 & M2 & 112 \\\\\n",
       "\t7 & 3 & 2 & M2 & 113 \\\\\n",
       "\t8 & 4 & 2 & M2 & 114 \\\\\n",
       "\\end{tabular}\n"
      ],
      "text/plain": [
       "\u001b[1m8×4 DataFrame\u001b[0m\n",
       "\u001b[1m Row \u001b[0m│\u001b[1m id    \u001b[0m\u001b[1m id2   \u001b[0m\u001b[1m variable \u001b[0m\u001b[1m value \u001b[0m\n",
       "\u001b[1m     \u001b[0m│\u001b[90m Int64 \u001b[0m\u001b[90m Int64 \u001b[0m\u001b[90m String   \u001b[0m\u001b[90m Int64 \u001b[0m\n",
       "─────┼───────────────────────────────\n",
       "   1 │     1      1  M1           11\n",
       "   2 │     2      1  M1           12\n",
       "   3 │     3      2  M1           13\n",
       "   4 │     4      2  M1           14\n",
       "   5 │     1      1  M2          111\n",
       "   6 │     2      1  M2          112\n",
       "   7 │     3      2  M2          113\n",
       "   8 │     4      2  M2          114"
      ]
     },
     "execution_count": 7,
     "metadata": {},
     "output_type": "execute_result"
    }
   ],
   "source": [
    "stack(x, Not([1, 2])) # you can use index instead of symbol"
   ]
  },
  {
   "cell_type": "code",
   "execution_count": 8,
   "metadata": {},
   "outputs": [
    {
     "data": {
      "text/html": [
       "<div class=\"data-frame\"><p>3 rows × 4 columns</p><table class=\"data-frame\"><thead><tr><th></th><th>id</th><th>id2</th><th>a1</th><th>a2</th></tr><tr><th></th><th title=\"Int64\">Int64</th><th title=\"Char\">Char</th><th title=\"Float64\">Float64</th><th title=\"Float64\">Float64</th></tr></thead><tbody><tr><th>1</th><td>1</td><td>a</td><td>0.50631</td><td>0.387321</td></tr><tr><th>2</th><td>1</td><td>b</td><td>0.770559</td><td>0.188132</td></tr><tr><th>3</th><td>1</td><td>c</td><td>0.0441943</td><td>0.817372</td></tr></tbody></table></div>"
      ],
      "text/latex": [
       "\\begin{tabular}{r|cccc}\n",
       "\t& id & id2 & a1 & a2\\\\\n",
       "\t\\hline\n",
       "\t& Int64 & Char & Float64 & Float64\\\\\n",
       "\t\\hline\n",
       "\t1 & 1 & a & 0.50631 & 0.387321 \\\\\n",
       "\t2 & 1 & b & 0.770559 & 0.188132 \\\\\n",
       "\t3 & 1 & c & 0.0441943 & 0.817372 \\\\\n",
       "\\end{tabular}\n"
      ],
      "text/plain": [
       "\u001b[1m3×4 DataFrame\u001b[0m\n",
       "\u001b[1m Row \u001b[0m│\u001b[1m id    \u001b[0m\u001b[1m id2  \u001b[0m\u001b[1m a1        \u001b[0m\u001b[1m a2       \u001b[0m\n",
       "\u001b[1m     \u001b[0m│\u001b[90m Int64 \u001b[0m\u001b[90m Char \u001b[0m\u001b[90m Float64   \u001b[0m\u001b[90m Float64  \u001b[0m\n",
       "─────┼──────────────────────────────────\n",
       "   1 │     1  a     0.50631    0.387321\n",
       "   2 │     1  b     0.770559   0.188132\n",
       "   3 │     1  c     0.0441943  0.817372"
      ]
     },
     "execution_count": 8,
     "metadata": {},
     "output_type": "execute_result"
    }
   ],
   "source": [
    "x = DataFrame(id = [1,1,1], id2=['a','b','c'], a1 = rand(3), a2 = rand(3))"
   ]
  },
  {
   "cell_type": "markdown",
   "metadata": {},
   "source": [
    "if stack is not passed any measure variables by default numeric variables are selected as measures"
   ]
  },
  {
   "cell_type": "code",
   "execution_count": 9,
   "metadata": {},
   "outputs": [
    {
     "data": {
      "text/html": [
       "<div class=\"data-frame\"><p>6 rows × 4 columns</p><table class=\"data-frame\"><thead><tr><th></th><th>id</th><th>id2</th><th>variable</th><th>value</th></tr><tr><th></th><th title=\"Int64\">Int64</th><th title=\"Char\">Char</th><th title=\"String\">String</th><th title=\"Float64\">Float64</th></tr></thead><tbody><tr><th>1</th><td>1</td><td>a</td><td>a1</td><td>0.50631</td></tr><tr><th>2</th><td>1</td><td>b</td><td>a1</td><td>0.770559</td></tr><tr><th>3</th><td>1</td><td>c</td><td>a1</td><td>0.0441943</td></tr><tr><th>4</th><td>1</td><td>a</td><td>a2</td><td>0.387321</td></tr><tr><th>5</th><td>1</td><td>b</td><td>a2</td><td>0.188132</td></tr><tr><th>6</th><td>1</td><td>c</td><td>a2</td><td>0.817372</td></tr></tbody></table></div>"
      ],
      "text/latex": [
       "\\begin{tabular}{r|cccc}\n",
       "\t& id & id2 & variable & value\\\\\n",
       "\t\\hline\n",
       "\t& Int64 & Char & String & Float64\\\\\n",
       "\t\\hline\n",
       "\t1 & 1 & a & a1 & 0.50631 \\\\\n",
       "\t2 & 1 & b & a1 & 0.770559 \\\\\n",
       "\t3 & 1 & c & a1 & 0.0441943 \\\\\n",
       "\t4 & 1 & a & a2 & 0.387321 \\\\\n",
       "\t5 & 1 & b & a2 & 0.188132 \\\\\n",
       "\t6 & 1 & c & a2 & 0.817372 \\\\\n",
       "\\end{tabular}\n"
      ],
      "text/plain": [
       "\u001b[1m6×4 DataFrame\u001b[0m\n",
       "\u001b[1m Row \u001b[0m│\u001b[1m id    \u001b[0m\u001b[1m id2  \u001b[0m\u001b[1m variable \u001b[0m\u001b[1m value     \u001b[0m\n",
       "\u001b[1m     \u001b[0m│\u001b[90m Int64 \u001b[0m\u001b[90m Char \u001b[0m\u001b[90m String   \u001b[0m\u001b[90m Float64   \u001b[0m\n",
       "─────┼──────────────────────────────────\n",
       "   1 │     1  a     a1        0.50631\n",
       "   2 │     1  b     a1        0.770559\n",
       "   3 │     1  c     a1        0.0441943\n",
       "   4 │     1  a     a2        0.387321\n",
       "   5 │     1  b     a2        0.188132\n",
       "   6 │     1  c     a2        0.817372"
      ]
     },
     "execution_count": 9,
     "metadata": {},
     "output_type": "execute_result"
    }
   ],
   "source": [
    "stack(x)"
   ]
  },
  {
   "cell_type": "markdown",
   "metadata": {},
   "source": [
    "here all columns are treated as measures:"
   ]
  },
  {
   "cell_type": "code",
   "execution_count": 10,
   "metadata": {},
   "outputs": [
    {
     "data": {
      "text/html": [
       "<div class=\"data-frame\"><p>6 rows × 2 columns</p><table class=\"data-frame\"><thead><tr><th></th><th>variable</th><th>value</th></tr><tr><th></th><th title=\"String\">String</th><th title=\"Float64\">Float64</th></tr></thead><tbody><tr><th>1</th><td>x1</td><td>0.612335</td></tr><tr><th>2</th><td>x1</td><td>0.0162968</td></tr><tr><th>3</th><td>x1</td><td>0.0850522</td></tr><tr><th>4</th><td>x2</td><td>0.77054</td></tr><tr><th>5</th><td>x2</td><td>0.758132</td></tr><tr><th>6</th><td>x2</td><td>0.874147</td></tr></tbody></table></div>"
      ],
      "text/latex": [
       "\\begin{tabular}{r|cc}\n",
       "\t& variable & value\\\\\n",
       "\t\\hline\n",
       "\t& String & Float64\\\\\n",
       "\t\\hline\n",
       "\t1 & x1 & 0.612335 \\\\\n",
       "\t2 & x1 & 0.0162968 \\\\\n",
       "\t3 & x1 & 0.0850522 \\\\\n",
       "\t4 & x2 & 0.77054 \\\\\n",
       "\t5 & x2 & 0.758132 \\\\\n",
       "\t6 & x2 & 0.874147 \\\\\n",
       "\\end{tabular}\n"
      ],
      "text/plain": [
       "\u001b[1m6×2 DataFrame\u001b[0m\n",
       "\u001b[1m Row \u001b[0m│\u001b[1m variable \u001b[0m\u001b[1m value     \u001b[0m\n",
       "\u001b[1m     \u001b[0m│\u001b[90m String   \u001b[0m\u001b[90m Float64   \u001b[0m\n",
       "─────┼─────────────────────\n",
       "   1 │ x1        0.612335\n",
       "   2 │ x1        0.0162968\n",
       "   3 │ x1        0.0850522\n",
       "   4 │ x2        0.77054\n",
       "   5 │ x2        0.758132\n",
       "   6 │ x2        0.874147"
      ]
     },
     "execution_count": 10,
     "metadata": {},
     "output_type": "execute_result"
    }
   ],
   "source": [
    "stack(DataFrame(rand(3,2), :auto))"
   ]
  },
  {
   "cell_type": "code",
   "execution_count": 11,
   "metadata": {},
   "outputs": [
    {
     "data": {
      "text/html": [
       "<div class=\"data-frame\"><p>6 rows × 3 columns</p><table class=\"data-frame\"><thead><tr><th></th><th>key</th><th>variable</th><th>value</th></tr><tr><th></th><th title=\"Int64\">Int64</th><th title=\"String\">String</th><th title=\"Float64\">Float64</th></tr></thead><tbody><tr><th>1</th><td>1</td><td>x1</td><td>0.400451</td></tr><tr><th>2</th><td>1</td><td>x1</td><td>0.499192</td></tr><tr><th>3</th><td>1</td><td>x1</td><td>0.600074</td></tr><tr><th>4</th><td>1</td><td>x2</td><td>0.393869</td></tr><tr><th>5</th><td>1</td><td>x2</td><td>0.716906</td></tr><tr><th>6</th><td>1</td><td>x2</td><td>0.631193</td></tr></tbody></table></div>"
      ],
      "text/latex": [
       "\\begin{tabular}{r|ccc}\n",
       "\t& key & variable & value\\\\\n",
       "\t\\hline\n",
       "\t& Int64 & String & Float64\\\\\n",
       "\t\\hline\n",
       "\t1 & 1 & x1 & 0.400451 \\\\\n",
       "\t2 & 1 & x1 & 0.499192 \\\\\n",
       "\t3 & 1 & x1 & 0.600074 \\\\\n",
       "\t4 & 1 & x2 & 0.393869 \\\\\n",
       "\t5 & 1 & x2 & 0.716906 \\\\\n",
       "\t6 & 1 & x2 & 0.631193 \\\\\n",
       "\\end{tabular}\n"
      ],
      "text/plain": [
       "\u001b[1m6×3 DataFrame\u001b[0m\n",
       "\u001b[1m Row \u001b[0m│\u001b[1m key   \u001b[0m\u001b[1m variable \u001b[0m\u001b[1m value    \u001b[0m\n",
       "\u001b[1m     \u001b[0m│\u001b[90m Int64 \u001b[0m\u001b[90m String   \u001b[0m\u001b[90m Float64  \u001b[0m\n",
       "─────┼───────────────────────────\n",
       "   1 │     1  x1        0.400451\n",
       "   2 │     1  x1        0.499192\n",
       "   3 │     1  x1        0.600074\n",
       "   4 │     1  x2        0.393869\n",
       "   5 │     1  x2        0.716906\n",
       "   6 │     1  x2        0.631193"
      ]
     },
     "execution_count": 11,
     "metadata": {},
     "output_type": "execute_result"
    }
   ],
   "source": [
    "df = DataFrame(rand(3,2), :auto)\n",
    "df.key = [1,1,1]\n",
    "mdf = stack(df) # duplicates in key are silently accepted"
   ]
  },
  {
   "cell_type": "markdown",
   "metadata": {},
   "source": [
    "## Long to wide"
   ]
  },
  {
   "cell_type": "code",
   "execution_count": 12,
   "metadata": {},
   "outputs": [
    {
     "data": {
      "text/html": [
       "<div class=\"data-frame\"><p>6 rows × 4 columns</p><table class=\"data-frame\"><thead><tr><th></th><th>id</th><th>id2</th><th>variable</th><th>value</th></tr><tr><th></th><th title=\"Int64\">Int64</th><th title=\"Char\">Char</th><th title=\"String\">String</th><th title=\"Float64\">Float64</th></tr></thead><tbody><tr><th>1</th><td>1</td><td>a</td><td>a1</td><td>0.433666</td></tr><tr><th>2</th><td>1</td><td>b</td><td>a1</td><td>0.707949</td></tr><tr><th>3</th><td>1</td><td>c</td><td>a1</td><td>0.123797</td></tr><tr><th>4</th><td>1</td><td>a</td><td>a2</td><td>0.0750425</td></tr><tr><th>5</th><td>1</td><td>b</td><td>a2</td><td>0.271233</td></tr><tr><th>6</th><td>1</td><td>c</td><td>a2</td><td>0.466925</td></tr></tbody></table></div>"
      ],
      "text/latex": [
       "\\begin{tabular}{r|cccc}\n",
       "\t& id & id2 & variable & value\\\\\n",
       "\t\\hline\n",
       "\t& Int64 & Char & String & Float64\\\\\n",
       "\t\\hline\n",
       "\t1 & 1 & a & a1 & 0.433666 \\\\\n",
       "\t2 & 1 & b & a1 & 0.707949 \\\\\n",
       "\t3 & 1 & c & a1 & 0.123797 \\\\\n",
       "\t4 & 1 & a & a2 & 0.0750425 \\\\\n",
       "\t5 & 1 & b & a2 & 0.271233 \\\\\n",
       "\t6 & 1 & c & a2 & 0.466925 \\\\\n",
       "\\end{tabular}\n"
      ],
      "text/plain": [
       "\u001b[1m6×4 DataFrame\u001b[0m\n",
       "\u001b[1m Row \u001b[0m│\u001b[1m id    \u001b[0m\u001b[1m id2  \u001b[0m\u001b[1m variable \u001b[0m\u001b[1m value     \u001b[0m\n",
       "\u001b[1m     \u001b[0m│\u001b[90m Int64 \u001b[0m\u001b[90m Char \u001b[0m\u001b[90m String   \u001b[0m\u001b[90m Float64   \u001b[0m\n",
       "─────┼──────────────────────────────────\n",
       "   1 │     1  a     a1        0.433666\n",
       "   2 │     1  b     a1        0.707949\n",
       "   3 │     1  c     a1        0.123797\n",
       "   4 │     1  a     a2        0.0750425\n",
       "   5 │     1  b     a2        0.271233\n",
       "   6 │     1  c     a2        0.466925"
      ]
     },
     "execution_count": 12,
     "metadata": {},
     "output_type": "execute_result"
    }
   ],
   "source": [
    "x = DataFrame(id = [1,1,1], id2=['a','b','c'], a1 = rand(3), a2 = rand(3))\n",
    "y = stack(x)"
   ]
  },
  {
   "cell_type": "code",
   "execution_count": 13,
   "metadata": {},
   "outputs": [
    {
     "data": {
      "text/html": [
       "<div class=\"data-frame\"><p>3 rows × 3 columns</p><table class=\"data-frame\"><thead><tr><th></th><th>id2</th><th>a1</th><th>a2</th></tr><tr><th></th><th title=\"Char\">Char</th><th title=\"Union{Missing, Float64}\">Float64?</th><th title=\"Union{Missing, Float64}\">Float64?</th></tr></thead><tbody><tr><th>1</th><td>a</td><td>0.433666</td><td>0.0750425</td></tr><tr><th>2</th><td>b</td><td>0.707949</td><td>0.271233</td></tr><tr><th>3</th><td>c</td><td>0.123797</td><td>0.466925</td></tr></tbody></table></div>"
      ],
      "text/latex": [
       "\\begin{tabular}{r|ccc}\n",
       "\t& id2 & a1 & a2\\\\\n",
       "\t\\hline\n",
       "\t& Char & Float64? & Float64?\\\\\n",
       "\t\\hline\n",
       "\t1 & a & 0.433666 & 0.0750425 \\\\\n",
       "\t2 & b & 0.707949 & 0.271233 \\\\\n",
       "\t3 & c & 0.123797 & 0.466925 \\\\\n",
       "\\end{tabular}\n"
      ],
      "text/plain": [
       "\u001b[1m3×3 DataFrame\u001b[0m\n",
       "\u001b[1m Row \u001b[0m│\u001b[1m id2  \u001b[0m\u001b[1m a1       \u001b[0m\u001b[1m a2        \u001b[0m\n",
       "\u001b[1m     \u001b[0m│\u001b[90m Char \u001b[0m\u001b[90m Float64? \u001b[0m\u001b[90m Float64?  \u001b[0m\n",
       "─────┼───────────────────────────\n",
       "   1 │ a     0.433666  0.0750425\n",
       "   2 │ b     0.707949  0.271233\n",
       "   3 │ c     0.123797  0.466925"
      ]
     },
     "execution_count": 13,
     "metadata": {},
     "output_type": "execute_result"
    }
   ],
   "source": [
    "unstack(y, :id2, :variable, :value) # stndard unstack with a specified key"
   ]
  },
  {
   "cell_type": "code",
   "execution_count": 14,
   "metadata": {},
   "outputs": [
    {
     "data": {
      "text/html": [
       "<div class=\"data-frame\"><p>3 rows × 4 columns</p><table class=\"data-frame\"><thead><tr><th></th><th>id</th><th>id2</th><th>a1</th><th>a2</th></tr><tr><th></th><th title=\"Int64\">Int64</th><th title=\"Char\">Char</th><th title=\"Union{Missing, Float64}\">Float64?</th><th title=\"Union{Missing, Float64}\">Float64?</th></tr></thead><tbody><tr><th>1</th><td>1</td><td>a</td><td>0.433666</td><td>0.0750425</td></tr><tr><th>2</th><td>1</td><td>b</td><td>0.707949</td><td>0.271233</td></tr><tr><th>3</th><td>1</td><td>c</td><td>0.123797</td><td>0.466925</td></tr></tbody></table></div>"
      ],
      "text/latex": [
       "\\begin{tabular}{r|cccc}\n",
       "\t& id & id2 & a1 & a2\\\\\n",
       "\t\\hline\n",
       "\t& Int64 & Char & Float64? & Float64?\\\\\n",
       "\t\\hline\n",
       "\t1 & 1 & a & 0.433666 & 0.0750425 \\\\\n",
       "\t2 & 1 & b & 0.707949 & 0.271233 \\\\\n",
       "\t3 & 1 & c & 0.123797 & 0.466925 \\\\\n",
       "\\end{tabular}\n"
      ],
      "text/plain": [
       "\u001b[1m3×4 DataFrame\u001b[0m\n",
       "\u001b[1m Row \u001b[0m│\u001b[1m id    \u001b[0m\u001b[1m id2  \u001b[0m\u001b[1m a1       \u001b[0m\u001b[1m a2        \u001b[0m\n",
       "\u001b[1m     \u001b[0m│\u001b[90m Int64 \u001b[0m\u001b[90m Char \u001b[0m\u001b[90m Float64? \u001b[0m\u001b[90m Float64?  \u001b[0m\n",
       "─────┼──────────────────────────────────\n",
       "   1 │     1  a     0.433666  0.0750425\n",
       "   2 │     1  b     0.707949  0.271233\n",
       "   3 │     1  c     0.123797  0.466925"
      ]
     },
     "execution_count": 14,
     "metadata": {},
     "output_type": "execute_result"
    }
   ],
   "source": [
    "unstack(y, :variable, :value) # all other columns are treated as keys"
   ]
  },
  {
   "cell_type": "code",
   "execution_count": 15,
   "metadata": {},
   "outputs": [
    {
     "data": {
      "text/html": [
       "<div class=\"data-frame\"><p>3 rows × 4 columns</p><table class=\"data-frame\"><thead><tr><th></th><th>id</th><th>id2</th><th>a1</th><th>a2</th></tr><tr><th></th><th title=\"Int64\">Int64</th><th title=\"Char\">Char</th><th title=\"Union{Missing, Float64}\">Float64?</th><th title=\"Union{Missing, Float64}\">Float64?</th></tr></thead><tbody><tr><th>1</th><td>1</td><td>a</td><td>0.433666</td><td>0.0750425</td></tr><tr><th>2</th><td>1</td><td>b</td><td>0.707949</td><td>0.271233</td></tr><tr><th>3</th><td>1</td><td>c</td><td>0.123797</td><td>0.466925</td></tr></tbody></table></div>"
      ],
      "text/latex": [
       "\\begin{tabular}{r|cccc}\n",
       "\t& id & id2 & a1 & a2\\\\\n",
       "\t\\hline\n",
       "\t& Int64 & Char & Float64? & Float64?\\\\\n",
       "\t\\hline\n",
       "\t1 & 1 & a & 0.433666 & 0.0750425 \\\\\n",
       "\t2 & 1 & b & 0.707949 & 0.271233 \\\\\n",
       "\t3 & 1 & c & 0.123797 & 0.466925 \\\\\n",
       "\\end{tabular}\n"
      ],
      "text/plain": [
       "\u001b[1m3×4 DataFrame\u001b[0m\n",
       "\u001b[1m Row \u001b[0m│\u001b[1m id    \u001b[0m\u001b[1m id2  \u001b[0m\u001b[1m a1       \u001b[0m\u001b[1m a2        \u001b[0m\n",
       "\u001b[1m     \u001b[0m│\u001b[90m Int64 \u001b[0m\u001b[90m Char \u001b[0m\u001b[90m Float64? \u001b[0m\u001b[90m Float64?  \u001b[0m\n",
       "─────┼──────────────────────────────────\n",
       "   1 │     1  a     0.433666  0.0750425\n",
       "   2 │     1  b     0.707949  0.271233\n",
       "   3 │     1  c     0.123797  0.466925"
      ]
     },
     "execution_count": 15,
     "metadata": {},
     "output_type": "execute_result"
    }
   ],
   "source": [
    "# all columns other than named :variable and :value are treated as keys\n",
    "unstack(y)"
   ]
  },
  {
   "cell_type": "code",
   "execution_count": 16,
   "metadata": {},
   "outputs": [
    {
     "data": {
      "text/html": [
       "<div class=\"data-frame\"><p>3 rows × 4 columns</p><table class=\"data-frame\"><thead><tr><th></th><th>id</th><th>id2</th><th>unstacked_a1</th><th>unstacked_a2</th></tr><tr><th></th><th title=\"Int64\">Int64</th><th title=\"Char\">Char</th><th title=\"Union{Missing, Float64}\">Float64?</th><th title=\"Union{Missing, Float64}\">Float64?</th></tr></thead><tbody><tr><th>1</th><td>1</td><td>a</td><td>0.433666</td><td>0.0750425</td></tr><tr><th>2</th><td>1</td><td>b</td><td>0.707949</td><td>0.271233</td></tr><tr><th>3</th><td>1</td><td>c</td><td>0.123797</td><td>0.466925</td></tr></tbody></table></div>"
      ],
      "text/latex": [
       "\\begin{tabular}{r|cccc}\n",
       "\t& id & id2 & unstacked\\_a1 & unstacked\\_a2\\\\\n",
       "\t\\hline\n",
       "\t& Int64 & Char & Float64? & Float64?\\\\\n",
       "\t\\hline\n",
       "\t1 & 1 & a & 0.433666 & 0.0750425 \\\\\n",
       "\t2 & 1 & b & 0.707949 & 0.271233 \\\\\n",
       "\t3 & 1 & c & 0.123797 & 0.466925 \\\\\n",
       "\\end{tabular}\n"
      ],
      "text/plain": [
       "\u001b[1m3×4 DataFrame\u001b[0m\n",
       "\u001b[1m Row \u001b[0m│\u001b[1m id    \u001b[0m\u001b[1m id2  \u001b[0m\u001b[1m unstacked_a1 \u001b[0m\u001b[1m unstacked_a2 \u001b[0m\n",
       "\u001b[1m     \u001b[0m│\u001b[90m Int64 \u001b[0m\u001b[90m Char \u001b[0m\u001b[90m Float64?     \u001b[0m\u001b[90m Float64?     \u001b[0m\n",
       "─────┼─────────────────────────────────────────\n",
       "   1 │     1  a         0.433666     0.0750425\n",
       "   2 │     1  b         0.707949     0.271233\n",
       "   3 │     1  c         0.123797     0.466925"
      ]
     },
     "execution_count": 16,
     "metadata": {},
     "output_type": "execute_result"
    }
   ],
   "source": [
    "# you can rename the unstacked columns\n",
    "unstack(y, renamecols=n->string(\"unstacked_\", n))"
   ]
  },
  {
   "cell_type": "code",
   "execution_count": 17,
   "metadata": {},
   "outputs": [
    {
     "data": {
      "text/html": [
       "<div class=\"data-frame\"><p>6 rows × 2 columns</p><table class=\"data-frame\"><thead><tr><th></th><th>variable</th><th>value</th></tr><tr><th></th><th title=\"String\">String</th><th title=\"Float64\">Float64</th></tr></thead><tbody><tr><th>1</th><td>x1</td><td>0.0667908</td></tr><tr><th>2</th><td>x1</td><td>0.0811233</td></tr><tr><th>3</th><td>x1</td><td>0.3445</td></tr><tr><th>4</th><td>x2</td><td>0.826426</td></tr><tr><th>5</th><td>x2</td><td>0.26148</td></tr><tr><th>6</th><td>x2</td><td>0.225545</td></tr></tbody></table></div>"
      ],
      "text/latex": [
       "\\begin{tabular}{r|cc}\n",
       "\t& variable & value\\\\\n",
       "\t\\hline\n",
       "\t& String & Float64\\\\\n",
       "\t\\hline\n",
       "\t1 & x1 & 0.0667908 \\\\\n",
       "\t2 & x1 & 0.0811233 \\\\\n",
       "\t3 & x1 & 0.3445 \\\\\n",
       "\t4 & x2 & 0.826426 \\\\\n",
       "\t5 & x2 & 0.26148 \\\\\n",
       "\t6 & x2 & 0.225545 \\\\\n",
       "\\end{tabular}\n"
      ],
      "text/plain": [
       "\u001b[1m6×2 DataFrame\u001b[0m\n",
       "\u001b[1m Row \u001b[0m│\u001b[1m variable \u001b[0m\u001b[1m value     \u001b[0m\n",
       "\u001b[1m     \u001b[0m│\u001b[90m String   \u001b[0m\u001b[90m Float64   \u001b[0m\n",
       "─────┼─────────────────────\n",
       "   1 │ x1        0.0667908\n",
       "   2 │ x1        0.0811233\n",
       "   3 │ x1        0.3445\n",
       "   4 │ x2        0.826426\n",
       "   5 │ x2        0.26148\n",
       "   6 │ x2        0.225545"
      ]
     },
     "execution_count": 17,
     "metadata": {},
     "output_type": "execute_result"
    }
   ],
   "source": [
    "df = stack(DataFrame(rand(3,2), :auto))\n"
   ]
  },
  {
   "cell_type": "code",
   "execution_count": 18,
   "metadata": {},
   "outputs": [
    {
     "ename": "LoadError",
     "evalue": "ArgumentError: No key column found",
     "output_type": "error",
     "traceback": [
      "ArgumentError: No key column found",
      "",
      "Stacktrace:",
      " [1] unstack(df::DataFrame, rowkeys::InvertedIndex{InvertedIndices.TupleVector{Tuple{Int64, Int64}}}, colkey::Int64, value::Int64; renamecols::Function, allowmissing::Bool, allowduplicates::Bool, fill::Missing)",
      "   @ DataFrames ~/.julia/packages/DataFrames/BM4OQ/src/abstractdataframe/reshape.jl:365",
      " [2] unstack(df::DataFrame, colkey::Symbol, value::Symbol; renamecols::Function, allowmissing::Bool, allowduplicates::Bool, fill::Missing)",
      "   @ DataFrames ~/.julia/packages/DataFrames/BM4OQ/src/abstractdataframe/reshape.jl:378",
      " [3] unstack(df::DataFrame, colkey::Symbol, value::Symbol)",
      "   @ DataFrames ~/.julia/packages/DataFrames/BM4OQ/src/abstractdataframe/reshape.jl:376",
      " [4] top-level scope",
      "   @ In[18]:1",
      " [5] eval",
      "   @ ./boot.jl:360 [inlined]",
      " [6] include_string(mapexpr::typeof(REPL.softscope), mod::Module, code::String, filename::String)",
      "   @ Base ./loading.jl:1116"
     ]
    }
   ],
   "source": [
    "unstack(df, :variable, :value) # unable to unstack when no key column is present\n"
   ]
  },
  {
   "cell_type": "code",
   "execution_count": 19,
   "metadata": {},
   "outputs": [
    {
     "data": {
      "text/html": [
       "<div class=\"data-frame\"><p>3 rows × 3 columns</p><table class=\"data-frame\"><thead><tr><th></th><th>key</th><th>variable</th><th>value</th></tr><tr><th></th><th title=\"Int64\">Int64</th><th title=\"String\">String</th><th title=\"Int64\">Int64</th></tr></thead><tbody><tr><th>1</th><td>1</td><td>a</td><td>1</td></tr><tr><th>2</th><td>1</td><td>b</td><td>2</td></tr><tr><th>3</th><td>2</td><td>a</td><td>3</td></tr></tbody></table></div>"
      ],
      "text/latex": [
       "\\begin{tabular}{r|ccc}\n",
       "\t& key & variable & value\\\\\n",
       "\t\\hline\n",
       "\t& Int64 & String & Int64\\\\\n",
       "\t\\hline\n",
       "\t1 & 1 & a & 1 \\\\\n",
       "\t2 & 1 & b & 2 \\\\\n",
       "\t3 & 2 & a & 3 \\\\\n",
       "\\end{tabular}\n"
      ],
      "text/plain": [
       "\u001b[1m3×3 DataFrame\u001b[0m\n",
       "\u001b[1m Row \u001b[0m│\u001b[1m key   \u001b[0m\u001b[1m variable \u001b[0m\u001b[1m value \u001b[0m\n",
       "\u001b[1m     \u001b[0m│\u001b[90m Int64 \u001b[0m\u001b[90m String   \u001b[0m\u001b[90m Int64 \u001b[0m\n",
       "─────┼────────────────────────\n",
       "   1 │     1  a             1\n",
       "   2 │     1  b             2\n",
       "   3 │     2  a             3"
      ]
     },
     "execution_count": 19,
     "metadata": {},
     "output_type": "execute_result"
    }
   ],
   "source": [
    "df = DataFrame(key=[1, 1, 2], variable=[\"a\", \"b\", \"a\"], value=1:3)\n"
   ]
  },
  {
   "cell_type": "code",
   "execution_count": 21,
   "metadata": {},
   "outputs": [
    {
     "data": {
      "text/html": [
       "<div class=\"data-frame\"><p>2 rows × 3 columns</p><table class=\"data-frame\"><thead><tr><th></th><th>key</th><th>a</th><th>b</th></tr><tr><th></th><th title=\"Int64\">Int64</th><th title=\"Union{Missing, Int64}\">Int64?</th><th title=\"Union{Missing, Int64}\">Int64?</th></tr></thead><tbody><tr><th>1</th><td>1</td><td>1</td><td>2</td></tr><tr><th>2</th><td>2</td><td>3</td><td><em>missing</em></td></tr></tbody></table></div>"
      ],
      "text/latex": [
       "\\begin{tabular}{r|ccc}\n",
       "\t& key & a & b\\\\\n",
       "\t\\hline\n",
       "\t& Int64 & Int64? & Int64?\\\\\n",
       "\t\\hline\n",
       "\t1 & 1 & 1 & 2 \\\\\n",
       "\t2 & 2 & 3 & \\emph{missing} \\\\\n",
       "\\end{tabular}\n"
      ],
      "text/plain": [
       "\u001b[1m2×3 DataFrame\u001b[0m\n",
       "\u001b[1m Row \u001b[0m│\u001b[1m key   \u001b[0m\u001b[1m a      \u001b[0m\u001b[1m b       \u001b[0m\n",
       "\u001b[1m     \u001b[0m│\u001b[90m Int64 \u001b[0m\u001b[90m Int64? \u001b[0m\u001b[90m Int64?  \u001b[0m\n",
       "─────┼────────────────────────\n",
       "   1 │     1       1        2\n",
       "   2 │     2       3 \u001b[90m missing \u001b[0m"
      ]
     },
     "execution_count": 21,
     "metadata": {},
     "output_type": "execute_result"
    }
   ],
   "source": [
    "unstack(df, :variable, :value)"
   ]
  },
  {
   "cell_type": "code",
   "execution_count": 22,
   "metadata": {},
   "outputs": [
    {
     "data": {
      "text/html": [
       "<div class=\"data-frame\"><p>2 rows × 3 columns</p><table class=\"data-frame\"><thead><tr><th></th><th>key</th><th>a</th><th>b</th></tr><tr><th></th><th title=\"Int64\">Int64</th><th title=\"Int64\">Int64</th><th title=\"Int64\">Int64</th></tr></thead><tbody><tr><th>1</th><td>1</td><td>1</td><td>2</td></tr><tr><th>2</th><td>2</td><td>3</td><td>0</td></tr></tbody></table></div>"
      ],
      "text/latex": [
       "\\begin{tabular}{r|ccc}\n",
       "\t& key & a & b\\\\\n",
       "\t\\hline\n",
       "\t& Int64 & Int64 & Int64\\\\\n",
       "\t\\hline\n",
       "\t1 & 1 & 1 & 2 \\\\\n",
       "\t2 & 2 & 3 & 0 \\\\\n",
       "\\end{tabular}\n"
      ],
      "text/plain": [
       "\u001b[1m2×3 DataFrame\u001b[0m\n",
       "\u001b[1m Row \u001b[0m│\u001b[1m key   \u001b[0m\u001b[1m a     \u001b[0m\u001b[1m b     \u001b[0m\n",
       "\u001b[1m     \u001b[0m│\u001b[90m Int64 \u001b[0m\u001b[90m Int64 \u001b[0m\u001b[90m Int64 \u001b[0m\n",
       "─────┼─────────────────────\n",
       "   1 │     1      1      2\n",
       "   2 │     2      3      0"
      ]
     },
     "execution_count": 22,
     "metadata": {},
     "output_type": "execute_result"
    }
   ],
   "source": [
    "unstack(df, :variable, :value, fill=0)"
   ]
  }
 ],
 "metadata": {
  "kernelspec": {
   "display_name": "Julia 1.6.3",
   "language": "julia",
   "name": "julia-1.6"
  },
  "language_info": {
   "file_extension": ".jl",
   "mimetype": "application/julia",
   "name": "julia",
   "version": "1.6.3"
  },
  "orig_nbformat": 4
 },
 "nbformat": 4,
 "nbformat_minor": 2
}
