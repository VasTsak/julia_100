{
 "cells": [
  {
   "cell_type": "markdown",
   "metadata": {},
   "source": [
    "In programming terms, a recursive function can be defined as a routine that calls itself directly or indirectly.\n",
    "Using the recursive algorithm, certain problems can be solved quite easily. Fibonacci number canculation are such programming exercise."
   ]
  },
  {
   "cell_type": "code",
   "execution_count": 1,
   "metadata": {},
   "outputs": [
    {
     "data": {
      "text/plain": [
       "5"
      ]
     },
     "execution_count": 1,
     "metadata": {},
     "output_type": "execute_result"
    }
   ],
   "source": [
    "function fibonacci(n)\n",
    "    if n <= 1\n",
    "        return n\n",
    "    else\n",
    "        return  (fibonacci(n - 1) + fibonacci(n - 2))\n",
    "    end\n",
    "end\n",
    "\n",
    "fibonacci(5)"
   ]
  },
  {
   "cell_type": "markdown",
   "metadata": {},
   "source": [
    "Check if a number is Palindrome"
   ]
  },
  {
   "cell_type": "code",
   "execution_count": 17,
   "metadata": {},
   "outputs": [
    {
     "data": {
      "text/plain": [
       "IsPalindrome (generic function with 1 method)"
      ]
     },
     "execution_count": 17,
     "metadata": {},
     "output_type": "execute_result"
    }
   ],
   "source": [
    "function IsPal(str, s, e)\n",
    "    if s == e\n",
    "        return false\n",
    "    end\n",
    "    \n",
    "    if str[s] != str[e]\n",
    "        return false\n",
    "    end\n",
    "\n",
    "    if s < e + 1 \n",
    "        return IsPal(str, s + 1, e - 1)\n",
    "    end\n",
    "    return true\n",
    "end\n",
    "\n",
    "function IsPalindrome(str)\n",
    "    n = length(str)\n",
    "\n",
    "    if n == 0\n",
    "        return true\n",
    "    end\n",
    "\n",
    "    return IsPal(str, 1, n)\n",
    "end"
   ]
  },
  {
   "cell_type": "code",
   "execution_count": 18,
   "metadata": {},
   "outputs": [
    {
     "data": {
      "text/plain": [
       "true"
      ]
     },
     "execution_count": 18,
     "metadata": {},
     "output_type": "execute_result"
    }
   ],
   "source": [
    "IsPalindrome(\"ABBA\")"
   ]
  },
  {
   "cell_type": "code",
   "execution_count": 19,
   "metadata": {},
   "outputs": [
    {
     "data": {
      "text/plain": [
       "false"
      ]
     },
     "execution_count": 19,
     "metadata": {},
     "output_type": "execute_result"
    }
   ],
   "source": [
    "IsPalindrome(\"ABC\")"
   ]
  },
  {
   "cell_type": "code",
   "execution_count": 20,
   "metadata": {},
   "outputs": [
    {
     "data": {
      "text/plain": [
       "true"
      ]
     },
     "execution_count": 20,
     "metadata": {},
     "output_type": "execute_result"
    }
   ],
   "source": [
    "IsPalindrome(\"HELLOOLLEH\")"
   ]
  }
 ],
 "metadata": {
  "interpreter": {
   "hash": "564b954c2e7b251c745a33b810e5277830582ba1ae1cb3015b659e6dc31f1d89"
  },
  "kernelspec": {
   "display_name": "Julia 1.6.3",
   "language": "julia",
   "name": "julia-1.6"
  },
  "language_info": {
   "file_extension": ".jl",
   "mimetype": "application/julia",
   "name": "julia",
   "version": "1.6.3"
  },
  "orig_nbformat": 4
 },
 "nbformat": 4,
 "nbformat_minor": 2
}
