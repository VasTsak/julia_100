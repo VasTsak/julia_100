{
 "cells": [
  {
   "cell_type": "markdown",
   "metadata": {},
   "source": [
    "# Basic data structures\n",
    "\n",
    "## Arrays \n",
    "\n",
    "Array is an order collection of items. It can have one type of items or multiple. It is the most common type of data structure and can be thought like the \"lists\" from python.\n"
   ]
  },
  {
   "cell_type": "code",
   "execution_count": 5,
   "metadata": {},
   "outputs": [
    {
     "name": "stdout",
     "output_type": "stream",
     "text": [
      "[1, 2, 3]\n",
      "Vector{Int64}\n"
     ]
    }
   ],
   "source": [
    "integer_array = [1, 2, 3]\n",
    "println(integer_array)\n",
    "println(typeof(integer_array))"
   ]
  },
  {
   "cell_type": "code",
   "execution_count": 7,
   "metadata": {},
   "outputs": [
    {
     "name": "stdout",
     "output_type": "stream",
     "text": [
      "[1.0, 2.0, 3.0]\n",
      "Vector{Float64}\n"
     ]
    }
   ],
   "source": [
    "float_array = [1.0, 2.0, 3.0]\n",
    "println(float_array)\n",
    "println(typeof(float_array))"
   ]
  },
  {
   "cell_type": "code",
   "execution_count": 6,
   "metadata": {},
   "outputs": [
    {
     "name": "stdout",
     "output_type": "stream",
     "text": [
      "[\"1\", \"2\", \"3\"]\n",
      "Vector{String}\n"
     ]
    }
   ],
   "source": [
    "string_array = [\"1\", \"2\", \"3\"]\n",
    "println(string_array)\n",
    "println(typeof(string_array))"
   ]
  },
  {
   "cell_type": "code",
   "execution_count": 8,
   "metadata": {},
   "outputs": [
    {
     "name": "stdout",
     "output_type": "stream",
     "text": [
      "Bool[1, 0, 1]\n",
      "Vector{Bool}\n"
     ]
    }
   ],
   "source": [
    "bool_array = [true, false, true]\n",
    "println(bool_array)\n",
    "println(typeof(bool_array))"
   ]
  },
  {
   "cell_type": "code",
   "execution_count": 10,
   "metadata": {},
   "outputs": [
    {
     "name": "stdout",
     "output_type": "stream",
     "text": [
      "['a', 'b', 'c']\n",
      "Vector{Char}\n"
     ]
    }
   ],
   "source": [
    "char_array = ['a', 'b', 'c']\n",
    "println(char_array)\n",
    "println(typeof(char_array))\n"
   ]
  },
  {
   "cell_type": "code",
   "execution_count": 11,
   "metadata": {},
   "outputs": [
    {
     "name": "stdout",
     "output_type": "stream",
     "text": [
      "Any[1, \"2\", true, 'c']\n",
      "Vector{Any}\n"
     ]
    }
   ],
   "source": [
    "mixed_array = [1, \"2\", true, 'c']\n",
    "println(mixed_array)\n",
    "println(typeof(mixed_array))"
   ]
  },
  {
   "cell_type": "code",
   "execution_count": 15,
   "metadata": {},
   "outputs": [
    {
     "name": "stdout",
     "output_type": "stream",
     "text": [
      "Any[100, \"2\", true, 'c']\n",
      "Vector{Any}\n"
     ]
    }
   ],
   "source": [
    "mixed_array[1] = 100\n",
    "println(mixed_array)\n",
    "println(typeof(mixed_array))"
   ]
  },
  {
   "cell_type": "code",
   "execution_count": 17,
   "metadata": {},
   "outputs": [
    {
     "name": "stdout",
     "output_type": "stream",
     "text": [
      "[[1, 2, 3], [4, 5, 6]]\n",
      "Vector{Vector{Int64}}\n"
     ]
    }
   ],
   "source": [
    "integer_matrix = [[1, 2, 3], [4, 5, 6]]\n",
    "println(multi_array)\n",
    "println(typeof(multi_array))"
   ]
  },
  {
   "cell_type": "code",
   "execution_count": 18,
   "metadata": {},
   "outputs": [
    {
     "name": "stdout",
     "output_type": "stream",
     "text": [
      "Vector{T} where T[[[1, 2, 3], [4, 5, 6]], [[[7, 8, 9], [10, 11, 12]]]]\n",
      "Vector{Vector{T} where T}\n"
     ]
    }
   ],
   "source": [
    "integer_tensor = [[[1, 2, 3], [4, 5, 6]], [[[7, 8, 9], [10, 11, 12]]]]\n",
    "println(integer_tensor)\n",
    "println(typeof(integer_tensor))"
   ]
  },
  {
   "cell_type": "markdown",
   "metadata": {},
   "source": [
    "\n",
    "## Tuples\n",
    "\n",
    "Tuples are just like arrays, but they are immutable. They are also sorted and can take any type of item. There is a also another slight difference between tuples and arrays "
   ]
  },
  {
   "cell_type": "code",
   "execution_count": 13,
   "metadata": {},
   "outputs": [
    {
     "name": "stdout",
     "output_type": "stream",
     "text": [
      "(1, 2, 3)\n",
      "Tuple{Int64, Int64, Int64}\n"
     ]
    }
   ],
   "source": [
    "integer_tuple = (1, 2, 3)\n",
    "println(integer_tuple)\n",
    "println(typeof(integer_tuple))"
   ]
  },
  {
   "cell_type": "code",
   "execution_count": 14,
   "metadata": {},
   "outputs": [
    {
     "name": "stdout",
     "output_type": "stream",
     "text": [
      "(1.0, 2.0, 3.0)\n",
      "Tuple{Float64, Float64, Float64}\n"
     ]
    }
   ],
   "source": [
    "float_tuple = (1.0, 2.0, 3.0)\n",
    "println(float_tuple)\n",
    "println(typeof(float_tuple))"
   ]
  },
  {
   "cell_type": "code",
   "execution_count": 20,
   "metadata": {},
   "outputs": [
    {
     "name": "stdout",
     "output_type": "stream",
     "text": [
      "(1.0, 2.0, 3.0)\n",
      "Tuple{Float64, Float64, Float64}\n"
     ]
    }
   ],
   "source": [
    "float_tuple = (1.0, 2.0, 3.0)\n",
    "println(float_tuple)\n",
    "println(typeof(float_tuple))"
   ]
  },
  {
   "cell_type": "code",
   "execution_count": 20,
   "metadata": {},
   "outputs": [
    {
     "name": "stdout",
     "output_type": "stream",
     "text": [
      "(\"1.0\", \"2.0\", \"3.0\")\n",
      "Tuple{String, String, String}\n"
     ]
    }
   ],
   "source": [
    "string_tuple = (\"1.0\", \"2.0\", \"3.0\")\n",
    "println(string_tuple)\n",
    "println(typeof(string_tuple))"
   ]
  },
  {
   "cell_type": "code",
   "execution_count": 21,
   "metadata": {},
   "outputs": [
    {
     "name": "stdout",
     "output_type": "stream",
     "text": [
      "('a', 'b', 'c')\n",
      "Tuple{Char, Char, Char}\n"
     ]
    }
   ],
   "source": [
    "char_tuple = ('a', 'b', 'c')\n",
    "println(char_tuple)\n",
    "println(typeof(char_tuple))"
   ]
  },
  {
   "cell_type": "code",
   "execution_count": 22,
   "metadata": {},
   "outputs": [
    {
     "name": "stdout",
     "output_type": "stream",
     "text": [
      "(true, false, true)\n",
      "Tuple{Bool, Bool, Bool}\n"
     ]
    }
   ],
   "source": [
    "bool_tuple = (true, false, true)\n",
    "println(bool_tuple)\n",
    "println(typeof(bool_tuple))"
   ]
  },
  {
   "cell_type": "code",
   "execution_count": 23,
   "metadata": {},
   "outputs": [
    {
     "name": "stdout",
     "output_type": "stream",
     "text": [
      "(1, \"2\", true, 'c')\n",
      "Tuple{Int64, String, Bool, Char}\n"
     ]
    }
   ],
   "source": [
    "mixed_tuple = (1, \"2\", true, 'c')\n",
    "println(mixed_tuple)\n",
    "println(typeof(mixed_tuple))"
   ]
  },
  {
   "cell_type": "code",
   "execution_count": 24,
   "metadata": {},
   "outputs": [
    {
     "ename": "LoadError",
     "evalue": "MethodError: no method matching setindex!(::Tuple{Int64, String, Bool, Char}, ::Int64, ::Int64)",
     "output_type": "error",
     "traceback": [
      "MethodError: no method matching setindex!(::Tuple{Int64, String, Bool, Char}, ::Int64, ::Int64)",
      "",
      "Stacktrace:",
      " [1] top-level scope",
      "   @ In[24]:1",
      " [2] eval",
      "   @ ./boot.jl:360 [inlined]",
      " [3] include_string(mapexpr::typeof(REPL.softscope), mod::Module, code::String, filename::String)",
      "   @ Base ./loading.jl:1116"
     ]
    }
   ],
   "source": [
    "mixed_tuple[1] = 100"
   ]
  },
  {
   "cell_type": "code",
   "execution_count": 29,
   "metadata": {},
   "outputs": [
    {
     "name": "stdout",
     "output_type": "stream",
     "text": [
      "[(1, 2, 3), (4, 5, 6)]\n",
      "Vector{Tuple{Int64, Int64, Int64}}\n"
     ]
    }
   ],
   "source": [
    "integer_matrix__array_tuple = [(1, 2, 3), (4, 5, 6)]\n",
    "println(integer_matrix__array_tuple)\n",
    "println(typeof(integer_matrix__array_tuple))"
   ]
  },
  {
   "cell_type": "code",
   "execution_count": 28,
   "metadata": {},
   "outputs": [
    {
     "name": "stdout",
     "output_type": "stream",
     "text": [
      "((1, 2, 3), (4, 5, 6))\n",
      "Tuple{Tuple{Int64, Int64, Int64}, Tuple{Int64, Int64, Int64}}\n"
     ]
    }
   ],
   "source": [
    "integer_matrix__tuple_tuple = ((1, 2, 3), (4, 5, 6))\n",
    "println(integer_matrix__tuple_tuple)\n",
    "println(typeof(integer_matrix__tuple_tuple))"
   ]
  },
  {
   "cell_type": "markdown",
   "metadata": {},
   "source": [
    "## Named Tuples\n",
    "\n",
    "The components of tuples can optionally be named, in which case a named tuple is constructed:\n"
   ]
  },
  {
   "cell_type": "code",
   "execution_count": 22,
   "metadata": {},
   "outputs": [
    {
     "data": {
      "text/plain": [
       "(name = \"Vasilis\", age = 29, height = 1.82)"
      ]
     },
     "execution_count": 22,
     "metadata": {},
     "output_type": "execute_result"
    }
   ],
   "source": [
    "creds = (name=\"Vasilis\", age=29, height=1.82)\n",
    "creds"
   ]
  },
  {
   "cell_type": "code",
   "execution_count": 24,
   "metadata": {},
   "outputs": [
    {
     "data": {
      "text/plain": [
       "\"Vasilis\""
      ]
     },
     "execution_count": 24,
     "metadata": {},
     "output_type": "execute_result"
    }
   ],
   "source": [
    "creds.name"
   ]
  },
  {
   "cell_type": "markdown",
   "metadata": {},
   "source": [
    "## Dictionaries\n",
    "\n",
    "Dictionaries are hash maps. They are unordered collections of which the values are mapped to a key. "
   ]
  },
  {
   "cell_type": "code",
   "execution_count": 7,
   "metadata": {},
   "outputs": [
    {
     "data": {
      "text/plain": [
       "\"English\""
      ]
     },
     "execution_count": 7,
     "metadata": {},
     "output_type": "execute_result"
    }
   ],
   "source": [
    "language = Dict(\"US\" => \"English\", \"Germany\" => \"German\", \"Greece\" => \"Greek\", \"Switzerland\" => (\"German\", \"French\", \"Italian\", \"Romanisch\"))\n",
    "language[\"US\"]"
   ]
  },
  {
   "cell_type": "code",
   "execution_count": 8,
   "metadata": {},
   "outputs": [
    {
     "data": {
      "text/plain": [
       "(\"German\", \"French\", \"Italian\", \"Romanisch\")"
      ]
     },
     "execution_count": 8,
     "metadata": {},
     "output_type": "execute_result"
    }
   ],
   "source": [
    "language[\"Switzerland\"]"
   ]
  },
  {
   "cell_type": "code",
   "execution_count": 9,
   "metadata": {},
   "outputs": [
    {
     "data": {
      "text/plain": [
       "\"Ελληνικά\""
      ]
     },
     "execution_count": 9,
     "metadata": {},
     "output_type": "execute_result"
    }
   ],
   "source": [
    "language[\"Greece\"] = \"Ελληνικά\""
   ]
  },
  {
   "cell_type": "code",
   "execution_count": 10,
   "metadata": {},
   "outputs": [
    {
     "data": {
      "text/plain": [
       "Dict{String, Any} with 4 entries:\n",
       "  \"Switzerland\" => (\"German\", \"French\", \"Italian\", \"Romanisch\")\n",
       "  \"Germany\"     => \"German\"\n",
       "  \"Greece\"      => \"Ελληνικά\"\n",
       "  \"US\"          => \"English\""
      ]
     },
     "execution_count": 10,
     "metadata": {},
     "output_type": "execute_result"
    }
   ],
   "source": [
    "language"
   ]
  },
  {
   "cell_type": "code",
   "execution_count": 11,
   "metadata": {},
   "outputs": [
    {
     "data": {
      "text/plain": [
       "\"German\""
      ]
     },
     "execution_count": 11,
     "metadata": {},
     "output_type": "execute_result"
    }
   ],
   "source": [
    "language[\"Switzerland\"][1]"
   ]
  },
  {
   "cell_type": "code",
   "execution_count": 12,
   "metadata": {},
   "outputs": [
    {
     "ename": "LoadError",
     "evalue": "MethodError: no method matching setindex!(::NTuple{4, String}, ::String, ::Int64)",
     "output_type": "error",
     "traceback": [
      "MethodError: no method matching setindex!(::NTuple{4, String}, ::String, ::Int64)",
      "",
      "Stacktrace:",
      " [1] top-level scope",
      "   @ In[12]:1",
      " [2] eval",
      "   @ ./boot.jl:360 [inlined]",
      " [3] include_string(mapexpr::typeof(REPL.softscope), mod::Module, code::String, filename::String)",
      "   @ Base ./loading.jl:1116"
     ]
    }
   ],
   "source": [
    "# We cannot change a value in a tuple\n",
    "language[\"Switzerland\"][1] = \"Deutsch\""
   ]
  },
  {
   "cell_type": "code",
   "execution_count": 13,
   "metadata": {},
   "outputs": [
    {
     "data": {
      "text/plain": [
       "\"Deutsch\""
      ]
     },
     "execution_count": 13,
     "metadata": {},
     "output_type": "execute_result"
    }
   ],
   "source": [
    "language[\"Germany\"] = \"Deutsch\""
   ]
  },
  {
   "cell_type": "code",
   "execution_count": 14,
   "metadata": {},
   "outputs": [
    {
     "data": {
      "text/plain": [
       "Dict{String, Any} with 4 entries:\n",
       "  \"Switzerland\" => (\"German\", \"French\", \"Italian\", \"Romanisch\")\n",
       "  \"Germany\"     => \"Deutsch\"\n",
       "  \"Greece\"      => \"Ελληνικά\"\n",
       "  \"US\"          => \"English\""
      ]
     },
     "execution_count": 14,
     "metadata": {},
     "output_type": "execute_result"
    }
   ],
   "source": [
    "language"
   ]
  },
  {
   "cell_type": "code",
   "execution_count": 18,
   "metadata": {},
   "outputs": [],
   "source": [
    "@assert language[\"Germany\"] == \"Deutsch\""
   ]
  },
  {
   "cell_type": "code",
   "execution_count": 21,
   "metadata": {},
   "outputs": [],
   "source": [
    "@assert length(float_tuple) == 3"
   ]
  },
  {
   "cell_type": "code",
   "execution_count": null,
   "metadata": {},
   "outputs": [],
   "source": []
  }
 ],
 "metadata": {
  "kernelspec": {
   "display_name": "Julia 1.6.3",
   "language": "julia",
   "name": "julia-1.6"
  },
  "language_info": {
   "file_extension": ".jl",
   "mimetype": "application/julia",
   "name": "julia",
   "version": "1.6.3"
  },
  "orig_nbformat": 4
 },
 "nbformat": 4,
 "nbformat_minor": 2
}
