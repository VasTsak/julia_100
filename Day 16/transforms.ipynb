{
 "cells": [
  {
   "cell_type": "code",
   "execution_count": 1,
   "metadata": {},
   "outputs": [],
   "source": [
    "using DataFrames"
   ]
  },
  {
   "cell_type": "markdown",
   "metadata": {},
   "source": [
    "# Split-apply-combine\n",
    "## Grouping a data frame"
   ]
  },
  {
   "cell_type": "code",
   "execution_count": 3,
   "metadata": {},
   "outputs": [
    {
     "data": {
      "text/html": [
       "<div class=\"data-frame\"><p>8 rows × 3 columns</p><table class=\"data-frame\"><thead><tr><th></th><th>id</th><th>id2</th><th>v</th></tr><tr><th></th><th title=\"Int64\">Int64</th><th title=\"Int64\">Int64</th><th title=\"Float64\">Float64</th></tr></thead><tbody><tr><th>1</th><td>1</td><td>1</td><td>0.431328</td></tr><tr><th>2</th><td>2</td><td>2</td><td>0.0905978</td></tr><tr><th>3</th><td>3</td><td>1</td><td>0.317119</td></tr><tr><th>4</th><td>4</td><td>2</td><td>0.956026</td></tr><tr><th>5</th><td>1</td><td>1</td><td>0.503421</td></tr><tr><th>6</th><td>2</td><td>2</td><td>0.564695</td></tr><tr><th>7</th><td>3</td><td>1</td><td>0.1342</td></tr><tr><th>8</th><td>4</td><td>2</td><td>0.968108</td></tr></tbody></table></div>"
      ],
      "text/latex": [
       "\\begin{tabular}{r|ccc}\n",
       "\t& id & id2 & v\\\\\n",
       "\t\\hline\n",
       "\t& Int64 & Int64 & Float64\\\\\n",
       "\t\\hline\n",
       "\t1 & 1 & 1 & 0.431328 \\\\\n",
       "\t2 & 2 & 2 & 0.0905978 \\\\\n",
       "\t3 & 3 & 1 & 0.317119 \\\\\n",
       "\t4 & 4 & 2 & 0.956026 \\\\\n",
       "\t5 & 1 & 1 & 0.503421 \\\\\n",
       "\t6 & 2 & 2 & 0.564695 \\\\\n",
       "\t7 & 3 & 1 & 0.1342 \\\\\n",
       "\t8 & 4 & 2 & 0.968108 \\\\\n",
       "\\end{tabular}\n"
      ],
      "text/plain": [
       "\u001b[1m8×3 DataFrame\u001b[0m\n",
       "\u001b[1m Row \u001b[0m│\u001b[1m id    \u001b[0m\u001b[1m id2   \u001b[0m\u001b[1m v         \u001b[0m\n",
       "\u001b[1m     \u001b[0m│\u001b[90m Int64 \u001b[0m\u001b[90m Int64 \u001b[0m\u001b[90m Float64   \u001b[0m\n",
       "─────┼─────────────────────────\n",
       "   1 │     1      1  0.431328\n",
       "   2 │     2      2  0.0905978\n",
       "   3 │     3      1  0.317119\n",
       "   4 │     4      2  0.956026\n",
       "   5 │     1      1  0.503421\n",
       "   6 │     2      2  0.564695\n",
       "   7 │     3      1  0.1342\n",
       "   8 │     4      2  0.968108"
      ]
     },
     "execution_count": 3,
     "metadata": {},
     "output_type": "execute_result"
    }
   ],
   "source": [
    "x = DataFrame(id=[1,2,3,4,1,2,3,4], id2=[1,2,1,2,1,2,1,2], v=rand(8))"
   ]
  },
  {
   "cell_type": "code",
   "execution_count": 4,
   "metadata": {},
   "outputs": [
    {
     "data": {
      "text/html": [
       "<p><b>GroupedDataFrame with 4 groups based on key: id</b></p><p><i>First Group (2 rows): id = 1</i></p><div class=\"data-frame\"><table class=\"data-frame\"><thead><tr><th></th><th>id</th><th>id2</th><th>v</th></tr><tr><th></th><th title=\"Int64\">Int64</th><th title=\"Int64\">Int64</th><th title=\"Float64\">Float64</th></tr></thead><tbody><tr><th>1</th><td>1</td><td>1</td><td>0.431328</td></tr><tr><th>2</th><td>1</td><td>1</td><td>0.503421</td></tr></tbody></table></div><p>&vellip;</p><p><i>Last Group (2 rows): id = 4</i></p><div class=\"data-frame\"><table class=\"data-frame\"><thead><tr><th></th><th>id</th><th>id2</th><th>v</th></tr><tr><th></th><th title=\"Int64\">Int64</th><th title=\"Int64\">Int64</th><th title=\"Float64\">Float64</th></tr></thead><tbody><tr><th>1</th><td>4</td><td>2</td><td>0.956026</td></tr><tr><th>2</th><td>4</td><td>2</td><td>0.968108</td></tr></tbody></table></div>"
      ],
      "text/latex": [
       "GroupedDataFrame with 4 groups based on key: id\n",
       "\n",
       "First Group (2 rows): id = 1\n",
       "\n",
       "\\begin{tabular}{r|ccc}\n",
       "\t& id & id2 & v\\\\\n",
       "\t\\hline\n",
       "\t& Int64 & Int64 & Float64\\\\\n",
       "\t\\hline\n",
       "\t1 & 1 & 1 & 0.431328 \\\\\n",
       "\t2 & 1 & 1 & 0.503421 \\\\\n",
       "\\end{tabular}\n",
       "\n",
       "$\\dots$\n",
       "\n",
       "Last Group (2 rows): id = 4\n",
       "\n",
       "\\begin{tabular}{r|ccc}\n",
       "\t& id & id2 & v\\\\\n",
       "\t\\hline\n",
       "\t& Int64 & Int64 & Float64\\\\\n",
       "\t\\hline\n",
       "\t1 & 4 & 2 & 0.956026 \\\\\n",
       "\t2 & 4 & 2 & 0.968108 \\\\\n",
       "\\end{tabular}\n"
      ],
      "text/plain": [
       "GroupedDataFrame with 4 groups based on key: id\n",
       "First Group (2 rows): id = 1\n",
       "\u001b[1m Row \u001b[0m│\u001b[1m id    \u001b[0m\u001b[1m id2   \u001b[0m\u001b[1m v        \u001b[0m\n",
       "\u001b[1m     \u001b[0m│\u001b[90m Int64 \u001b[0m\u001b[90m Int64 \u001b[0m\u001b[90m Float64  \u001b[0m\n",
       "─────┼────────────────────────\n",
       "   1 │     1      1  0.431328\n",
       "   2 │     1      1  0.503421\n",
       "⋮\n",
       "Last Group (2 rows): id = 4\n",
       "\u001b[1m Row \u001b[0m│\u001b[1m id    \u001b[0m\u001b[1m id2   \u001b[0m\u001b[1m v        \u001b[0m\n",
       "\u001b[1m     \u001b[0m│\u001b[90m Int64 \u001b[0m\u001b[90m Int64 \u001b[0m\u001b[90m Float64  \u001b[0m\n",
       "─────┼────────────────────────\n",
       "   1 │     4      2  0.956026\n",
       "   2 │     4      2  0.968108"
      ]
     },
     "execution_count": 4,
     "metadata": {},
     "output_type": "execute_result"
    }
   ],
   "source": [
    "groupby(x, :id)\n"
   ]
  },
  {
   "cell_type": "code",
   "execution_count": 5,
   "metadata": {},
   "outputs": [
    {
     "data": {
      "text/html": [
       "<p><b>GroupedDataFrame with 1 group based on key: </b></p><p><i>First Group (8 rows): </i></p><div class=\"data-frame\"><table class=\"data-frame\"><thead><tr><th></th><th>id</th><th>id2</th><th>v</th></tr><tr><th></th><th title=\"Int64\">Int64</th><th title=\"Int64\">Int64</th><th title=\"Float64\">Float64</th></tr></thead><tbody><tr><th>1</th><td>1</td><td>1</td><td>0.431328</td></tr><tr><th>2</th><td>2</td><td>2</td><td>0.0905978</td></tr><tr><th>3</th><td>3</td><td>1</td><td>0.317119</td></tr><tr><th>4</th><td>4</td><td>2</td><td>0.956026</td></tr><tr><th>5</th><td>1</td><td>1</td><td>0.503421</td></tr><tr><th>6</th><td>2</td><td>2</td><td>0.564695</td></tr><tr><th>7</th><td>3</td><td>1</td><td>0.1342</td></tr><tr><th>8</th><td>4</td><td>2</td><td>0.968108</td></tr></tbody></table></div>"
      ],
      "text/latex": [
       "GroupedDataFrame with 1 group based on key: \n",
       "\n",
       "First Group (8 rows): \n",
       "\n",
       "\\begin{tabular}{r|ccc}\n",
       "\t& id & id2 & v\\\\\n",
       "\t\\hline\n",
       "\t& Int64 & Int64 & Float64\\\\\n",
       "\t\\hline\n",
       "\t1 & 1 & 1 & 0.431328 \\\\\n",
       "\t2 & 2 & 2 & 0.0905978 \\\\\n",
       "\t3 & 3 & 1 & 0.317119 \\\\\n",
       "\t4 & 4 & 2 & 0.956026 \\\\\n",
       "\t5 & 1 & 1 & 0.503421 \\\\\n",
       "\t6 & 2 & 2 & 0.564695 \\\\\n",
       "\t7 & 3 & 1 & 0.1342 \\\\\n",
       "\t8 & 4 & 2 & 0.968108 \\\\\n",
       "\\end{tabular}\n"
      ],
      "text/plain": [
       "GroupedDataFrame with 1 group based on key: \n",
       "First Group (8 rows): \n",
       "\u001b[1m Row \u001b[0m│\u001b[1m id    \u001b[0m\u001b[1m id2   \u001b[0m\u001b[1m v         \u001b[0m\n",
       "\u001b[1m     \u001b[0m│\u001b[90m Int64 \u001b[0m\u001b[90m Int64 \u001b[0m\u001b[90m Float64   \u001b[0m\n",
       "─────┼─────────────────────────\n",
       "   1 │     1      1  0.431328\n",
       "   2 │     2      2  0.0905978\n",
       "   3 │     3      1  0.317119\n",
       "   4 │     4      2  0.956026\n",
       "   5 │     1      1  0.503421\n",
       "   6 │     2      2  0.564695\n",
       "   7 │     3      1  0.1342\n",
       "   8 │     4      2  0.968108"
      ]
     },
     "execution_count": 5,
     "metadata": {},
     "output_type": "execute_result"
    }
   ],
   "source": [
    "groupby(x, [])"
   ]
  },
  {
   "cell_type": "code",
   "execution_count": 6,
   "metadata": {},
   "outputs": [
    {
     "data": {
      "text/html": [
       "<p><b>GroupedDataFrame with 4 groups based on keys: id, id2</b></p><p><i>First Group (2 rows): id = 1, id2 = 1</i></p><div class=\"data-frame\"><table class=\"data-frame\"><thead><tr><th></th><th>id</th><th>id2</th><th>v</th></tr><tr><th></th><th title=\"Int64\">Int64</th><th title=\"Int64\">Int64</th><th title=\"Float64\">Float64</th></tr></thead><tbody><tr><th>1</th><td>1</td><td>1</td><td>0.431328</td></tr><tr><th>2</th><td>1</td><td>1</td><td>0.503421</td></tr></tbody></table></div><p>&vellip;</p><p><i>Last Group (2 rows): id = 4, id2 = 2</i></p><div class=\"data-frame\"><table class=\"data-frame\"><thead><tr><th></th><th>id</th><th>id2</th><th>v</th></tr><tr><th></th><th title=\"Int64\">Int64</th><th title=\"Int64\">Int64</th><th title=\"Float64\">Float64</th></tr></thead><tbody><tr><th>1</th><td>4</td><td>2</td><td>0.956026</td></tr><tr><th>2</th><td>4</td><td>2</td><td>0.968108</td></tr></tbody></table></div>"
      ],
      "text/latex": [
       "GroupedDataFrame with 4 groups based on keys: id, id2\n",
       "\n",
       "First Group (2 rows): id = 1, id2 = 1\n",
       "\n",
       "\\begin{tabular}{r|ccc}\n",
       "\t& id & id2 & v\\\\\n",
       "\t\\hline\n",
       "\t& Int64 & Int64 & Float64\\\\\n",
       "\t\\hline\n",
       "\t1 & 1 & 1 & 0.431328 \\\\\n",
       "\t2 & 1 & 1 & 0.503421 \\\\\n",
       "\\end{tabular}\n",
       "\n",
       "$\\dots$\n",
       "\n",
       "Last Group (2 rows): id = 4, id2 = 2\n",
       "\n",
       "\\begin{tabular}{r|ccc}\n",
       "\t& id & id2 & v\\\\\n",
       "\t\\hline\n",
       "\t& Int64 & Int64 & Float64\\\\\n",
       "\t\\hline\n",
       "\t1 & 4 & 2 & 0.956026 \\\\\n",
       "\t2 & 4 & 2 & 0.968108 \\\\\n",
       "\\end{tabular}\n"
      ],
      "text/plain": [
       "GroupedDataFrame with 4 groups based on keys: id, id2\n",
       "First Group (2 rows): id = 1, id2 = 1\n",
       "\u001b[1m Row \u001b[0m│\u001b[1m id    \u001b[0m\u001b[1m id2   \u001b[0m\u001b[1m v        \u001b[0m\n",
       "\u001b[1m     \u001b[0m│\u001b[90m Int64 \u001b[0m\u001b[90m Int64 \u001b[0m\u001b[90m Float64  \u001b[0m\n",
       "─────┼────────────────────────\n",
       "   1 │     1      1  0.431328\n",
       "   2 │     1      1  0.503421\n",
       "⋮\n",
       "Last Group (2 rows): id = 4, id2 = 2\n",
       "\u001b[1m Row \u001b[0m│\u001b[1m id    \u001b[0m\u001b[1m id2   \u001b[0m\u001b[1m v        \u001b[0m\n",
       "\u001b[1m     \u001b[0m│\u001b[90m Int64 \u001b[0m\u001b[90m Int64 \u001b[0m\u001b[90m Float64  \u001b[0m\n",
       "─────┼────────────────────────\n",
       "   1 │     4      2  0.956026\n",
       "   2 │     4      2  0.968108"
      ]
     },
     "execution_count": 6,
     "metadata": {},
     "output_type": "execute_result"
    }
   ],
   "source": [
    "gx2 = groupby(x, [:id, :id2])"
   ]
  },
  {
   "cell_type": "code",
   "execution_count": 7,
   "metadata": {},
   "outputs": [
    {
     "data": {
      "text/html": [
       "<div class=\"data-frame\"><p>8 rows × 3 columns</p><table class=\"data-frame\"><thead><tr><th></th><th>id</th><th>id2</th><th>v</th></tr><tr><th></th><th title=\"Int64\">Int64</th><th title=\"Int64\">Int64</th><th title=\"Float64\">Float64</th></tr></thead><tbody><tr><th>1</th><td>1</td><td>1</td><td>0.431328</td></tr><tr><th>2</th><td>2</td><td>2</td><td>0.0905978</td></tr><tr><th>3</th><td>3</td><td>1</td><td>0.317119</td></tr><tr><th>4</th><td>4</td><td>2</td><td>0.956026</td></tr><tr><th>5</th><td>1</td><td>1</td><td>0.503421</td></tr><tr><th>6</th><td>2</td><td>2</td><td>0.564695</td></tr><tr><th>7</th><td>3</td><td>1</td><td>0.1342</td></tr><tr><th>8</th><td>4</td><td>2</td><td>0.968108</td></tr></tbody></table></div>"
      ],
      "text/latex": [
       "\\begin{tabular}{r|ccc}\n",
       "\t& id & id2 & v\\\\\n",
       "\t\\hline\n",
       "\t& Int64 & Int64 & Float64\\\\\n",
       "\t\\hline\n",
       "\t1 & 1 & 1 & 0.431328 \\\\\n",
       "\t2 & 2 & 2 & 0.0905978 \\\\\n",
       "\t3 & 3 & 1 & 0.317119 \\\\\n",
       "\t4 & 4 & 2 & 0.956026 \\\\\n",
       "\t5 & 1 & 1 & 0.503421 \\\\\n",
       "\t6 & 2 & 2 & 0.564695 \\\\\n",
       "\t7 & 3 & 1 & 0.1342 \\\\\n",
       "\t8 & 4 & 2 & 0.968108 \\\\\n",
       "\\end{tabular}\n"
      ],
      "text/plain": [
       "\u001b[1m8×3 DataFrame\u001b[0m\n",
       "\u001b[1m Row \u001b[0m│\u001b[1m id    \u001b[0m\u001b[1m id2   \u001b[0m\u001b[1m v         \u001b[0m\n",
       "\u001b[1m     \u001b[0m│\u001b[90m Int64 \u001b[0m\u001b[90m Int64 \u001b[0m\u001b[90m Float64   \u001b[0m\n",
       "─────┼─────────────────────────\n",
       "   1 │     1      1  0.431328\n",
       "   2 │     2      2  0.0905978\n",
       "   3 │     3      1  0.317119\n",
       "   4 │     4      2  0.956026\n",
       "   5 │     1      1  0.503421\n",
       "   6 │     2      2  0.564695\n",
       "   7 │     3      1  0.1342\n",
       "   8 │     4      2  0.968108"
      ]
     },
     "execution_count": 7,
     "metadata": {},
     "output_type": "execute_result"
    }
   ],
   "source": [
    "parent(gx2) # get the parent DataFrame"
   ]
  },
  {
   "cell_type": "code",
   "execution_count": 8,
   "metadata": {},
   "outputs": [
    {
     "data": {
      "text/html": [
       "<div class=\"data-frame\"><p>8 rows × 3 columns</p><table class=\"data-frame\"><thead><tr><th></th><th>id</th><th>id2</th><th>v</th></tr><tr><th></th><th title=\"Int64\">Int64</th><th title=\"Int64\">Int64</th><th title=\"Float64\">Float64</th></tr></thead><tbody><tr><th>1</th><td>1</td><td>1</td><td>0.431328</td></tr><tr><th>2</th><td>1</td><td>1</td><td>0.503421</td></tr><tr><th>3</th><td>2</td><td>2</td><td>0.0905978</td></tr><tr><th>4</th><td>2</td><td>2</td><td>0.564695</td></tr><tr><th>5</th><td>3</td><td>1</td><td>0.317119</td></tr><tr><th>6</th><td>3</td><td>1</td><td>0.1342</td></tr><tr><th>7</th><td>4</td><td>2</td><td>0.956026</td></tr><tr><th>8</th><td>4</td><td>2</td><td>0.968108</td></tr></tbody></table></div>"
      ],
      "text/latex": [
       "\\begin{tabular}{r|ccc}\n",
       "\t& id & id2 & v\\\\\n",
       "\t\\hline\n",
       "\t& Int64 & Int64 & Float64\\\\\n",
       "\t\\hline\n",
       "\t1 & 1 & 1 & 0.431328 \\\\\n",
       "\t2 & 1 & 1 & 0.503421 \\\\\n",
       "\t3 & 2 & 2 & 0.0905978 \\\\\n",
       "\t4 & 2 & 2 & 0.564695 \\\\\n",
       "\t5 & 3 & 1 & 0.317119 \\\\\n",
       "\t6 & 3 & 1 & 0.1342 \\\\\n",
       "\t7 & 4 & 2 & 0.956026 \\\\\n",
       "\t8 & 4 & 2 & 0.968108 \\\\\n",
       "\\end{tabular}\n"
      ],
      "text/plain": [
       "\u001b[1m8×3 DataFrame\u001b[0m\n",
       "\u001b[1m Row \u001b[0m│\u001b[1m id    \u001b[0m\u001b[1m id2   \u001b[0m\u001b[1m v         \u001b[0m\n",
       "\u001b[1m     \u001b[0m│\u001b[90m Int64 \u001b[0m\u001b[90m Int64 \u001b[0m\u001b[90m Float64   \u001b[0m\n",
       "─────┼─────────────────────────\n",
       "   1 │     1      1  0.431328\n",
       "   2 │     1      1  0.503421\n",
       "   3 │     2      2  0.0905978\n",
       "   4 │     2      2  0.564695\n",
       "   5 │     3      1  0.317119\n",
       "   6 │     3      1  0.1342\n",
       "   7 │     4      2  0.956026\n",
       "   8 │     4      2  0.968108"
      ]
     },
     "execution_count": 8,
     "metadata": {},
     "output_type": "execute_result"
    }
   ],
   "source": [
    "vcat(gx2...) # back to the DataFrame, but in a different order of rows than the original"
   ]
  },
  {
   "cell_type": "code",
   "execution_count": 9,
   "metadata": {},
   "outputs": [
    {
     "data": {
      "text/html": [
       "<div class=\"data-frame\"><p>8 rows × 3 columns</p><table class=\"data-frame\"><thead><tr><th></th><th>id</th><th>id2</th><th>v</th></tr><tr><th></th><th title=\"Int64\">Int64</th><th title=\"Int64\">Int64</th><th title=\"Float64\">Float64</th></tr></thead><tbody><tr><th>1</th><td>1</td><td>1</td><td>0.431328</td></tr><tr><th>2</th><td>1</td><td>1</td><td>0.503421</td></tr><tr><th>3</th><td>2</td><td>2</td><td>0.0905978</td></tr><tr><th>4</th><td>2</td><td>2</td><td>0.564695</td></tr><tr><th>5</th><td>3</td><td>1</td><td>0.317119</td></tr><tr><th>6</th><td>3</td><td>1</td><td>0.1342</td></tr><tr><th>7</th><td>4</td><td>2</td><td>0.956026</td></tr><tr><th>8</th><td>4</td><td>2</td><td>0.968108</td></tr></tbody></table></div>"
      ],
      "text/latex": [
       "\\begin{tabular}{r|ccc}\n",
       "\t& id & id2 & v\\\\\n",
       "\t\\hline\n",
       "\t& Int64 & Int64 & Float64\\\\\n",
       "\t\\hline\n",
       "\t1 & 1 & 1 & 0.431328 \\\\\n",
       "\t2 & 1 & 1 & 0.503421 \\\\\n",
       "\t3 & 2 & 2 & 0.0905978 \\\\\n",
       "\t4 & 2 & 2 & 0.564695 \\\\\n",
       "\t5 & 3 & 1 & 0.317119 \\\\\n",
       "\t6 & 3 & 1 & 0.1342 \\\\\n",
       "\t7 & 4 & 2 & 0.956026 \\\\\n",
       "\t8 & 4 & 2 & 0.968108 \\\\\n",
       "\\end{tabular}\n"
      ],
      "text/plain": [
       "\u001b[1m8×3 DataFrame\u001b[0m\n",
       "\u001b[1m Row \u001b[0m│\u001b[1m id    \u001b[0m\u001b[1m id2   \u001b[0m\u001b[1m v         \u001b[0m\n",
       "\u001b[1m     \u001b[0m│\u001b[90m Int64 \u001b[0m\u001b[90m Int64 \u001b[0m\u001b[90m Float64   \u001b[0m\n",
       "─────┼─────────────────────────\n",
       "   1 │     1      1  0.431328\n",
       "   2 │     1      1  0.503421\n",
       "   3 │     2      2  0.0905978\n",
       "   4 │     2      2  0.564695\n",
       "   5 │     3      1  0.317119\n",
       "   6 │     3      1  0.1342\n",
       "   7 │     4      2  0.956026\n",
       "   8 │     4      2  0.968108"
      ]
     },
     "execution_count": 9,
     "metadata": {},
     "output_type": "execute_result"
    }
   ],
   "source": [
    "DataFrame(gx2) # the same"
   ]
  },
  {
   "cell_type": "code",
   "execution_count": 10,
   "metadata": {},
   "outputs": [
    {
     "data": {
      "text/html": [
       "<div class=\"data-frame\"><p>8 rows × 1 columns</p><table class=\"data-frame\"><thead><tr><th></th><th>v</th></tr><tr><th></th><th title=\"Float64\">Float64</th></tr></thead><tbody><tr><th>1</th><td>0.431328</td></tr><tr><th>2</th><td>0.503421</td></tr><tr><th>3</th><td>0.0905978</td></tr><tr><th>4</th><td>0.564695</td></tr><tr><th>5</th><td>0.317119</td></tr><tr><th>6</th><td>0.1342</td></tr><tr><th>7</th><td>0.956026</td></tr><tr><th>8</th><td>0.968108</td></tr></tbody></table></div>"
      ],
      "text/latex": [
       "\\begin{tabular}{r|c}\n",
       "\t& v\\\\\n",
       "\t\\hline\n",
       "\t& Float64\\\\\n",
       "\t\\hline\n",
       "\t1 & 0.431328 \\\\\n",
       "\t2 & 0.503421 \\\\\n",
       "\t3 & 0.0905978 \\\\\n",
       "\t4 & 0.564695 \\\\\n",
       "\t5 & 0.317119 \\\\\n",
       "\t6 & 0.1342 \\\\\n",
       "\t7 & 0.956026 \\\\\n",
       "\t8 & 0.968108 \\\\\n",
       "\\end{tabular}\n"
      ],
      "text/plain": [
       "\u001b[1m8×1 DataFrame\u001b[0m\n",
       "\u001b[1m Row \u001b[0m│\u001b[1m v         \u001b[0m\n",
       "\u001b[1m     \u001b[0m│\u001b[90m Float64   \u001b[0m\n",
       "─────┼───────────\n",
       "   1 │ 0.431328\n",
       "   2 │ 0.503421\n",
       "   3 │ 0.0905978\n",
       "   4 │ 0.564695\n",
       "   5 │ 0.317119\n",
       "   6 │ 0.1342\n",
       "   7 │ 0.956026\n",
       "   8 │ 0.968108"
      ]
     },
     "execution_count": 10,
     "metadata": {},
     "output_type": "execute_result"
    }
   ],
   "source": [
    "DataFrame(gx2, keepkeys=false) # drop grouping columns when creating a data frame\n"
   ]
  },
  {
   "cell_type": "code",
   "execution_count": 11,
   "metadata": {},
   "outputs": [
    {
     "data": {
      "text/plain": [
       "2-element Vector{Symbol}:\n",
       " :id\n",
       " :id2"
      ]
     },
     "execution_count": 11,
     "metadata": {},
     "output_type": "execute_result"
    }
   ],
   "source": [
    "groupcols(gx2) # vector of names of grouping variables"
   ]
  },
  {
   "cell_type": "code",
   "execution_count": 12,
   "metadata": {},
   "outputs": [
    {
     "data": {
      "text/plain": [
       "1-element Vector{Symbol}:\n",
       " :v"
      ]
     },
     "execution_count": 12,
     "metadata": {},
     "output_type": "execute_result"
    }
   ],
   "source": [
    "valuecols(gx2) # and non-grouping variables\n"
   ]
  },
  {
   "cell_type": "code",
   "execution_count": 13,
   "metadata": {},
   "outputs": [
    {
     "data": {
      "text/plain": [
       "8-element Vector{Union{Missing, Int64}}:\n",
       " 1\n",
       " 2\n",
       " 3\n",
       " 4\n",
       " 1\n",
       " 2\n",
       " 3\n",
       " 4"
      ]
     },
     "execution_count": 13,
     "metadata": {},
     "output_type": "execute_result"
    }
   ],
   "source": [
    "groupindices(gx2) # group indices in parent(gx2)"
   ]
  },
  {
   "cell_type": "code",
   "execution_count": 14,
   "metadata": {},
   "outputs": [
    {
     "data": {
      "text/plain": [
       "4-element DataFrames.GroupKeys{GroupedDataFrame{DataFrame}}:\n",
       " GroupKey: (id = 1, id2 = 1)\n",
       " GroupKey: (id = 2, id2 = 2)\n",
       " GroupKey: (id = 3, id2 = 1)\n",
       " GroupKey: (id = 4, id2 = 2)"
      ]
     },
     "execution_count": 14,
     "metadata": {},
     "output_type": "execute_result"
    }
   ],
   "source": [
    "kgx2 = keys(gx2)"
   ]
  },
  {
   "cell_type": "markdown",
   "metadata": {},
   "source": [
    "You can index into a `GroupedDataFrame` like to a vector or to a dictionary. The second form acceps `GroupKey`, `NamedTuple` or a `Tuple`\n"
   ]
  },
  {
   "cell_type": "code",
   "execution_count": 15,
   "metadata": {},
   "outputs": [
    {
     "data": {
      "text/html": [
       "<p><b>GroupedDataFrame with 4 groups based on keys: id, id2</b></p><p><i>First Group (2 rows): id = 1, id2 = 1</i></p><div class=\"data-frame\"><table class=\"data-frame\"><thead><tr><th></th><th>id</th><th>id2</th><th>v</th></tr><tr><th></th><th title=\"Int64\">Int64</th><th title=\"Int64\">Int64</th><th title=\"Float64\">Float64</th></tr></thead><tbody><tr><th>1</th><td>1</td><td>1</td><td>0.431328</td></tr><tr><th>2</th><td>1</td><td>1</td><td>0.503421</td></tr></tbody></table></div><p>&vellip;</p><p><i>Last Group (2 rows): id = 4, id2 = 2</i></p><div class=\"data-frame\"><table class=\"data-frame\"><thead><tr><th></th><th>id</th><th>id2</th><th>v</th></tr><tr><th></th><th title=\"Int64\">Int64</th><th title=\"Int64\">Int64</th><th title=\"Float64\">Float64</th></tr></thead><tbody><tr><th>1</th><td>4</td><td>2</td><td>0.956026</td></tr><tr><th>2</th><td>4</td><td>2</td><td>0.968108</td></tr></tbody></table></div>"
      ],
      "text/latex": [
       "GroupedDataFrame with 4 groups based on keys: id, id2\n",
       "\n",
       "First Group (2 rows): id = 1, id2 = 1\n",
       "\n",
       "\\begin{tabular}{r|ccc}\n",
       "\t& id & id2 & v\\\\\n",
       "\t\\hline\n",
       "\t& Int64 & Int64 & Float64\\\\\n",
       "\t\\hline\n",
       "\t1 & 1 & 1 & 0.431328 \\\\\n",
       "\t2 & 1 & 1 & 0.503421 \\\\\n",
       "\\end{tabular}\n",
       "\n",
       "$\\dots$\n",
       "\n",
       "Last Group (2 rows): id = 4, id2 = 2\n",
       "\n",
       "\\begin{tabular}{r|ccc}\n",
       "\t& id & id2 & v\\\\\n",
       "\t\\hline\n",
       "\t& Int64 & Int64 & Float64\\\\\n",
       "\t\\hline\n",
       "\t1 & 4 & 2 & 0.956026 \\\\\n",
       "\t2 & 4 & 2 & 0.968108 \\\\\n",
       "\\end{tabular}\n"
      ],
      "text/plain": [
       "GroupedDataFrame with 4 groups based on keys: id, id2\n",
       "First Group (2 rows): id = 1, id2 = 1\n",
       "\u001b[1m Row \u001b[0m│\u001b[1m id    \u001b[0m\u001b[1m id2   \u001b[0m\u001b[1m v        \u001b[0m\n",
       "\u001b[1m     \u001b[0m│\u001b[90m Int64 \u001b[0m\u001b[90m Int64 \u001b[0m\u001b[90m Float64  \u001b[0m\n",
       "─────┼────────────────────────\n",
       "   1 │     1      1  0.431328\n",
       "   2 │     1      1  0.503421\n",
       "⋮\n",
       "Last Group (2 rows): id = 4, id2 = 2\n",
       "\u001b[1m Row \u001b[0m│\u001b[1m id    \u001b[0m\u001b[1m id2   \u001b[0m\u001b[1m v        \u001b[0m\n",
       "\u001b[1m     \u001b[0m│\u001b[90m Int64 \u001b[0m\u001b[90m Int64 \u001b[0m\u001b[90m Float64  \u001b[0m\n",
       "─────┼────────────────────────\n",
       "   1 │     4      2  0.956026\n",
       "   2 │     4      2  0.968108"
      ]
     },
     "execution_count": 15,
     "metadata": {},
     "output_type": "execute_result"
    }
   ],
   "source": [
    "gx2"
   ]
  },
  {
   "cell_type": "code",
   "execution_count": 16,
   "metadata": {},
   "outputs": [
    {
     "data": {
      "text/plain": [
       "GroupKey: (id = 1, id2 = 1)"
      ]
     },
     "execution_count": 16,
     "metadata": {},
     "output_type": "execute_result"
    }
   ],
   "source": [
    "k = keys(gx2)[1]"
   ]
  },
  {
   "cell_type": "code",
   "execution_count": 17,
   "metadata": {},
   "outputs": [
    {
     "data": {
      "text/plain": [
       "(id = 1, id2 = 1)"
      ]
     },
     "execution_count": 17,
     "metadata": {},
     "output_type": "execute_result"
    }
   ],
   "source": [
    "ntk = NamedTuple(k)"
   ]
  },
  {
   "cell_type": "code",
   "execution_count": 18,
   "metadata": {},
   "outputs": [
    {
     "data": {
      "text/plain": [
       "(1, 1)"
      ]
     },
     "execution_count": 18,
     "metadata": {},
     "output_type": "execute_result"
    }
   ],
   "source": [
    "tk = Tuple(k)\n"
   ]
  },
  {
   "cell_type": "markdown",
   "metadata": {},
   "source": [
    "the operations below produce the same result and are fast"
   ]
  },
  {
   "cell_type": "code",
   "execution_count": 19,
   "metadata": {},
   "outputs": [
    {
     "data": {
      "text/html": [
       "<div class=\"data-frame\"><p>2 rows × 3 columns</p><table class=\"data-frame\"><thead><tr><th></th><th>id</th><th>id2</th><th>v</th></tr><tr><th></th><th title=\"Int64\">Int64</th><th title=\"Int64\">Int64</th><th title=\"Float64\">Float64</th></tr></thead><tbody><tr><th>1</th><td>1</td><td>1</td><td>0.431328</td></tr><tr><th>2</th><td>1</td><td>1</td><td>0.503421</td></tr></tbody></table></div>"
      ],
      "text/latex": [
       "\\begin{tabular}{r|ccc}\n",
       "\t& id & id2 & v\\\\\n",
       "\t\\hline\n",
       "\t& Int64 & Int64 & Float64\\\\\n",
       "\t\\hline\n",
       "\t1 & 1 & 1 & 0.431328 \\\\\n",
       "\t2 & 1 & 1 & 0.503421 \\\\\n",
       "\\end{tabular}\n"
      ],
      "text/plain": [
       "\u001b[1m2×3 SubDataFrame\u001b[0m\n",
       "\u001b[1m Row \u001b[0m│\u001b[1m id    \u001b[0m\u001b[1m id2   \u001b[0m\u001b[1m v        \u001b[0m\n",
       "\u001b[1m     \u001b[0m│\u001b[90m Int64 \u001b[0m\u001b[90m Int64 \u001b[0m\u001b[90m Float64  \u001b[0m\n",
       "─────┼────────────────────────\n",
       "   1 │     1      1  0.431328\n",
       "   2 │     1      1  0.503421"
      ]
     },
     "execution_count": 19,
     "metadata": {},
     "output_type": "execute_result"
    }
   ],
   "source": [
    "gx2[1]"
   ]
  },
  {
   "cell_type": "code",
   "execution_count": 20,
   "metadata": {},
   "outputs": [
    {
     "data": {
      "text/html": [
       "<div class=\"data-frame\"><p>2 rows × 3 columns</p><table class=\"data-frame\"><thead><tr><th></th><th>id</th><th>id2</th><th>v</th></tr><tr><th></th><th title=\"Int64\">Int64</th><th title=\"Int64\">Int64</th><th title=\"Float64\">Float64</th></tr></thead><tbody><tr><th>1</th><td>1</td><td>1</td><td>0.431328</td></tr><tr><th>2</th><td>1</td><td>1</td><td>0.503421</td></tr></tbody></table></div>"
      ],
      "text/latex": [
       "\\begin{tabular}{r|ccc}\n",
       "\t& id & id2 & v\\\\\n",
       "\t\\hline\n",
       "\t& Int64 & Int64 & Float64\\\\\n",
       "\t\\hline\n",
       "\t1 & 1 & 1 & 0.431328 \\\\\n",
       "\t2 & 1 & 1 & 0.503421 \\\\\n",
       "\\end{tabular}\n"
      ],
      "text/plain": [
       "\u001b[1m2×3 SubDataFrame\u001b[0m\n",
       "\u001b[1m Row \u001b[0m│\u001b[1m id    \u001b[0m\u001b[1m id2   \u001b[0m\u001b[1m v        \u001b[0m\n",
       "\u001b[1m     \u001b[0m│\u001b[90m Int64 \u001b[0m\u001b[90m Int64 \u001b[0m\u001b[90m Float64  \u001b[0m\n",
       "─────┼────────────────────────\n",
       "   1 │     1      1  0.431328\n",
       "   2 │     1      1  0.503421"
      ]
     },
     "execution_count": 20,
     "metadata": {},
     "output_type": "execute_result"
    }
   ],
   "source": [
    "gx2[k]"
   ]
  },
  {
   "cell_type": "code",
   "execution_count": 21,
   "metadata": {},
   "outputs": [
    {
     "data": {
      "text/html": [
       "<div class=\"data-frame\"><p>2 rows × 3 columns</p><table class=\"data-frame\"><thead><tr><th></th><th>id</th><th>id2</th><th>v</th></tr><tr><th></th><th title=\"Int64\">Int64</th><th title=\"Int64\">Int64</th><th title=\"Float64\">Float64</th></tr></thead><tbody><tr><th>1</th><td>1</td><td>1</td><td>0.431328</td></tr><tr><th>2</th><td>1</td><td>1</td><td>0.503421</td></tr></tbody></table></div>"
      ],
      "text/latex": [
       "\\begin{tabular}{r|ccc}\n",
       "\t& id & id2 & v\\\\\n",
       "\t\\hline\n",
       "\t& Int64 & Int64 & Float64\\\\\n",
       "\t\\hline\n",
       "\t1 & 1 & 1 & 0.431328 \\\\\n",
       "\t2 & 1 & 1 & 0.503421 \\\\\n",
       "\\end{tabular}\n"
      ],
      "text/plain": [
       "\u001b[1m2×3 SubDataFrame\u001b[0m\n",
       "\u001b[1m Row \u001b[0m│\u001b[1m id    \u001b[0m\u001b[1m id2   \u001b[0m\u001b[1m v        \u001b[0m\n",
       "\u001b[1m     \u001b[0m│\u001b[90m Int64 \u001b[0m\u001b[90m Int64 \u001b[0m\u001b[90m Float64  \u001b[0m\n",
       "─────┼────────────────────────\n",
       "   1 │     1      1  0.431328\n",
       "   2 │     1      1  0.503421"
      ]
     },
     "execution_count": 21,
     "metadata": {},
     "output_type": "execute_result"
    }
   ],
   "source": [
    "gx2[ntk]"
   ]
  },
  {
   "cell_type": "code",
   "execution_count": 22,
   "metadata": {},
   "outputs": [
    {
     "data": {
      "text/html": [
       "<div class=\"data-frame\"><p>2 rows × 3 columns</p><table class=\"data-frame\"><thead><tr><th></th><th>id</th><th>id2</th><th>v</th></tr><tr><th></th><th title=\"Int64\">Int64</th><th title=\"Int64\">Int64</th><th title=\"Float64\">Float64</th></tr></thead><tbody><tr><th>1</th><td>1</td><td>1</td><td>0.431328</td></tr><tr><th>2</th><td>1</td><td>1</td><td>0.503421</td></tr></tbody></table></div>"
      ],
      "text/latex": [
       "\\begin{tabular}{r|ccc}\n",
       "\t& id & id2 & v\\\\\n",
       "\t\\hline\n",
       "\t& Int64 & Int64 & Float64\\\\\n",
       "\t\\hline\n",
       "\t1 & 1 & 1 & 0.431328 \\\\\n",
       "\t2 & 1 & 1 & 0.503421 \\\\\n",
       "\\end{tabular}\n"
      ],
      "text/plain": [
       "\u001b[1m2×3 SubDataFrame\u001b[0m\n",
       "\u001b[1m Row \u001b[0m│\u001b[1m id    \u001b[0m\u001b[1m id2   \u001b[0m\u001b[1m v        \u001b[0m\n",
       "\u001b[1m     \u001b[0m│\u001b[90m Int64 \u001b[0m\u001b[90m Int64 \u001b[0m\u001b[90m Float64  \u001b[0m\n",
       "─────┼────────────────────────\n",
       "   1 │     1      1  0.431328\n",
       "   2 │     1      1  0.503421"
      ]
     },
     "execution_count": 22,
     "metadata": {},
     "output_type": "execute_result"
    }
   ],
   "source": [
    "gx2[tk]"
   ]
  },
  {
   "cell_type": "code",
   "execution_count": 23,
   "metadata": {},
   "outputs": [
    {
     "data": {
      "text/html": [
       "<div class=\"data-frame\"><p>5 rows × 2 columns</p><table class=\"data-frame\"><thead><tr><th></th><th>id</th><th>x</th></tr><tr><th></th><th title=\"Union{Missing, Int64}\">Int64?</th><th title=\"Int64\">Int64</th></tr></thead><tbody><tr><th>1</th><td><em>missing</em></td><td>1</td></tr><tr><th>2</th><td>5</td><td>2</td></tr><tr><th>3</th><td>1</td><td>3</td></tr><tr><th>4</th><td>3</td><td>4</td></tr><tr><th>5</th><td><em>missing</em></td><td>5</td></tr></tbody></table></div>"
      ],
      "text/latex": [
       "\\begin{tabular}{r|cc}\n",
       "\t& id & x\\\\\n",
       "\t\\hline\n",
       "\t& Int64? & Int64\\\\\n",
       "\t\\hline\n",
       "\t1 & \\emph{missing} & 1 \\\\\n",
       "\t2 & 5 & 2 \\\\\n",
       "\t3 & 1 & 3 \\\\\n",
       "\t4 & 3 & 4 \\\\\n",
       "\t5 & \\emph{missing} & 5 \\\\\n",
       "\\end{tabular}\n"
      ],
      "text/plain": [
       "\u001b[1m5×2 DataFrame\u001b[0m\n",
       "\u001b[1m Row \u001b[0m│\u001b[1m id      \u001b[0m\u001b[1m x     \u001b[0m\n",
       "\u001b[1m     \u001b[0m│\u001b[90m Int64?  \u001b[0m\u001b[90m Int64 \u001b[0m\n",
       "─────┼────────────────\n",
       "   1 │\u001b[90m missing \u001b[0m     1\n",
       "   2 │       5      2\n",
       "   3 │       1      3\n",
       "   4 │       3      4\n",
       "   5 │\u001b[90m missing \u001b[0m     5"
      ]
     },
     "execution_count": 23,
     "metadata": {},
     "output_type": "execute_result"
    }
   ],
   "source": [
    "x = DataFrame(id = [missing, 5, 1, 3, missing], x = 1:5)"
   ]
  },
  {
   "cell_type": "code",
   "execution_count": 24,
   "metadata": {},
   "outputs": [
    {
     "data": {
      "text/html": [
       "<p><b>GroupedDataFrame with 4 groups based on key: id</b></p><p><i>First Group (1 row): id = 1</i></p><div class=\"data-frame\"><table class=\"data-frame\"><thead><tr><th></th><th>id</th><th>x</th></tr><tr><th></th><th title=\"Union{Missing, Int64}\">Int64?</th><th title=\"Int64\">Int64</th></tr></thead><tbody><tr><th>1</th><td>1</td><td>3</td></tr></tbody></table></div><p>&vellip;</p><p><i>Last Group (2 rows): id = missing</i></p><div class=\"data-frame\"><table class=\"data-frame\"><thead><tr><th></th><th>id</th><th>x</th></tr><tr><th></th><th title=\"Union{Missing, Int64}\">Int64?</th><th title=\"Int64\">Int64</th></tr></thead><tbody><tr><th>1</th><td><em>missing</em></td><td>1</td></tr><tr><th>2</th><td><em>missing</em></td><td>5</td></tr></tbody></table></div>"
      ],
      "text/latex": [
       "GroupedDataFrame with 4 groups based on key: id\n",
       "\n",
       "First Group (1 row): id = 1\n",
       "\n",
       "\\begin{tabular}{r|cc}\n",
       "\t& id & x\\\\\n",
       "\t\\hline\n",
       "\t& Int64? & Int64\\\\\n",
       "\t\\hline\n",
       "\t1 & 1 & 3 \\\\\n",
       "\\end{tabular}\n",
       "\n",
       "$\\dots$\n",
       "\n",
       "Last Group (2 rows): id = missing\n",
       "\n",
       "\\begin{tabular}{r|cc}\n",
       "\t& id & x\\\\\n",
       "\t\\hline\n",
       "\t& Int64? & Int64\\\\\n",
       "\t\\hline\n",
       "\t1 & \\emph{missing} & 1 \\\\\n",
       "\t2 & \\emph{missing} & 5 \\\\\n",
       "\\end{tabular}\n"
      ],
      "text/plain": [
       "GroupedDataFrame with 4 groups based on key: id\n",
       "First Group (1 row): id = 1\n",
       "\u001b[1m Row \u001b[0m│\u001b[1m id     \u001b[0m\u001b[1m x     \u001b[0m\n",
       "\u001b[1m     \u001b[0m│\u001b[90m Int64? \u001b[0m\u001b[90m Int64 \u001b[0m\n",
       "─────┼───────────────\n",
       "   1 │      1      3\n",
       "⋮\n",
       "Last Group (2 rows): id = missing\n",
       "\u001b[1m Row \u001b[0m│\u001b[1m id      \u001b[0m\u001b[1m x     \u001b[0m\n",
       "\u001b[1m     \u001b[0m│\u001b[90m Int64?  \u001b[0m\u001b[90m Int64 \u001b[0m\n",
       "─────┼────────────────\n",
       "   1 │\u001b[90m missing \u001b[0m     1\n",
       "   2 │\u001b[90m missing \u001b[0m     5"
      ]
     },
     "execution_count": 24,
     "metadata": {},
     "output_type": "execute_result"
    }
   ],
   "source": [
    "groupby(x, :id) # by default groups include mising values and their order is not guaranteed"
   ]
  },
  {
   "cell_type": "code",
   "execution_count": 25,
   "metadata": {},
   "outputs": [
    {
     "data": {
      "text/html": [
       "<p><b>GroupedDataFrame with 3 groups based on key: id</b></p><p><i>First Group (1 row): id = 1</i></p><div class=\"data-frame\"><table class=\"data-frame\"><thead><tr><th></th><th>id</th><th>x</th></tr><tr><th></th><th title=\"Union{Missing, Int64}\">Int64?</th><th title=\"Int64\">Int64</th></tr></thead><tbody><tr><th>1</th><td>1</td><td>3</td></tr></tbody></table></div><p>&vellip;</p><p><i>Last Group (1 row): id = 5</i></p><div class=\"data-frame\"><table class=\"data-frame\"><thead><tr><th></th><th>id</th><th>x</th></tr><tr><th></th><th title=\"Union{Missing, Int64}\">Int64?</th><th title=\"Int64\">Int64</th></tr></thead><tbody><tr><th>1</th><td>5</td><td>2</td></tr></tbody></table></div>"
      ],
      "text/latex": [
       "GroupedDataFrame with 3 groups based on key: id\n",
       "\n",
       "First Group (1 row): id = 1\n",
       "\n",
       "\\begin{tabular}{r|cc}\n",
       "\t& id & x\\\\\n",
       "\t\\hline\n",
       "\t& Int64? & Int64\\\\\n",
       "\t\\hline\n",
       "\t1 & 1 & 3 \\\\\n",
       "\\end{tabular}\n",
       "\n",
       "$\\dots$\n",
       "\n",
       "Last Group (1 row): id = 5\n",
       "\n",
       "\\begin{tabular}{r|cc}\n",
       "\t& id & x\\\\\n",
       "\t\\hline\n",
       "\t& Int64? & Int64\\\\\n",
       "\t\\hline\n",
       "\t1 & 5 & 2 \\\\\n",
       "\\end{tabular}\n"
      ],
      "text/plain": [
       "GroupedDataFrame with 3 groups based on key: id\n",
       "First Group (1 row): id = 1\n",
       "\u001b[1m Row \u001b[0m│\u001b[1m id     \u001b[0m\u001b[1m x     \u001b[0m\n",
       "\u001b[1m     \u001b[0m│\u001b[90m Int64? \u001b[0m\u001b[90m Int64 \u001b[0m\n",
       "─────┼───────────────\n",
       "   1 │      1      3\n",
       "⋮\n",
       "Last Group (1 row): id = 5\n",
       "\u001b[1m Row \u001b[0m│\u001b[1m id     \u001b[0m\u001b[1m x     \u001b[0m\n",
       "\u001b[1m     \u001b[0m│\u001b[90m Int64? \u001b[0m\u001b[90m Int64 \u001b[0m\n",
       "─────┼───────────────\n",
       "   1 │      5      2"
      ]
     },
     "execution_count": 25,
     "metadata": {},
     "output_type": "execute_result"
    }
   ],
   "source": [
    "groupby(x, :id, sort=true, skipmissing=true) # but we can change it; now they are sorted"
   ]
  },
  {
   "cell_type": "code",
   "execution_count": 26,
   "metadata": {},
   "outputs": [
    {
     "data": {
      "text/html": [
       "<p><b>GroupedDataFrame with 4 groups based on key: id</b></p><p><i>First Group (2 rows): id = missing</i></p><div class=\"data-frame\"><table class=\"data-frame\"><thead><tr><th></th><th>id</th><th>x</th></tr><tr><th></th><th title=\"Union{Missing, Int64}\">Int64?</th><th title=\"Int64\">Int64</th></tr></thead><tbody><tr><th>1</th><td><em>missing</em></td><td>1</td></tr><tr><th>2</th><td><em>missing</em></td><td>5</td></tr></tbody></table></div><p>&vellip;</p><p><i>Last Group (1 row): id = 3</i></p><div class=\"data-frame\"><table class=\"data-frame\"><thead><tr><th></th><th>id</th><th>x</th></tr><tr><th></th><th title=\"Union{Missing, Int64}\">Int64?</th><th title=\"Int64\">Int64</th></tr></thead><tbody><tr><th>1</th><td>3</td><td>4</td></tr></tbody></table></div>"
      ],
      "text/latex": [
       "GroupedDataFrame with 4 groups based on key: id\n",
       "\n",
       "First Group (2 rows): id = missing\n",
       "\n",
       "\\begin{tabular}{r|cc}\n",
       "\t& id & x\\\\\n",
       "\t\\hline\n",
       "\t& Int64? & Int64\\\\\n",
       "\t\\hline\n",
       "\t1 & \\emph{missing} & 1 \\\\\n",
       "\t2 & \\emph{missing} & 5 \\\\\n",
       "\\end{tabular}\n",
       "\n",
       "$\\dots$\n",
       "\n",
       "Last Group (1 row): id = 3\n",
       "\n",
       "\\begin{tabular}{r|cc}\n",
       "\t& id & x\\\\\n",
       "\t\\hline\n",
       "\t& Int64? & Int64\\\\\n",
       "\t\\hline\n",
       "\t1 & 3 & 4 \\\\\n",
       "\\end{tabular}\n"
      ],
      "text/plain": [
       "GroupedDataFrame with 4 groups based on key: id\n",
       "First Group (2 rows): id = missing\n",
       "\u001b[1m Row \u001b[0m│\u001b[1m id      \u001b[0m\u001b[1m x     \u001b[0m\n",
       "\u001b[1m     \u001b[0m│\u001b[90m Int64?  \u001b[0m\u001b[90m Int64 \u001b[0m\n",
       "─────┼────────────────\n",
       "   1 │\u001b[90m missing \u001b[0m     1\n",
       "   2 │\u001b[90m missing \u001b[0m     5\n",
       "⋮\n",
       "Last Group (1 row): id = 3\n",
       "\u001b[1m Row \u001b[0m│\u001b[1m id     \u001b[0m\u001b[1m x     \u001b[0m\n",
       "\u001b[1m     \u001b[0m│\u001b[90m Int64? \u001b[0m\u001b[90m Int64 \u001b[0m\n",
       "─────┼───────────────\n",
       "   1 │      3      4"
      ]
     },
     "execution_count": 26,
     "metadata": {},
     "output_type": "execute_result"
    }
   ],
   "source": [
    "groupby(x, :id, sort=false) # and now they are in the order they appear in the source data frame"
   ]
  },
  {
   "cell_type": "markdown",
   "metadata": {},
   "source": [
    "## Performing transformations by group using `combine`, `select`, `select!`, `transform`, and `transform!`\n"
   ]
  },
  {
   "cell_type": "code",
   "execution_count": 28,
   "metadata": {},
   "outputs": [
    {
     "data": {
      "text/html": [
       "<div class=\"data-frame\"><p>100 rows × 2 columns</p><table class=\"data-frame\"><thead><tr><th></th><th>id</th><th>v</th></tr><tr><th></th><th title=\"Char\">Char</th><th title=\"Float64\">Float64</th></tr></thead><tbody><tr><th>1</th><td>c</td><td>0.432541</td></tr><tr><th>2</th><td>b</td><td>0.779688</td></tr><tr><th>3</th><td>c</td><td>0.557867</td></tr><tr><th>4</th><td>b</td><td>0.51862</td></tr><tr><th>5</th><td>b</td><td>0.00835524</td></tr><tr><th>6</th><td>b</td><td>0.419026</td></tr><tr><th>7</th><td>a</td><td>0.0485505</td></tr><tr><th>8</th><td>b</td><td>0.384851</td></tr><tr><th>9</th><td>c</td><td>0.687871</td></tr><tr><th>10</th><td>d</td><td>0.467205</td></tr><tr><th>11</th><td>d</td><td>0.785502</td></tr><tr><th>12</th><td>d</td><td>0.728643</td></tr><tr><th>13</th><td>a</td><td>0.605801</td></tr><tr><th>14</th><td>d</td><td>0.959042</td></tr><tr><th>15</th><td>a</td><td>0.0495282</td></tr><tr><th>&vellip;</th><td>&vellip;</td><td>&vellip;</td></tr></tbody></table></div>"
      ],
      "text/latex": [
       "\\begin{tabular}{r|cc}\n",
       "\t& id & v\\\\\n",
       "\t\\hline\n",
       "\t& Char & Float64\\\\\n",
       "\t\\hline\n",
       "\t1 & c & 0.432541 \\\\\n",
       "\t2 & b & 0.779688 \\\\\n",
       "\t3 & c & 0.557867 \\\\\n",
       "\t4 & b & 0.51862 \\\\\n",
       "\t5 & b & 0.00835524 \\\\\n",
       "\t6 & b & 0.419026 \\\\\n",
       "\t7 & a & 0.0485505 \\\\\n",
       "\t8 & b & 0.384851 \\\\\n",
       "\t9 & c & 0.687871 \\\\\n",
       "\t10 & d & 0.467205 \\\\\n",
       "\t11 & d & 0.785502 \\\\\n",
       "\t12 & d & 0.728643 \\\\\n",
       "\t13 & a & 0.605801 \\\\\n",
       "\t14 & d & 0.959042 \\\\\n",
       "\t15 & a & 0.0495282 \\\\\n",
       "\t$\\dots$ & $\\dots$ & $\\dots$ \\\\\n",
       "\\end{tabular}\n"
      ],
      "text/plain": [
       "\u001b[1m100×2 DataFrame\u001b[0m\n",
       "\u001b[1m Row \u001b[0m│\u001b[1m id   \u001b[0m\u001b[1m v          \u001b[0m\n",
       "\u001b[1m     \u001b[0m│\u001b[90m Char \u001b[0m\u001b[90m Float64    \u001b[0m\n",
       "─────┼──────────────────\n",
       "   1 │ c     0.432541\n",
       "   2 │ b     0.779688\n",
       "   3 │ c     0.557867\n",
       "  ⋮  │  ⋮        ⋮\n",
       "  98 │ b     0.832816\n",
       "  99 │ a     0.0522582\n",
       " 100 │ d     0.686185\n",
       "\u001b[36m         94 rows omitted\u001b[0m"
      ]
     },
     "execution_count": 28,
     "metadata": {},
     "output_type": "execute_result"
    }
   ],
   "source": [
    "using Statistics\n",
    "using Chain\n",
    "ENV[\"LINES\"] = 15 # reduce the number of rows in the output\n",
    "x = DataFrame(id=rand('a':'d', 100), v=rand(100))\n"
   ]
  },
  {
   "cell_type": "code",
   "execution_count": 29,
   "metadata": {},
   "outputs": [
    {
     "data": {
      "text/html": [
       "<div class=\"data-frame\"><p>4 rows × 2 columns</p><table class=\"data-frame\"><thead><tr><th></th><th>id</th><th>v_mean</th></tr><tr><th></th><th title=\"Char\">Char</th><th title=\"Float64\">Float64</th></tr></thead><tbody><tr><th>1</th><td>c</td><td>0.45929</td></tr><tr><th>2</th><td>b</td><td>0.513637</td></tr><tr><th>3</th><td>a</td><td>0.403842</td></tr><tr><th>4</th><td>d</td><td>0.507345</td></tr></tbody></table></div>"
      ],
      "text/latex": [
       "\\begin{tabular}{r|cc}\n",
       "\t& id & v\\_mean\\\\\n",
       "\t\\hline\n",
       "\t& Char & Float64\\\\\n",
       "\t\\hline\n",
       "\t1 & c & 0.45929 \\\\\n",
       "\t2 & b & 0.513637 \\\\\n",
       "\t3 & a & 0.403842 \\\\\n",
       "\t4 & d & 0.507345 \\\\\n",
       "\\end{tabular}\n"
      ],
      "text/plain": [
       "\u001b[1m4×2 DataFrame\u001b[0m\n",
       "\u001b[1m Row \u001b[0m│\u001b[1m id   \u001b[0m\u001b[1m v_mean   \u001b[0m\n",
       "\u001b[1m     \u001b[0m│\u001b[90m Char \u001b[0m\u001b[90m Float64  \u001b[0m\n",
       "─────┼────────────────\n",
       "   1 │ c     0.45929\n",
       "   2 │ b     0.513637\n",
       "   3 │ a     0.403842\n",
       "   4 │ d     0.507345"
      ]
     },
     "execution_count": 29,
     "metadata": {},
     "output_type": "execute_result"
    }
   ],
   "source": [
    "# apply a function to each group of a data frame\n",
    "# combine keeps as many rows as are returned from the function\n",
    "@chain x begin\n",
    "    groupby(:id)\n",
    "    combine(:v => mean)\n",
    "end"
   ]
  },
  {
   "cell_type": "code",
   "execution_count": 30,
   "metadata": {},
   "outputs": [
    {
     "data": {
      "text/plain": [
       "Base.OneTo(100)"
      ]
     },
     "execution_count": 30,
     "metadata": {},
     "output_type": "execute_result"
    }
   ],
   "source": [
    "x.id2 = axes(x, 1)"
   ]
  },
  {
   "cell_type": "code",
   "execution_count": 31,
   "metadata": {},
   "outputs": [
    {
     "data": {
      "text/html": [
       "<div class=\"data-frame\"><p>100 rows × 4 columns</p><table class=\"data-frame\"><thead><tr><th></th><th>id</th><th>v</th><th>id2</th><th>v_mean</th></tr><tr><th></th><th title=\"Char\">Char</th><th title=\"Float64\">Float64</th><th title=\"Int64\">Int64</th><th title=\"Float64\">Float64</th></tr></thead><tbody><tr><th>1</th><td>c</td><td>0.432541</td><td>1</td><td>0.45929</td></tr><tr><th>2</th><td>b</td><td>0.779688</td><td>2</td><td>0.513637</td></tr><tr><th>3</th><td>c</td><td>0.557867</td><td>3</td><td>0.45929</td></tr><tr><th>4</th><td>b</td><td>0.51862</td><td>4</td><td>0.513637</td></tr><tr><th>5</th><td>b</td><td>0.00835524</td><td>5</td><td>0.513637</td></tr><tr><th>6</th><td>b</td><td>0.419026</td><td>6</td><td>0.513637</td></tr><tr><th>7</th><td>a</td><td>0.0485505</td><td>7</td><td>0.403842</td></tr><tr><th>8</th><td>b</td><td>0.384851</td><td>8</td><td>0.513637</td></tr><tr><th>9</th><td>c</td><td>0.687871</td><td>9</td><td>0.45929</td></tr><tr><th>10</th><td>d</td><td>0.467205</td><td>10</td><td>0.507345</td></tr><tr><th>11</th><td>d</td><td>0.785502</td><td>11</td><td>0.507345</td></tr><tr><th>12</th><td>d</td><td>0.728643</td><td>12</td><td>0.507345</td></tr><tr><th>13</th><td>a</td><td>0.605801</td><td>13</td><td>0.403842</td></tr><tr><th>14</th><td>d</td><td>0.959042</td><td>14</td><td>0.507345</td></tr><tr><th>15</th><td>a</td><td>0.0495282</td><td>15</td><td>0.403842</td></tr><tr><th>&vellip;</th><td>&vellip;</td><td>&vellip;</td><td>&vellip;</td><td>&vellip;</td></tr></tbody></table></div>"
      ],
      "text/latex": [
       "\\begin{tabular}{r|cccc}\n",
       "\t& id & v & id2 & v\\_mean\\\\\n",
       "\t\\hline\n",
       "\t& Char & Float64 & Int64 & Float64\\\\\n",
       "\t\\hline\n",
       "\t1 & c & 0.432541 & 1 & 0.45929 \\\\\n",
       "\t2 & b & 0.779688 & 2 & 0.513637 \\\\\n",
       "\t3 & c & 0.557867 & 3 & 0.45929 \\\\\n",
       "\t4 & b & 0.51862 & 4 & 0.513637 \\\\\n",
       "\t5 & b & 0.00835524 & 5 & 0.513637 \\\\\n",
       "\t6 & b & 0.419026 & 6 & 0.513637 \\\\\n",
       "\t7 & a & 0.0485505 & 7 & 0.403842 \\\\\n",
       "\t8 & b & 0.384851 & 8 & 0.513637 \\\\\n",
       "\t9 & c & 0.687871 & 9 & 0.45929 \\\\\n",
       "\t10 & d & 0.467205 & 10 & 0.507345 \\\\\n",
       "\t11 & d & 0.785502 & 11 & 0.507345 \\\\\n",
       "\t12 & d & 0.728643 & 12 & 0.507345 \\\\\n",
       "\t13 & a & 0.605801 & 13 & 0.403842 \\\\\n",
       "\t14 & d & 0.959042 & 14 & 0.507345 \\\\\n",
       "\t15 & a & 0.0495282 & 15 & 0.403842 \\\\\n",
       "\t$\\dots$ & $\\dots$ & $\\dots$ & $\\dots$ & $\\dots$ \\\\\n",
       "\\end{tabular}\n"
      ],
      "text/plain": [
       "\u001b[1m100×4 DataFrame\u001b[0m\n",
       "\u001b[1m Row \u001b[0m│\u001b[1m id   \u001b[0m\u001b[1m v          \u001b[0m\u001b[1m id2   \u001b[0m\u001b[1m v_mean   \u001b[0m\n",
       "\u001b[1m     \u001b[0m│\u001b[90m Char \u001b[0m\u001b[90m Float64    \u001b[0m\u001b[90m Int64 \u001b[0m\u001b[90m Float64  \u001b[0m\n",
       "─────┼───────────────────────────────────\n",
       "   1 │ c     0.432541        1  0.45929\n",
       "   2 │ b     0.779688        2  0.513637\n",
       "   3 │ c     0.557867        3  0.45929\n",
       "  ⋮  │  ⋮        ⋮         ⋮       ⋮\n",
       "  98 │ b     0.832816       98  0.513637\n",
       "  99 │ a     0.0522582      99  0.403842\n",
       " 100 │ d     0.686185      100  0.507345\n",
       "\u001b[36m                          94 rows omitted\u001b[0m"
      ]
     },
     "execution_count": 31,
     "metadata": {},
     "output_type": "execute_result"
    }
   ],
   "source": [
    "# select and transform keep as many rows as are in the source data frame and in correct order\n",
    "# additionally transform keeps all columns from the source\n",
    "@chain x begin\n",
    "    groupby(:id)\n",
    "    transform(:v => mean)\n",
    "end"
   ]
  },
  {
   "cell_type": "code",
   "execution_count": 32,
   "metadata": {},
   "outputs": [
    {
     "data": {
      "text/html": [
       "<div class=\"data-frame\"><p>100 rows × 3 columns</p><table class=\"data-frame\"><thead><tr><th></th><th>id</th><th>id2</th><th>v_mean</th></tr><tr><th></th><th title=\"Char\">Char</th><th title=\"Int64\">Int64</th><th title=\"Float64\">Float64</th></tr></thead><tbody><tr><th>1</th><td>c</td><td>1</td><td>0.45929</td></tr><tr><th>2</th><td>c</td><td>3</td><td>0.45929</td></tr><tr><th>3</th><td>c</td><td>9</td><td>0.45929</td></tr><tr><th>4</th><td>c</td><td>20</td><td>0.45929</td></tr><tr><th>5</th><td>c</td><td>21</td><td>0.45929</td></tr><tr><th>6</th><td>c</td><td>28</td><td>0.45929</td></tr><tr><th>7</th><td>c</td><td>29</td><td>0.45929</td></tr><tr><th>8</th><td>c</td><td>37</td><td>0.45929</td></tr><tr><th>9</th><td>c</td><td>38</td><td>0.45929</td></tr><tr><th>10</th><td>c</td><td>46</td><td>0.45929</td></tr><tr><th>11</th><td>c</td><td>47</td><td>0.45929</td></tr><tr><th>12</th><td>c</td><td>48</td><td>0.45929</td></tr><tr><th>13</th><td>c</td><td>51</td><td>0.45929</td></tr><tr><th>14</th><td>c</td><td>57</td><td>0.45929</td></tr><tr><th>15</th><td>c</td><td>60</td><td>0.45929</td></tr><tr><th>&vellip;</th><td>&vellip;</td><td>&vellip;</td><td>&vellip;</td></tr></tbody></table></div>"
      ],
      "text/latex": [
       "\\begin{tabular}{r|ccc}\n",
       "\t& id & id2 & v\\_mean\\\\\n",
       "\t\\hline\n",
       "\t& Char & Int64 & Float64\\\\\n",
       "\t\\hline\n",
       "\t1 & c & 1 & 0.45929 \\\\\n",
       "\t2 & c & 3 & 0.45929 \\\\\n",
       "\t3 & c & 9 & 0.45929 \\\\\n",
       "\t4 & c & 20 & 0.45929 \\\\\n",
       "\t5 & c & 21 & 0.45929 \\\\\n",
       "\t6 & c & 28 & 0.45929 \\\\\n",
       "\t7 & c & 29 & 0.45929 \\\\\n",
       "\t8 & c & 37 & 0.45929 \\\\\n",
       "\t9 & c & 38 & 0.45929 \\\\\n",
       "\t10 & c & 46 & 0.45929 \\\\\n",
       "\t11 & c & 47 & 0.45929 \\\\\n",
       "\t12 & c & 48 & 0.45929 \\\\\n",
       "\t13 & c & 51 & 0.45929 \\\\\n",
       "\t14 & c & 57 & 0.45929 \\\\\n",
       "\t15 & c & 60 & 0.45929 \\\\\n",
       "\t$\\dots$ & $\\dots$ & $\\dots$ & $\\dots$ \\\\\n",
       "\\end{tabular}\n"
      ],
      "text/plain": [
       "\u001b[1m100×3 DataFrame\u001b[0m\n",
       "\u001b[1m Row \u001b[0m│\u001b[1m id   \u001b[0m\u001b[1m id2   \u001b[0m\u001b[1m v_mean   \u001b[0m\n",
       "\u001b[1m     \u001b[0m│\u001b[90m Char \u001b[0m\u001b[90m Int64 \u001b[0m\u001b[90m Float64  \u001b[0m\n",
       "─────┼───────────────────────\n",
       "   1 │ c         1  0.45929\n",
       "   2 │ c         3  0.45929\n",
       "   3 │ c         9  0.45929\n",
       "  ⋮  │  ⋮      ⋮       ⋮\n",
       "  98 │ d        83  0.507345\n",
       "  99 │ d        85  0.507345\n",
       " 100 │ d       100  0.507345\n",
       "\u001b[36m              94 rows omitted\u001b[0m"
      ]
     },
     "execution_count": 32,
     "metadata": {},
     "output_type": "execute_result"
    }
   ],
   "source": [
    "# note that combine reorders rows by group of GroupedDataFrame\n",
    "@chain x begin\n",
    "    groupby(:id)\n",
    "    combine(:id2, :v => mean)\n",
    "end"
   ]
  },
  {
   "cell_type": "code",
   "execution_count": 33,
   "metadata": {},
   "outputs": [
    {
     "data": {
      "text/html": [
       "<div class=\"data-frame\"><p>4 rows × 2 columns</p><table class=\"data-frame\"><thead><tr><th></th><th>id</th><th>res</th></tr><tr><th></th><th title=\"Char\">Char</th><th title=\"Float64\">Float64</th></tr></thead><tbody><tr><th>1</th><td>c</td><td>0.45929</td></tr><tr><th>2</th><td>b</td><td>0.513637</td></tr><tr><th>3</th><td>a</td><td>0.403842</td></tr><tr><th>4</th><td>d</td><td>0.507345</td></tr></tbody></table></div>"
      ],
      "text/latex": [
       "\\begin{tabular}{r|cc}\n",
       "\t& id & res\\\\\n",
       "\t\\hline\n",
       "\t& Char & Float64\\\\\n",
       "\t\\hline\n",
       "\t1 & c & 0.45929 \\\\\n",
       "\t2 & b & 0.513637 \\\\\n",
       "\t3 & a & 0.403842 \\\\\n",
       "\t4 & d & 0.507345 \\\\\n",
       "\\end{tabular}\n"
      ],
      "text/plain": [
       "\u001b[1m4×2 DataFrame\u001b[0m\n",
       "\u001b[1m Row \u001b[0m│\u001b[1m id   \u001b[0m\u001b[1m res      \u001b[0m\n",
       "\u001b[1m     \u001b[0m│\u001b[90m Char \u001b[0m\u001b[90m Float64  \u001b[0m\n",
       "─────┼────────────────\n",
       "   1 │ c     0.45929\n",
       "   2 │ b     0.513637\n",
       "   3 │ a     0.403842\n",
       "   4 │ d     0.507345"
      ]
     },
     "execution_count": 33,
     "metadata": {},
     "output_type": "execute_result"
    }
   ],
   "source": [
    "# we give a custom name for the result column\n",
    "@chain x begin\n",
    "    groupby(:id)\n",
    "    combine(:v => mean => :res)\n",
    "end"
   ]
  },
  {
   "cell_type": "code",
   "execution_count": 34,
   "metadata": {},
   "outputs": [
    {
     "data": {
      "text/html": [
       "<div class=\"data-frame\"><p>4 rows × 4 columns</p><table class=\"data-frame\"><thead><tr><th></th><th>id</th><th>res1</th><th>res2</th><th>n</th></tr><tr><th></th><th title=\"Char\">Char</th><th title=\"Float64\">Float64</th><th title=\"Float64\">Float64</th><th title=\"Int64\">Int64</th></tr></thead><tbody><tr><th>1</th><td>c</td><td>0.45929</td><td>11.4823</td><td>25</td></tr><tr><th>2</th><td>b</td><td>0.513637</td><td>13.8682</td><td>27</td></tr><tr><th>3</th><td>a</td><td>0.403842</td><td>8.07685</td><td>20</td></tr><tr><th>4</th><td>d</td><td>0.507345</td><td>14.2057</td><td>28</td></tr></tbody></table></div>"
      ],
      "text/latex": [
       "\\begin{tabular}{r|cccc}\n",
       "\t& id & res1 & res2 & n\\\\\n",
       "\t\\hline\n",
       "\t& Char & Float64 & Float64 & Int64\\\\\n",
       "\t\\hline\n",
       "\t1 & c & 0.45929 & 11.4823 & 25 \\\\\n",
       "\t2 & b & 0.513637 & 13.8682 & 27 \\\\\n",
       "\t3 & a & 0.403842 & 8.07685 & 20 \\\\\n",
       "\t4 & d & 0.507345 & 14.2057 & 28 \\\\\n",
       "\\end{tabular}\n"
      ],
      "text/plain": [
       "\u001b[1m4×4 DataFrame\u001b[0m\n",
       "\u001b[1m Row \u001b[0m│\u001b[1m id   \u001b[0m\u001b[1m res1     \u001b[0m\u001b[1m res2     \u001b[0m\u001b[1m n     \u001b[0m\n",
       "\u001b[1m     \u001b[0m│\u001b[90m Char \u001b[0m\u001b[90m Float64  \u001b[0m\u001b[90m Float64  \u001b[0m\u001b[90m Int64 \u001b[0m\n",
       "─────┼─────────────────────────────────\n",
       "   1 │ c     0.45929   11.4823      25\n",
       "   2 │ b     0.513637  13.8682      27\n",
       "   3 │ a     0.403842   8.07685     20\n",
       "   4 │ d     0.507345  14.2057      28"
      ]
     },
     "execution_count": 34,
     "metadata": {},
     "output_type": "execute_result"
    }
   ],
   "source": [
    "# you can have multiple operations\n",
    "@chain x begin \n",
    "    groupby(:id)\n",
    "    combine(:v => mean => :res1, :v => sum => :res2, nrow => :n)\n",
    "end"
   ]
  },
  {
   "cell_type": "markdown",
   "metadata": {},
   "source": [
    "Additional notes:\n",
    "\n",
    "* `select!` and `transform!` perform operations in-place\n",
    "* The general syntax for transformation is source_columns => function => target_column\n",
    "* if you pass multiple columns to a function they are treated as positional arguments\n",
    "* you can automatically groupby again the result of combine, select etc. by passing `ungroup=false` keyword argument to them\n",
    "* similarly `keepkeys` keyword argument allows you to drop grouping columns from the resulting data frame\n",
    "\n",
    "It is also allowed to pass a function to all these functions (also - as a special case, as a first argument). In this case the return value can be a table. In particular it allows for an easy dropping of groups if you return an empty table from the function.\n",
    "\n",
    "If you pass a function you can use a do block syntax. In case of passing a function it gets a SubDataFrame as its argument.\n",
    "\n",
    "Here is an example:"
   ]
  },
  {
   "cell_type": "code",
   "execution_count": 35,
   "metadata": {},
   "outputs": [
    {
     "data": {
      "text/html": [
       "<div class=\"data-frame\"><p>3 rows × 2 columns</p><table class=\"data-frame\"><thead><tr><th></th><th>id</th><th>n</th></tr><tr><th></th><th title=\"Char\">Char</th><th title=\"Int64\">Int64</th></tr></thead><tbody><tr><th>1</th><td>c</td><td>25</td></tr><tr><th>2</th><td>b</td><td>27</td></tr><tr><th>3</th><td>d</td><td>28</td></tr></tbody></table></div>"
      ],
      "text/latex": [
       "\\begin{tabular}{r|cc}\n",
       "\t& id & n\\\\\n",
       "\t\\hline\n",
       "\t& Char & Int64\\\\\n",
       "\t\\hline\n",
       "\t1 & c & 25 \\\\\n",
       "\t2 & b & 27 \\\\\n",
       "\t3 & d & 28 \\\\\n",
       "\\end{tabular}\n"
      ],
      "text/plain": [
       "\u001b[1m3×2 DataFrame\u001b[0m\n",
       "\u001b[1m Row \u001b[0m│\u001b[1m id   \u001b[0m\u001b[1m n     \u001b[0m\n",
       "\u001b[1m     \u001b[0m│\u001b[90m Char \u001b[0m\u001b[90m Int64 \u001b[0m\n",
       "─────┼─────────────\n",
       "   1 │ c        25\n",
       "   2 │ b        27\n",
       "   3 │ d        28"
      ]
     },
     "execution_count": 35,
     "metadata": {},
     "output_type": "execute_result"
    }
   ],
   "source": [
    "combine(groupby(x, :id)) do sdf\n",
    "    n = nrow(sdf)\n",
    "    n < 25 ? DataFrame() : DataFrame(n=n) # drop groups with low number of rows\n",
    "end"
   ]
  },
  {
   "cell_type": "markdown",
   "metadata": {},
   "source": [
    "You can also produce multiple columns in a single operation, e.g.:"
   ]
  },
  {
   "cell_type": "code",
   "execution_count": 36,
   "metadata": {},
   "outputs": [
    {
     "data": {
      "text/html": [
       "<div class=\"data-frame\"><p>4 rows × 2 columns</p><table class=\"data-frame\"><thead><tr><th></th><th>id</th><th>val</th></tr><tr><th></th><th title=\"Int64\">Int64</th><th title=\"Int64\">Int64</th></tr></thead><tbody><tr><th>1</th><td>1</td><td>1</td></tr><tr><th>2</th><td>1</td><td>2</td></tr><tr><th>3</th><td>2</td><td>3</td></tr><tr><th>4</th><td>2</td><td>4</td></tr></tbody></table></div>"
      ],
      "text/latex": [
       "\\begin{tabular}{r|cc}\n",
       "\t& id & val\\\\\n",
       "\t\\hline\n",
       "\t& Int64 & Int64\\\\\n",
       "\t\\hline\n",
       "\t1 & 1 & 1 \\\\\n",
       "\t2 & 1 & 2 \\\\\n",
       "\t3 & 2 & 3 \\\\\n",
       "\t4 & 2 & 4 \\\\\n",
       "\\end{tabular}\n"
      ],
      "text/plain": [
       "\u001b[1m4×2 DataFrame\u001b[0m\n",
       "\u001b[1m Row \u001b[0m│\u001b[1m id    \u001b[0m\u001b[1m val   \u001b[0m\n",
       "\u001b[1m     \u001b[0m│\u001b[90m Int64 \u001b[0m\u001b[90m Int64 \u001b[0m\n",
       "─────┼──────────────\n",
       "   1 │     1      1\n",
       "   2 │     1      2\n",
       "   3 │     2      3\n",
       "   4 │     2      4"
      ]
     },
     "execution_count": 36,
     "metadata": {},
     "output_type": "execute_result"
    }
   ],
   "source": [
    "df = DataFrame(id=[1,1,2,2], val=[1,2,3,4])"
   ]
  },
  {
   "cell_type": "code",
   "execution_count": 37,
   "metadata": {},
   "outputs": [
    {
     "data": {
      "text/html": [
       "<div class=\"data-frame\"><p>2 rows × 3 columns</p><table class=\"data-frame\"><thead><tr><th></th><th>id</th><th>x1</th><th>x2</th></tr><tr><th></th><th title=\"Int64\">Int64</th><th title=\"Int64\">Int64</th><th title=\"Int64\">Int64</th></tr></thead><tbody><tr><th>1</th><td>1</td><td>1</td><td>2</td></tr><tr><th>2</th><td>2</td><td>3</td><td>4</td></tr></tbody></table></div>"
      ],
      "text/latex": [
       "\\begin{tabular}{r|ccc}\n",
       "\t& id & x1 & x2\\\\\n",
       "\t\\hline\n",
       "\t& Int64 & Int64 & Int64\\\\\n",
       "\t\\hline\n",
       "\t1 & 1 & 1 & 2 \\\\\n",
       "\t2 & 2 & 3 & 4 \\\\\n",
       "\\end{tabular}\n"
      ],
      "text/plain": [
       "\u001b[1m2×3 DataFrame\u001b[0m\n",
       "\u001b[1m Row \u001b[0m│\u001b[1m id    \u001b[0m\u001b[1m x1    \u001b[0m\u001b[1m x2    \u001b[0m\n",
       "\u001b[1m     \u001b[0m│\u001b[90m Int64 \u001b[0m\u001b[90m Int64 \u001b[0m\u001b[90m Int64 \u001b[0m\n",
       "─────┼─────────────────────\n",
       "   1 │     1      1      2\n",
       "   2 │     2      3      4"
      ]
     },
     "execution_count": 37,
     "metadata": {},
     "output_type": "execute_result"
    }
   ],
   "source": [
    "@chain df begin\n",
    "    groupby(:id)\n",
    "    combine(:val => (x -> [x]) => AsTable)\n",
    "end"
   ]
  },
  {
   "cell_type": "code",
   "execution_count": 38,
   "metadata": {},
   "outputs": [
    {
     "data": {
      "text/html": [
       "<div class=\"data-frame\"><p>2 rows × 3 columns</p><table class=\"data-frame\"><thead><tr><th></th><th>id</th><th>c1</th><th>c2</th></tr><tr><th></th><th title=\"Int64\">Int64</th><th title=\"Int64\">Int64</th><th title=\"Int64\">Int64</th></tr></thead><tbody><tr><th>1</th><td>1</td><td>1</td><td>2</td></tr><tr><th>2</th><td>2</td><td>3</td><td>4</td></tr></tbody></table></div>"
      ],
      "text/latex": [
       "\\begin{tabular}{r|ccc}\n",
       "\t& id & c1 & c2\\\\\n",
       "\t\\hline\n",
       "\t& Int64 & Int64 & Int64\\\\\n",
       "\t\\hline\n",
       "\t1 & 1 & 1 & 2 \\\\\n",
       "\t2 & 2 & 3 & 4 \\\\\n",
       "\\end{tabular}\n"
      ],
      "text/plain": [
       "\u001b[1m2×3 DataFrame\u001b[0m\n",
       "\u001b[1m Row \u001b[0m│\u001b[1m id    \u001b[0m\u001b[1m c1    \u001b[0m\u001b[1m c2    \u001b[0m\n",
       "\u001b[1m     \u001b[0m│\u001b[90m Int64 \u001b[0m\u001b[90m Int64 \u001b[0m\u001b[90m Int64 \u001b[0m\n",
       "─────┼─────────────────────\n",
       "   1 │     1      1      2\n",
       "   2 │     2      3      4"
      ]
     },
     "execution_count": 38,
     "metadata": {},
     "output_type": "execute_result"
    }
   ],
   "source": [
    "@chain df begin\n",
    "    groupby(:id)\n",
    "    combine(:val => (x -> [x]) => [:c1, :c2])\n",
    "end"
   ]
  },
  {
   "cell_type": "markdown",
   "metadata": {},
   "source": [
    "It is easy to unnest the column into multiple columns, e.g."
   ]
  },
  {
   "cell_type": "code",
   "execution_count": 39,
   "metadata": {},
   "outputs": [
    {
     "data": {
      "text/html": [
       "<div class=\"data-frame\"><p>2 rows × 1 columns</p><table class=\"data-frame\"><thead><tr><th></th><th>a</th></tr><tr><th></th><th title=\"NamedTuple{(:p, :q), Tuple{Int64, Int64}}\">NamedTup…</th></tr></thead><tbody><tr><th>1</th><td>(p = 1, q = 2)</td></tr><tr><th>2</th><td>(p = 3, q = 4)</td></tr></tbody></table></div>"
      ],
      "text/latex": [
       "\\begin{tabular}{r|c}\n",
       "\t& a\\\\\n",
       "\t\\hline\n",
       "\t& NamedTup…\\\\\n",
       "\t\\hline\n",
       "\t1 & (p = 1, q = 2) \\\\\n",
       "\t2 & (p = 3, q = 4) \\\\\n",
       "\\end{tabular}\n"
      ],
      "text/plain": [
       "\u001b[1m2×1 DataFrame\u001b[0m\n",
       "\u001b[1m Row \u001b[0m│\u001b[1m a              \u001b[0m\n",
       "\u001b[1m     \u001b[0m│\u001b[90m NamedTup…      \u001b[0m\n",
       "─────┼────────────────\n",
       "   1 │ (p = 1, q = 2)\n",
       "   2 │ (p = 3, q = 4)"
      ]
     },
     "execution_count": 39,
     "metadata": {},
     "output_type": "execute_result"
    }
   ],
   "source": [
    "df = DataFrame(a=[(p=1, q=2), (p=3, q=4)])"
   ]
  },
  {
   "cell_type": "code",
   "execution_count": 40,
   "metadata": {},
   "outputs": [
    {
     "data": {
      "text/html": [
       "<div class=\"data-frame\"><p>2 rows × 2 columns</p><table class=\"data-frame\"><thead><tr><th></th><th>p</th><th>q</th></tr><tr><th></th><th title=\"Int64\">Int64</th><th title=\"Int64\">Int64</th></tr></thead><tbody><tr><th>1</th><td>1</td><td>2</td></tr><tr><th>2</th><td>3</td><td>4</td></tr></tbody></table></div>"
      ],
      "text/latex": [
       "\\begin{tabular}{r|cc}\n",
       "\t& p & q\\\\\n",
       "\t\\hline\n",
       "\t& Int64 & Int64\\\\\n",
       "\t\\hline\n",
       "\t1 & 1 & 2 \\\\\n",
       "\t2 & 3 & 4 \\\\\n",
       "\\end{tabular}\n"
      ],
      "text/plain": [
       "\u001b[1m2×2 DataFrame\u001b[0m\n",
       "\u001b[1m Row \u001b[0m│\u001b[1m p     \u001b[0m\u001b[1m q     \u001b[0m\n",
       "\u001b[1m     \u001b[0m│\u001b[90m Int64 \u001b[0m\u001b[90m Int64 \u001b[0m\n",
       "─────┼──────────────\n",
       "   1 │     1      2\n",
       "   2 │     3      4"
      ]
     },
     "execution_count": 40,
     "metadata": {},
     "output_type": "execute_result"
    }
   ],
   "source": [
    "select(df, :a => AsTable)"
   ]
  },
  {
   "cell_type": "code",
   "execution_count": 41,
   "metadata": {},
   "outputs": [
    {
     "data": {
      "text/html": [
       "<div class=\"data-frame\"><p>2 rows × 1 columns</p><table class=\"data-frame\"><thead><tr><th></th><th>a</th></tr><tr><th></th><th title=\"Vector{Int64}\">Array…</th></tr></thead><tbody><tr><th>1</th><td>[1, 2]</td></tr><tr><th>2</th><td>[3, 4]</td></tr></tbody></table></div>"
      ],
      "text/latex": [
       "\\begin{tabular}{r|c}\n",
       "\t& a\\\\\n",
       "\t\\hline\n",
       "\t& Array…\\\\\n",
       "\t\\hline\n",
       "\t1 & [1, 2] \\\\\n",
       "\t2 & [3, 4] \\\\\n",
       "\\end{tabular}\n"
      ],
      "text/plain": [
       "\u001b[1m2×1 DataFrame\u001b[0m\n",
       "\u001b[1m Row \u001b[0m│\u001b[1m a      \u001b[0m\n",
       "\u001b[1m     \u001b[0m│\u001b[90m Array… \u001b[0m\n",
       "─────┼────────\n",
       "   1 │ [1, 2]\n",
       "   2 │ [3, 4]"
      ]
     },
     "execution_count": 41,
     "metadata": {},
     "output_type": "execute_result"
    }
   ],
   "source": [
    "df = DataFrame(a=[[1, 2], [3, 4]])"
   ]
  },
  {
   "cell_type": "code",
   "execution_count": 42,
   "metadata": {},
   "outputs": [
    {
     "data": {
      "text/html": [
       "<div class=\"data-frame\"><p>2 rows × 2 columns</p><table class=\"data-frame\"><thead><tr><th></th><th>x1</th><th>x2</th></tr><tr><th></th><th title=\"Int64\">Int64</th><th title=\"Int64\">Int64</th></tr></thead><tbody><tr><th>1</th><td>1</td><td>2</td></tr><tr><th>2</th><td>3</td><td>4</td></tr></tbody></table></div>"
      ],
      "text/latex": [
       "\\begin{tabular}{r|cc}\n",
       "\t& x1 & x2\\\\\n",
       "\t\\hline\n",
       "\t& Int64 & Int64\\\\\n",
       "\t\\hline\n",
       "\t1 & 1 & 2 \\\\\n",
       "\t2 & 3 & 4 \\\\\n",
       "\\end{tabular}\n"
      ],
      "text/plain": [
       "\u001b[1m2×2 DataFrame\u001b[0m\n",
       "\u001b[1m Row \u001b[0m│\u001b[1m x1    \u001b[0m\u001b[1m x2    \u001b[0m\n",
       "\u001b[1m     \u001b[0m│\u001b[90m Int64 \u001b[0m\u001b[90m Int64 \u001b[0m\n",
       "─────┼──────────────\n",
       "   1 │     1      2\n",
       "   2 │     3      4"
      ]
     },
     "execution_count": 42,
     "metadata": {},
     "output_type": "execute_result"
    }
   ],
   "source": [
    "select(df, :a => AsTable) # automatic column names generated\n"
   ]
  },
  {
   "cell_type": "code",
   "execution_count": 43,
   "metadata": {},
   "outputs": [
    {
     "data": {
      "text/html": [
       "<div class=\"data-frame\"><p>2 rows × 2 columns</p><table class=\"data-frame\"><thead><tr><th></th><th>C1</th><th>C2</th></tr><tr><th></th><th title=\"Int64\">Int64</th><th title=\"Int64\">Int64</th></tr></thead><tbody><tr><th>1</th><td>1</td><td>2</td></tr><tr><th>2</th><td>3</td><td>4</td></tr></tbody></table></div>"
      ],
      "text/latex": [
       "\\begin{tabular}{r|cc}\n",
       "\t& C1 & C2\\\\\n",
       "\t\\hline\n",
       "\t& Int64 & Int64\\\\\n",
       "\t\\hline\n",
       "\t1 & 1 & 2 \\\\\n",
       "\t2 & 3 & 4 \\\\\n",
       "\\end{tabular}\n"
      ],
      "text/plain": [
       "\u001b[1m2×2 DataFrame\u001b[0m\n",
       "\u001b[1m Row \u001b[0m│\u001b[1m C1    \u001b[0m\u001b[1m C2    \u001b[0m\n",
       "\u001b[1m     \u001b[0m│\u001b[90m Int64 \u001b[0m\u001b[90m Int64 \u001b[0m\n",
       "─────┼──────────────\n",
       "   1 │     1      2\n",
       "   2 │     3      4"
      ]
     },
     "execution_count": 43,
     "metadata": {},
     "output_type": "execute_result"
    }
   ],
   "source": [
    "select(df, :a => [:C1, :C2]) # custom column names generated"
   ]
  },
  {
   "cell_type": "markdown",
   "metadata": {},
   "source": [
    "Finally, observe that one can conveniently apply multiple transformations using broadcasting:"
   ]
  },
  {
   "cell_type": "code",
   "execution_count": 44,
   "metadata": {},
   "outputs": [
    {
     "data": {
      "text/html": [
       "<div class=\"data-frame\"><p>100 rows × 3 columns</p><table class=\"data-frame\"><thead><tr><th></th><th>id</th><th>x1</th><th>x2</th></tr><tr><th></th><th title=\"Int64\">Int64</th><th title=\"Int64\">Int64</th><th title=\"Int64\">Int64</th></tr></thead><tbody><tr><th>1</th><td>1</td><td>1</td><td>101</td></tr><tr><th>2</th><td>2</td><td>2</td><td>102</td></tr><tr><th>3</th><td>3</td><td>3</td><td>103</td></tr><tr><th>4</th><td>4</td><td>4</td><td>104</td></tr><tr><th>5</th><td>5</td><td>5</td><td>105</td></tr><tr><th>6</th><td>6</td><td>6</td><td>106</td></tr><tr><th>7</th><td>7</td><td>7</td><td>107</td></tr><tr><th>8</th><td>8</td><td>8</td><td>108</td></tr><tr><th>9</th><td>9</td><td>9</td><td>109</td></tr><tr><th>10</th><td>10</td><td>10</td><td>110</td></tr><tr><th>11</th><td>1</td><td>11</td><td>111</td></tr><tr><th>12</th><td>2</td><td>12</td><td>112</td></tr><tr><th>13</th><td>3</td><td>13</td><td>113</td></tr><tr><th>14</th><td>4</td><td>14</td><td>114</td></tr><tr><th>15</th><td>5</td><td>15</td><td>115</td></tr><tr><th>&vellip;</th><td>&vellip;</td><td>&vellip;</td><td>&vellip;</td></tr></tbody></table></div>"
      ],
      "text/latex": [
       "\\begin{tabular}{r|ccc}\n",
       "\t& id & x1 & x2\\\\\n",
       "\t\\hline\n",
       "\t& Int64 & Int64 & Int64\\\\\n",
       "\t\\hline\n",
       "\t1 & 1 & 1 & 101 \\\\\n",
       "\t2 & 2 & 2 & 102 \\\\\n",
       "\t3 & 3 & 3 & 103 \\\\\n",
       "\t4 & 4 & 4 & 104 \\\\\n",
       "\t5 & 5 & 5 & 105 \\\\\n",
       "\t6 & 6 & 6 & 106 \\\\\n",
       "\t7 & 7 & 7 & 107 \\\\\n",
       "\t8 & 8 & 8 & 108 \\\\\n",
       "\t9 & 9 & 9 & 109 \\\\\n",
       "\t10 & 10 & 10 & 110 \\\\\n",
       "\t11 & 1 & 11 & 111 \\\\\n",
       "\t12 & 2 & 12 & 112 \\\\\n",
       "\t13 & 3 & 13 & 113 \\\\\n",
       "\t14 & 4 & 14 & 114 \\\\\n",
       "\t15 & 5 & 15 & 115 \\\\\n",
       "\t$\\dots$ & $\\dots$ & $\\dots$ & $\\dots$ \\\\\n",
       "\\end{tabular}\n"
      ],
      "text/plain": [
       "\u001b[1m100×3 DataFrame\u001b[0m\n",
       "\u001b[1m Row \u001b[0m│\u001b[1m id    \u001b[0m\u001b[1m x1    \u001b[0m\u001b[1m x2    \u001b[0m\n",
       "\u001b[1m     \u001b[0m│\u001b[90m Int64 \u001b[0m\u001b[90m Int64 \u001b[0m\u001b[90m Int64 \u001b[0m\n",
       "─────┼─────────────────────\n",
       "   1 │     1      1    101\n",
       "   2 │     2      2    102\n",
       "   3 │     3      3    103\n",
       "  ⋮  │   ⋮      ⋮      ⋮\n",
       "  98 │     8     98    198\n",
       "  99 │     9     99    199\n",
       " 100 │    10    100    200\n",
       "\u001b[36m            94 rows omitted\u001b[0m"
      ]
     },
     "execution_count": 44,
     "metadata": {},
     "output_type": "execute_result"
    }
   ],
   "source": [
    "df = DataFrame(id=repeat(1:10, 10), x1=1:100, x2=101:200)"
   ]
  },
  {
   "cell_type": "code",
   "execution_count": 45,
   "metadata": {},
   "outputs": [
    {
     "data": {
      "text/html": [
       "<div class=\"data-frame\"><p>10 rows × 3 columns</p><table class=\"data-frame\"><thead><tr><th></th><th>id</th><th>x1_minimum</th><th>x2_minimum</th></tr><tr><th></th><th title=\"Int64\">Int64</th><th title=\"Int64\">Int64</th><th title=\"Int64\">Int64</th></tr></thead><tbody><tr><th>1</th><td>1</td><td>1</td><td>101</td></tr><tr><th>2</th><td>2</td><td>2</td><td>102</td></tr><tr><th>3</th><td>3</td><td>3</td><td>103</td></tr><tr><th>4</th><td>4</td><td>4</td><td>104</td></tr><tr><th>5</th><td>5</td><td>5</td><td>105</td></tr><tr><th>6</th><td>6</td><td>6</td><td>106</td></tr><tr><th>7</th><td>7</td><td>7</td><td>107</td></tr><tr><th>8</th><td>8</td><td>8</td><td>108</td></tr><tr><th>9</th><td>9</td><td>9</td><td>109</td></tr><tr><th>10</th><td>10</td><td>10</td><td>110</td></tr></tbody></table></div>"
      ],
      "text/latex": [
       "\\begin{tabular}{r|ccc}\n",
       "\t& id & x1\\_minimum & x2\\_minimum\\\\\n",
       "\t\\hline\n",
       "\t& Int64 & Int64 & Int64\\\\\n",
       "\t\\hline\n",
       "\t1 & 1 & 1 & 101 \\\\\n",
       "\t2 & 2 & 2 & 102 \\\\\n",
       "\t3 & 3 & 3 & 103 \\\\\n",
       "\t4 & 4 & 4 & 104 \\\\\n",
       "\t5 & 5 & 5 & 105 \\\\\n",
       "\t6 & 6 & 6 & 106 \\\\\n",
       "\t7 & 7 & 7 & 107 \\\\\n",
       "\t8 & 8 & 8 & 108 \\\\\n",
       "\t9 & 9 & 9 & 109 \\\\\n",
       "\t10 & 10 & 10 & 110 \\\\\n",
       "\\end{tabular}\n"
      ],
      "text/plain": [
       "\u001b[1m10×3 DataFrame\u001b[0m\n",
       "\u001b[1m Row \u001b[0m│\u001b[1m id    \u001b[0m\u001b[1m x1_minimum \u001b[0m\u001b[1m x2_minimum \u001b[0m\n",
       "\u001b[1m     \u001b[0m│\u001b[90m Int64 \u001b[0m\u001b[90m Int64      \u001b[0m\u001b[90m Int64      \u001b[0m\n",
       "─────┼───────────────────────────────\n",
       "   1 │     1           1         101\n",
       "   2 │     2           2         102\n",
       "   3 │     3           3         103\n",
       "  ⋮  │   ⋮        ⋮           ⋮\n",
       "   8 │     8           8         108\n",
       "   9 │     9           9         109\n",
       "  10 │    10          10         110\n",
       "\u001b[36m                       4 rows omitted\u001b[0m"
      ]
     },
     "execution_count": 45,
     "metadata": {},
     "output_type": "execute_result"
    }
   ],
   "source": [
    "@chain df begin\n",
    "    groupby(:id)\n",
    "    combine([:x1, :x2] .=> minimum)\n",
    "end\n"
   ]
  },
  {
   "cell_type": "code",
   "execution_count": 46,
   "metadata": {},
   "outputs": [
    {
     "data": {
      "text/html": [
       "<div class=\"data-frame\"><p>10 rows × 5 columns</p><table class=\"data-frame\"><thead><tr><th></th><th>id</th><th>x1_minimum</th><th>x2_minimum</th><th>x1_maximum</th><th>x2_maximum</th></tr><tr><th></th><th title=\"Int64\">Int64</th><th title=\"Int64\">Int64</th><th title=\"Int64\">Int64</th><th title=\"Int64\">Int64</th><th title=\"Int64\">Int64</th></tr></thead><tbody><tr><th>1</th><td>1</td><td>1</td><td>101</td><td>91</td><td>191</td></tr><tr><th>2</th><td>2</td><td>2</td><td>102</td><td>92</td><td>192</td></tr><tr><th>3</th><td>3</td><td>3</td><td>103</td><td>93</td><td>193</td></tr><tr><th>4</th><td>4</td><td>4</td><td>104</td><td>94</td><td>194</td></tr><tr><th>5</th><td>5</td><td>5</td><td>105</td><td>95</td><td>195</td></tr><tr><th>6</th><td>6</td><td>6</td><td>106</td><td>96</td><td>196</td></tr><tr><th>7</th><td>7</td><td>7</td><td>107</td><td>97</td><td>197</td></tr><tr><th>8</th><td>8</td><td>8</td><td>108</td><td>98</td><td>198</td></tr><tr><th>9</th><td>9</td><td>9</td><td>109</td><td>99</td><td>199</td></tr><tr><th>10</th><td>10</td><td>10</td><td>110</td><td>100</td><td>200</td></tr></tbody></table></div>"
      ],
      "text/latex": [
       "\\begin{tabular}{r|ccccc}\n",
       "\t& id & x1\\_minimum & x2\\_minimum & x1\\_maximum & x2\\_maximum\\\\\n",
       "\t\\hline\n",
       "\t& Int64 & Int64 & Int64 & Int64 & Int64\\\\\n",
       "\t\\hline\n",
       "\t1 & 1 & 1 & 101 & 91 & 191 \\\\\n",
       "\t2 & 2 & 2 & 102 & 92 & 192 \\\\\n",
       "\t3 & 3 & 3 & 103 & 93 & 193 \\\\\n",
       "\t4 & 4 & 4 & 104 & 94 & 194 \\\\\n",
       "\t5 & 5 & 5 & 105 & 95 & 195 \\\\\n",
       "\t6 & 6 & 6 & 106 & 96 & 196 \\\\\n",
       "\t7 & 7 & 7 & 107 & 97 & 197 \\\\\n",
       "\t8 & 8 & 8 & 108 & 98 & 198 \\\\\n",
       "\t9 & 9 & 9 & 109 & 99 & 199 \\\\\n",
       "\t10 & 10 & 10 & 110 & 100 & 200 \\\\\n",
       "\\end{tabular}\n"
      ],
      "text/plain": [
       "\u001b[1m10×5 DataFrame\u001b[0m\n",
       "\u001b[1m Row \u001b[0m│\u001b[1m id    \u001b[0m\u001b[1m x1_minimum \u001b[0m\u001b[1m x2_minimum \u001b[0m\u001b[1m x1_maximum \u001b[0m\u001b[1m x2_maximum \u001b[0m\n",
       "\u001b[1m     \u001b[0m│\u001b[90m Int64 \u001b[0m\u001b[90m Int64      \u001b[0m\u001b[90m Int64      \u001b[0m\u001b[90m Int64      \u001b[0m\u001b[90m Int64      \u001b[0m\n",
       "─────┼───────────────────────────────────────────────────────\n",
       "   1 │     1           1         101          91         191\n",
       "   2 │     2           2         102          92         192\n",
       "   3 │     3           3         103          93         193\n",
       "  ⋮  │   ⋮        ⋮           ⋮           ⋮           ⋮\n",
       "   8 │     8           8         108          98         198\n",
       "   9 │     9           9         109          99         199\n",
       "  10 │    10          10         110         100         200\n",
       "\u001b[36m                                               4 rows omitted\u001b[0m"
      ]
     },
     "execution_count": 46,
     "metadata": {},
     "output_type": "execute_result"
    }
   ],
   "source": [
    "@chain df begin\n",
    "    groupby(:id)\n",
    "    combine([:x1, :x2] .=> [minimum maximum])\n",
    "end"
   ]
  },
  {
   "cell_type": "markdown",
   "metadata": {},
   "source": [
    "## Aggregation of a data frame using mapcols"
   ]
  },
  {
   "cell_type": "code",
   "execution_count": 47,
   "metadata": {},
   "outputs": [
    {
     "data": {
      "text/html": [
       "<div class=\"data-frame\"><p>10 rows × 10 columns (omitted printing of 2 columns)</p><table class=\"data-frame\"><thead><tr><th></th><th>x1</th><th>x2</th><th>x3</th><th>x4</th><th>x5</th><th>x6</th><th>x7</th><th>x8</th></tr><tr><th></th><th title=\"Float64\">Float64</th><th title=\"Float64\">Float64</th><th title=\"Float64\">Float64</th><th title=\"Float64\">Float64</th><th title=\"Float64\">Float64</th><th title=\"Float64\">Float64</th><th title=\"Float64\">Float64</th><th title=\"Float64\">Float64</th></tr></thead><tbody><tr><th>1</th><td>0.017368</td><td>0.168686</td><td>0.933893</td><td>0.909083</td><td>0.984198</td><td>0.580141</td><td>0.910194</td><td>0.0921914</td></tr><tr><th>2</th><td>0.445297</td><td>0.767357</td><td>0.273591</td><td>0.682757</td><td>0.258265</td><td>0.177115</td><td>0.5858</td><td>0.808916</td></tr><tr><th>3</th><td>0.81921</td><td>0.630443</td><td>0.932345</td><td>0.244414</td><td>0.0227127</td><td>0.23128</td><td>0.425973</td><td>0.82057</td></tr><tr><th>4</th><td>0.485189</td><td>0.759366</td><td>0.511588</td><td>0.224465</td><td>0.80716</td><td>0.496534</td><td>0.416955</td><td>0.638872</td></tr><tr><th>5</th><td>0.430489</td><td>0.582003</td><td>0.00289283</td><td>0.604527</td><td>0.542163</td><td>0.15152</td><td>0.0971935</td><td>0.0543177</td></tr><tr><th>6</th><td>0.0734914</td><td>0.712906</td><td>0.174779</td><td>0.697425</td><td>0.514251</td><td>0.071913</td><td>0.725867</td><td>0.00524966</td></tr><tr><th>7</th><td>0.162846</td><td>0.141346</td><td>0.292619</td><td>0.828011</td><td>0.0209884</td><td>0.674026</td><td>0.259879</td><td>0.474721</td></tr><tr><th>8</th><td>0.996049</td><td>0.353986</td><td>0.506745</td><td>0.398238</td><td>0.995444</td><td>0.652805</td><td>0.6528</td><td>0.670302</td></tr><tr><th>9</th><td>0.073429</td><td>0.610063</td><td>0.924426</td><td>0.298547</td><td>0.228351</td><td>0.527504</td><td>0.911965</td><td>0.312943</td></tr><tr><th>10</th><td>0.803948</td><td>0.353707</td><td>0.938368</td><td>0.354815</td><td>0.919325</td><td>0.0288723</td><td>0.610301</td><td>0.767286</td></tr></tbody></table></div>"
      ],
      "text/latex": [
       "\\begin{tabular}{r|ccccccccc}\n",
       "\t& x1 & x2 & x3 & x4 & x5 & x6 & x7 & x8 & \\\\\n",
       "\t\\hline\n",
       "\t& Float64 & Float64 & Float64 & Float64 & Float64 & Float64 & Float64 & Float64 & \\\\\n",
       "\t\\hline\n",
       "\t1 & 0.017368 & 0.168686 & 0.933893 & 0.909083 & 0.984198 & 0.580141 & 0.910194 & 0.0921914 & $\\dots$ \\\\\n",
       "\t2 & 0.445297 & 0.767357 & 0.273591 & 0.682757 & 0.258265 & 0.177115 & 0.5858 & 0.808916 & $\\dots$ \\\\\n",
       "\t3 & 0.81921 & 0.630443 & 0.932345 & 0.244414 & 0.0227127 & 0.23128 & 0.425973 & 0.82057 & $\\dots$ \\\\\n",
       "\t4 & 0.485189 & 0.759366 & 0.511588 & 0.224465 & 0.80716 & 0.496534 & 0.416955 & 0.638872 & $\\dots$ \\\\\n",
       "\t5 & 0.430489 & 0.582003 & 0.00289283 & 0.604527 & 0.542163 & 0.15152 & 0.0971935 & 0.0543177 & $\\dots$ \\\\\n",
       "\t6 & 0.0734914 & 0.712906 & 0.174779 & 0.697425 & 0.514251 & 0.071913 & 0.725867 & 0.00524966 & $\\dots$ \\\\\n",
       "\t7 & 0.162846 & 0.141346 & 0.292619 & 0.828011 & 0.0209884 & 0.674026 & 0.259879 & 0.474721 & $\\dots$ \\\\\n",
       "\t8 & 0.996049 & 0.353986 & 0.506745 & 0.398238 & 0.995444 & 0.652805 & 0.6528 & 0.670302 & $\\dots$ \\\\\n",
       "\t9 & 0.073429 & 0.610063 & 0.924426 & 0.298547 & 0.228351 & 0.527504 & 0.911965 & 0.312943 & $\\dots$ \\\\\n",
       "\t10 & 0.803948 & 0.353707 & 0.938368 & 0.354815 & 0.919325 & 0.0288723 & 0.610301 & 0.767286 & $\\dots$ \\\\\n",
       "\\end{tabular}\n"
      ],
      "text/plain": [
       "\u001b[1m10×10 DataFrame\u001b[0m\n",
       "\u001b[1m Row \u001b[0m│\u001b[1m x1        \u001b[0m\u001b[1m x2       \u001b[0m\u001b[1m x3         \u001b[0m\u001b[1m x4       \u001b[0m\u001b[1m x5        \u001b[0m\u001b[1m x6        \u001b[0m\u001b[1m x7    \u001b[0m ⋯\n",
       "\u001b[1m     \u001b[0m│\u001b[90m Float64   \u001b[0m\u001b[90m Float64  \u001b[0m\u001b[90m Float64    \u001b[0m\u001b[90m Float64  \u001b[0m\u001b[90m Float64   \u001b[0m\u001b[90m Float64   \u001b[0m\u001b[90m Float6\u001b[0m ⋯\n",
       "─────┼──────────────────────────────────────────────────────────────────────────\n",
       "   1 │ 0.017368   0.168686  0.933893    0.909083  0.984198   0.580141   0.9101 ⋯\n",
       "   2 │ 0.445297   0.767357  0.273591    0.682757  0.258265   0.177115   0.5858\n",
       "   3 │ 0.81921    0.630443  0.932345    0.244414  0.0227127  0.23128    0.4259\n",
       "  ⋮  │     ⋮         ⋮          ⋮          ⋮          ⋮          ⋮          ⋮  ⋱\n",
       "   8 │ 0.996049   0.353986  0.506745    0.398238  0.995444   0.652805   0.6528\n",
       "   9 │ 0.073429   0.610063  0.924426    0.298547  0.228351   0.527504   0.9119 ⋯\n",
       "  10 │ 0.803948   0.353707  0.938368    0.354815  0.919325   0.0288723  0.6103\n",
       "\u001b[36m                                                    4 columns and 4 rows omitted\u001b[0m"
      ]
     },
     "execution_count": 47,
     "metadata": {},
     "output_type": "execute_result"
    }
   ],
   "source": [
    "x = DataFrame(rand(10, 10), :auto)"
   ]
  },
  {
   "cell_type": "code",
   "execution_count": 48,
   "metadata": {},
   "outputs": [
    {
     "data": {
      "text/html": [
       "<div class=\"data-frame\"><p>1 rows × 10 columns (omitted printing of 2 columns)</p><table class=\"data-frame\"><thead><tr><th></th><th>x1</th><th>x2</th><th>x3</th><th>x4</th><th>x5</th><th>x6</th><th>x7</th><th>x8</th></tr><tr><th></th><th title=\"Float64\">Float64</th><th title=\"Float64\">Float64</th><th title=\"Float64\">Float64</th><th title=\"Float64\">Float64</th><th title=\"Float64\">Float64</th><th title=\"Float64\">Float64</th><th title=\"Float64\">Float64</th><th title=\"Float64\">Float64</th></tr></thead><tbody><tr><th>1</th><td>0.430732</td><td>0.507986</td><td>0.549125</td><td>0.524228</td><td>0.529286</td><td>0.359171</td><td>0.559693</td><td>0.464537</td></tr></tbody></table></div>"
      ],
      "text/latex": [
       "\\begin{tabular}{r|ccccccccc}\n",
       "\t& x1 & x2 & x3 & x4 & x5 & x6 & x7 & x8 & \\\\\n",
       "\t\\hline\n",
       "\t& Float64 & Float64 & Float64 & Float64 & Float64 & Float64 & Float64 & Float64 & \\\\\n",
       "\t\\hline\n",
       "\t1 & 0.430732 & 0.507986 & 0.549125 & 0.524228 & 0.529286 & 0.359171 & 0.559693 & 0.464537 & $\\dots$ \\\\\n",
       "\\end{tabular}\n"
      ],
      "text/plain": [
       "\u001b[1m1×10 DataFrame\u001b[0m\n",
       "\u001b[1m Row \u001b[0m│\u001b[1m x1       \u001b[0m\u001b[1m x2       \u001b[0m\u001b[1m x3       \u001b[0m\u001b[1m x4       \u001b[0m\u001b[1m x5       \u001b[0m\u001b[1m x6       \u001b[0m\u001b[1m x7       \u001b[0m\u001b[1m x\u001b[0m ⋯\n",
       "\u001b[1m     \u001b[0m│\u001b[90m Float64  \u001b[0m\u001b[90m Float64  \u001b[0m\u001b[90m Float64  \u001b[0m\u001b[90m Float64  \u001b[0m\u001b[90m Float64  \u001b[0m\u001b[90m Float64  \u001b[0m\u001b[90m Float64  \u001b[0m\u001b[90m F\u001b[0m ⋯\n",
       "─────┼──────────────────────────────────────────────────────────────────────────\n",
       "   1 │ 0.430732  0.507986  0.549125  0.524228  0.529286  0.359171  0.559693  0 ⋯\n",
       "\u001b[36m                                                               3 columns omitted\u001b[0m"
      ]
     },
     "execution_count": 48,
     "metadata": {},
     "output_type": "execute_result"
    }
   ],
   "source": [
    "mapcols(mean, x)"
   ]
  },
  {
   "cell_type": "markdown",
   "metadata": {},
   "source": [
    "## Mapping rows and columns using `eachcol` and `eachrow`\n"
   ]
  },
  {
   "cell_type": "code",
   "execution_count": 49,
   "metadata": {},
   "outputs": [
    {
     "data": {
      "text/plain": [
       "10-element Vector{Float64}:\n",
       " 0.4307316290295839\n",
       " 0.5079863449806338\n",
       " 0.5491247189130867\n",
       " 0.52422804522142\n",
       " 0.5292857576605206\n",
       " 0.35917103817028684\n",
       " 0.5596928431682949\n",
       " 0.4645368237724785\n",
       " 0.6539731738126912\n",
       " 0.5173236352225387"
      ]
     },
     "execution_count": 49,
     "metadata": {},
     "output_type": "execute_result"
    }
   ],
   "source": [
    "map(mean, eachcol(x)) # map a function over each column and return a vector"
   ]
  },
  {
   "cell_type": "code",
   "execution_count": 50,
   "metadata": {},
   "outputs": [
    {
     "name": "stdout",
     "output_type": "stream",
     "text": [
      "x1: 0.4307316290295839\n",
      "x2: 0.5079863449806338\n",
      "x3: 0.5491247189130867\n",
      "x4: 0.52422804522142\n",
      "x5: 0.5292857576605206\n",
      "x6: 0.35917103817028684\n",
      "x7: 0.5596928431682949\n",
      "x8: 0.4645368237724785\n",
      "x9: 0.6539731738126912\n",
      "x10: 0.5173236352225387\n"
     ]
    }
   ],
   "source": [
    "# an iteration returns a Pair with column name and values\n",
    "foreach(c -> println(c[1], \": \", mean(c[2])), pairs(eachcol(x)))"
   ]
  },
  {
   "cell_type": "code",
   "execution_count": 51,
   "metadata": {},
   "outputs": [
    {
     "data": {
      "text/plain": [
       "10-element Vector{Float64}:\n",
       " 0.10296070569790451\n",
       " 0.5802995585681167\n",
       " 1.2994193056855783\n",
       " 0.6389402596649496\n",
       " 0.7396671239595247\n",
       " 0.10308712340871672\n",
       " 1.152112973017291\n",
       " 2.813804848014652\n",
       " 0.12036296221096472\n",
       " 2.272922480876994"
      ]
     },
     "execution_count": 51,
     "metadata": {},
     "output_type": "execute_result"
    }
   ],
   "source": [
    "# now the returned value is DataFrameRow which works as a NamedTuple but is a view to a parent DataFrame\n",
    "map(r -> r.x1/r.x2, eachrow(x))"
   ]
  },
  {
   "cell_type": "code",
   "execution_count": 52,
   "metadata": {},
   "outputs": [
    {
     "data": {
      "text/html": [
       "<p>10×10 DataFrameRows</p><div class=\"data-frame\"><table class=\"data-frame\"><thead><tr><th></th><th>x1</th><th>x2</th><th>x3</th><th>x4</th><th>x5</th><th>x6</th><th>x7</th><th>x8</th></tr><tr><th></th><th title=\"Float64\">Float64</th><th title=\"Float64\">Float64</th><th title=\"Float64\">Float64</th><th title=\"Float64\">Float64</th><th title=\"Float64\">Float64</th><th title=\"Float64\">Float64</th><th title=\"Float64\">Float64</th><th title=\"Float64\">Float64</th></tr></thead><tbody><tr><th>1</th><td>0.017368</td><td>0.168686</td><td>0.933893</td><td>0.909083</td><td>0.984198</td><td>0.580141</td><td>0.910194</td><td>0.0921914</td></tr><tr><th>2</th><td>0.445297</td><td>0.767357</td><td>0.273591</td><td>0.682757</td><td>0.258265</td><td>0.177115</td><td>0.5858</td><td>0.808916</td></tr><tr><th>3</th><td>0.81921</td><td>0.630443</td><td>0.932345</td><td>0.244414</td><td>0.0227127</td><td>0.23128</td><td>0.425973</td><td>0.82057</td></tr><tr><th>4</th><td>0.485189</td><td>0.759366</td><td>0.511588</td><td>0.224465</td><td>0.80716</td><td>0.496534</td><td>0.416955</td><td>0.638872</td></tr><tr><th>5</th><td>0.430489</td><td>0.582003</td><td>0.00289283</td><td>0.604527</td><td>0.542163</td><td>0.15152</td><td>0.0971935</td><td>0.0543177</td></tr><tr><th>6</th><td>0.0734914</td><td>0.712906</td><td>0.174779</td><td>0.697425</td><td>0.514251</td><td>0.071913</td><td>0.725867</td><td>0.00524966</td></tr><tr><th>7</th><td>0.162846</td><td>0.141346</td><td>0.292619</td><td>0.828011</td><td>0.0209884</td><td>0.674026</td><td>0.259879</td><td>0.474721</td></tr><tr><th>8</th><td>0.996049</td><td>0.353986</td><td>0.506745</td><td>0.398238</td><td>0.995444</td><td>0.652805</td><td>0.6528</td><td>0.670302</td></tr><tr><th>9</th><td>0.073429</td><td>0.610063</td><td>0.924426</td><td>0.298547</td><td>0.228351</td><td>0.527504</td><td>0.911965</td><td>0.312943</td></tr><tr><th>10</th><td>0.803948</td><td>0.353707</td><td>0.938368</td><td>0.354815</td><td>0.919325</td><td>0.0288723</td><td>0.610301</td><td>0.767286</td></tr></tbody></table></div>"
      ],
      "text/latex": [
       "\\begin{tabular}{r|ccccccccc}\n",
       "\t& x1 & x2 & x3 & x4 & x5 & x6 & x7 & x8 & \\\\\n",
       "\t\\hline\n",
       "\t& Float64 & Float64 & Float64 & Float64 & Float64 & Float64 & Float64 & Float64 & \\\\\n",
       "\t\\hline\n",
       "\t1 & 0.017368 & 0.168686 & 0.933893 & 0.909083 & 0.984198 & 0.580141 & 0.910194 & 0.0921914 & $\\dots$ \\\\\n",
       "\t2 & 0.445297 & 0.767357 & 0.273591 & 0.682757 & 0.258265 & 0.177115 & 0.5858 & 0.808916 & $\\dots$ \\\\\n",
       "\t3 & 0.81921 & 0.630443 & 0.932345 & 0.244414 & 0.0227127 & 0.23128 & 0.425973 & 0.82057 & $\\dots$ \\\\\n",
       "\t4 & 0.485189 & 0.759366 & 0.511588 & 0.224465 & 0.80716 & 0.496534 & 0.416955 & 0.638872 & $\\dots$ \\\\\n",
       "\t5 & 0.430489 & 0.582003 & 0.00289283 & 0.604527 & 0.542163 & 0.15152 & 0.0971935 & 0.0543177 & $\\dots$ \\\\\n",
       "\t6 & 0.0734914 & 0.712906 & 0.174779 & 0.697425 & 0.514251 & 0.071913 & 0.725867 & 0.00524966 & $\\dots$ \\\\\n",
       "\t7 & 0.162846 & 0.141346 & 0.292619 & 0.828011 & 0.0209884 & 0.674026 & 0.259879 & 0.474721 & $\\dots$ \\\\\n",
       "\t8 & 0.996049 & 0.353986 & 0.506745 & 0.398238 & 0.995444 & 0.652805 & 0.6528 & 0.670302 & $\\dots$ \\\\\n",
       "\t9 & 0.073429 & 0.610063 & 0.924426 & 0.298547 & 0.228351 & 0.527504 & 0.911965 & 0.312943 & $\\dots$ \\\\\n",
       "\t10 & 0.803948 & 0.353707 & 0.938368 & 0.354815 & 0.919325 & 0.0288723 & 0.610301 & 0.767286 & $\\dots$ \\\\\n",
       "\\end{tabular}\n"
      ],
      "text/plain": [
       "\u001b[1m10×10 DataFrameRows\u001b[0m\n",
       "\u001b[1m Row \u001b[0m│\u001b[1m x1        \u001b[0m\u001b[1m x2       \u001b[0m\u001b[1m x3         \u001b[0m\u001b[1m x4       \u001b[0m\u001b[1m x5        \u001b[0m\u001b[1m x6        \u001b[0m\u001b[1m x7    \u001b[0m ⋯\n",
       "\u001b[1m     \u001b[0m│\u001b[90m Float64   \u001b[0m\u001b[90m Float64  \u001b[0m\u001b[90m Float64    \u001b[0m\u001b[90m Float64  \u001b[0m\u001b[90m Float64   \u001b[0m\u001b[90m Float64   \u001b[0m\u001b[90m Float6\u001b[0m ⋯\n",
       "─────┼──────────────────────────────────────────────────────────────────────────\n",
       "   1 │ 0.017368   0.168686  0.933893    0.909083  0.984198   0.580141   0.9101 ⋯\n",
       "   2 │ 0.445297   0.767357  0.273591    0.682757  0.258265   0.177115   0.5858\n",
       "   3 │ 0.81921    0.630443  0.932345    0.244414  0.0227127  0.23128    0.4259\n",
       "  ⋮  │     ⋮         ⋮          ⋮          ⋮          ⋮          ⋮          ⋮  ⋱\n",
       "   8 │ 0.996049   0.353986  0.506745    0.398238  0.995444   0.652805   0.6528\n",
       "   9 │ 0.073429   0.610063  0.924426    0.298547  0.228351   0.527504   0.9119 ⋯\n",
       "  10 │ 0.803948   0.353707  0.938368    0.354815  0.919325   0.0288723  0.6103\n",
       "\u001b[36m                                                    4 columns and 4 rows omitted\u001b[0m"
      ]
     },
     "execution_count": 52,
     "metadata": {},
     "output_type": "execute_result"
    }
   ],
   "source": [
    "# it prints like a data frame, only the caption is different so that you know the type of the object\n",
    "er = eachrow(x)"
   ]
  },
  {
   "cell_type": "code",
   "execution_count": 53,
   "metadata": {},
   "outputs": [
    {
     "data": {
      "text/plain": [
       "10-element Vector{Float64}:\n",
       " 0.017368041622140895\n",
       " 0.4452971570504485\n",
       " 0.8192103195643368\n",
       " 0.4851893916600032\n",
       " 0.43048873693673295\n",
       " 0.07349143114684198\n",
       " 0.16284607961881536\n",
       " 0.9960485483588055\n",
       " 0.07342897147079275\n",
       " 0.8039476128669221"
      ]
     },
     "execution_count": 53,
     "metadata": {},
     "output_type": "execute_result"
    }
   ],
   "source": [
    "er.x1 # you can access columns of a parent data frame directly\n"
   ]
  },
  {
   "cell_type": "code",
   "execution_count": 54,
   "metadata": {},
   "outputs": [
    {
     "data": {
      "text/html": [
       "<p>10×10 DataFrameColumns</p><div class=\"data-frame\"><table class=\"data-frame\"><thead><tr><th></th><th>x1</th><th>x2</th><th>x3</th><th>x4</th><th>x5</th><th>x6</th><th>x7</th><th>x8</th></tr><tr><th></th><th title=\"Float64\">Float64</th><th title=\"Float64\">Float64</th><th title=\"Float64\">Float64</th><th title=\"Float64\">Float64</th><th title=\"Float64\">Float64</th><th title=\"Float64\">Float64</th><th title=\"Float64\">Float64</th><th title=\"Float64\">Float64</th></tr></thead><tbody><tr><th>1</th><td>0.017368</td><td>0.168686</td><td>0.933893</td><td>0.909083</td><td>0.984198</td><td>0.580141</td><td>0.910194</td><td>0.0921914</td></tr><tr><th>2</th><td>0.445297</td><td>0.767357</td><td>0.273591</td><td>0.682757</td><td>0.258265</td><td>0.177115</td><td>0.5858</td><td>0.808916</td></tr><tr><th>3</th><td>0.81921</td><td>0.630443</td><td>0.932345</td><td>0.244414</td><td>0.0227127</td><td>0.23128</td><td>0.425973</td><td>0.82057</td></tr><tr><th>4</th><td>0.485189</td><td>0.759366</td><td>0.511588</td><td>0.224465</td><td>0.80716</td><td>0.496534</td><td>0.416955</td><td>0.638872</td></tr><tr><th>5</th><td>0.430489</td><td>0.582003</td><td>0.00289283</td><td>0.604527</td><td>0.542163</td><td>0.15152</td><td>0.0971935</td><td>0.0543177</td></tr><tr><th>6</th><td>0.0734914</td><td>0.712906</td><td>0.174779</td><td>0.697425</td><td>0.514251</td><td>0.071913</td><td>0.725867</td><td>0.00524966</td></tr><tr><th>7</th><td>0.162846</td><td>0.141346</td><td>0.292619</td><td>0.828011</td><td>0.0209884</td><td>0.674026</td><td>0.259879</td><td>0.474721</td></tr><tr><th>8</th><td>0.996049</td><td>0.353986</td><td>0.506745</td><td>0.398238</td><td>0.995444</td><td>0.652805</td><td>0.6528</td><td>0.670302</td></tr><tr><th>9</th><td>0.073429</td><td>0.610063</td><td>0.924426</td><td>0.298547</td><td>0.228351</td><td>0.527504</td><td>0.911965</td><td>0.312943</td></tr><tr><th>10</th><td>0.803948</td><td>0.353707</td><td>0.938368</td><td>0.354815</td><td>0.919325</td><td>0.0288723</td><td>0.610301</td><td>0.767286</td></tr></tbody></table></div>"
      ],
      "text/latex": [
       "\\begin{tabular}{r|ccccccccc}\n",
       "\t& x1 & x2 & x3 & x4 & x5 & x6 & x7 & x8 & \\\\\n",
       "\t\\hline\n",
       "\t& Float64 & Float64 & Float64 & Float64 & Float64 & Float64 & Float64 & Float64 & \\\\\n",
       "\t\\hline\n",
       "\t1 & 0.017368 & 0.168686 & 0.933893 & 0.909083 & 0.984198 & 0.580141 & 0.910194 & 0.0921914 & $\\dots$ \\\\\n",
       "\t2 & 0.445297 & 0.767357 & 0.273591 & 0.682757 & 0.258265 & 0.177115 & 0.5858 & 0.808916 & $\\dots$ \\\\\n",
       "\t3 & 0.81921 & 0.630443 & 0.932345 & 0.244414 & 0.0227127 & 0.23128 & 0.425973 & 0.82057 & $\\dots$ \\\\\n",
       "\t4 & 0.485189 & 0.759366 & 0.511588 & 0.224465 & 0.80716 & 0.496534 & 0.416955 & 0.638872 & $\\dots$ \\\\\n",
       "\t5 & 0.430489 & 0.582003 & 0.00289283 & 0.604527 & 0.542163 & 0.15152 & 0.0971935 & 0.0543177 & $\\dots$ \\\\\n",
       "\t6 & 0.0734914 & 0.712906 & 0.174779 & 0.697425 & 0.514251 & 0.071913 & 0.725867 & 0.00524966 & $\\dots$ \\\\\n",
       "\t7 & 0.162846 & 0.141346 & 0.292619 & 0.828011 & 0.0209884 & 0.674026 & 0.259879 & 0.474721 & $\\dots$ \\\\\n",
       "\t8 & 0.996049 & 0.353986 & 0.506745 & 0.398238 & 0.995444 & 0.652805 & 0.6528 & 0.670302 & $\\dots$ \\\\\n",
       "\t9 & 0.073429 & 0.610063 & 0.924426 & 0.298547 & 0.228351 & 0.527504 & 0.911965 & 0.312943 & $\\dots$ \\\\\n",
       "\t10 & 0.803948 & 0.353707 & 0.938368 & 0.354815 & 0.919325 & 0.0288723 & 0.610301 & 0.767286 & $\\dots$ \\\\\n",
       "\\end{tabular}\n"
      ],
      "text/plain": [
       "\u001b[1m10×10 DataFrameColumns\u001b[0m\n",
       "\u001b[1m Row \u001b[0m│\u001b[1m x1        \u001b[0m\u001b[1m x2       \u001b[0m\u001b[1m x3         \u001b[0m\u001b[1m x4       \u001b[0m\u001b[1m x5        \u001b[0m\u001b[1m x6        \u001b[0m\u001b[1m x7    \u001b[0m ⋯\n",
       "\u001b[1m     \u001b[0m│\u001b[90m Float64   \u001b[0m\u001b[90m Float64  \u001b[0m\u001b[90m Float64    \u001b[0m\u001b[90m Float64  \u001b[0m\u001b[90m Float64   \u001b[0m\u001b[90m Float64   \u001b[0m\u001b[90m Float6\u001b[0m ⋯\n",
       "─────┼──────────────────────────────────────────────────────────────────────────\n",
       "   1 │ 0.017368   0.168686  0.933893    0.909083  0.984198   0.580141   0.9101 ⋯\n",
       "   2 │ 0.445297   0.767357  0.273591    0.682757  0.258265   0.177115   0.5858\n",
       "   3 │ 0.81921    0.630443  0.932345    0.244414  0.0227127  0.23128    0.4259\n",
       "  ⋮  │     ⋮         ⋮          ⋮          ⋮          ⋮          ⋮          ⋮  ⋱\n",
       "   8 │ 0.996049   0.353986  0.506745    0.398238  0.995444   0.652805   0.6528\n",
       "   9 │ 0.073429   0.610063  0.924426    0.298547  0.228351   0.527504   0.9119 ⋯\n",
       "  10 │ 0.803948   0.353707  0.938368    0.354815  0.919325   0.0288723  0.6103\n",
       "\u001b[36m                                                    4 columns and 4 rows omitted\u001b[0m"
      ]
     },
     "execution_count": 54,
     "metadata": {},
     "output_type": "execute_result"
    }
   ],
   "source": [
    "# it prints like a data frame, only the caption is different so that you know the type of the object\n",
    "ec = eachcol(x)"
   ]
  },
  {
   "cell_type": "code",
   "execution_count": 55,
   "metadata": {},
   "outputs": [
    {
     "data": {
      "text/plain": [
       "10-element Vector{Float64}:\n",
       " 0.017368041622140895\n",
       " 0.4452971570504485\n",
       " 0.8192103195643368\n",
       " 0.4851893916600032\n",
       " 0.43048873693673295\n",
       " 0.07349143114684198\n",
       " 0.16284607961881536\n",
       " 0.9960485483588055\n",
       " 0.07342897147079275\n",
       " 0.8039476128669221"
      ]
     },
     "execution_count": 55,
     "metadata": {},
     "output_type": "execute_result"
    }
   ],
   "source": [
    "ec.x1 # you can access columns of a parent data frame directly\n"
   ]
  },
  {
   "cell_type": "markdown",
   "metadata": {},
   "source": [
    "## Transposing\n",
    "you can transpose a data frame using permutedims:"
   ]
  },
  {
   "cell_type": "code",
   "execution_count": 56,
   "metadata": {},
   "outputs": [
    {
     "data": {
      "text/html": [
       "<div class=\"data-frame\"><p>3 rows × 4 columns</p><table class=\"data-frame\"><thead><tr><th></th><th>x1</th><th>x2</th><th>x3</th><th>x4</th></tr><tr><th></th><th title=\"Int64\">Int64</th><th title=\"Int64\">Int64</th><th title=\"Int64\">Int64</th><th title=\"Int64\">Int64</th></tr></thead><tbody><tr><th>1</th><td>1</td><td>4</td><td>7</td><td>10</td></tr><tr><th>2</th><td>2</td><td>5</td><td>8</td><td>11</td></tr><tr><th>3</th><td>3</td><td>6</td><td>9</td><td>12</td></tr></tbody></table></div>"
      ],
      "text/latex": [
       "\\begin{tabular}{r|cccc}\n",
       "\t& x1 & x2 & x3 & x4\\\\\n",
       "\t\\hline\n",
       "\t& Int64 & Int64 & Int64 & Int64\\\\\n",
       "\t\\hline\n",
       "\t1 & 1 & 4 & 7 & 10 \\\\\n",
       "\t2 & 2 & 5 & 8 & 11 \\\\\n",
       "\t3 & 3 & 6 & 9 & 12 \\\\\n",
       "\\end{tabular}\n"
      ],
      "text/plain": [
       "\u001b[1m3×4 DataFrame\u001b[0m\n",
       "\u001b[1m Row \u001b[0m│\u001b[1m x1    \u001b[0m\u001b[1m x2    \u001b[0m\u001b[1m x3    \u001b[0m\u001b[1m x4    \u001b[0m\n",
       "\u001b[1m     \u001b[0m│\u001b[90m Int64 \u001b[0m\u001b[90m Int64 \u001b[0m\u001b[90m Int64 \u001b[0m\u001b[90m Int64 \u001b[0m\n",
       "─────┼────────────────────────────\n",
       "   1 │     1      4      7     10\n",
       "   2 │     2      5      8     11\n",
       "   3 │     3      6      9     12"
      ]
     },
     "execution_count": 56,
     "metadata": {},
     "output_type": "execute_result"
    }
   ],
   "source": [
    "df = DataFrame(reshape(1:12, 3, 4), :auto)"
   ]
  },
  {
   "cell_type": "code",
   "execution_count": 57,
   "metadata": {},
   "outputs": [
    {
     "data": {
      "text/plain": [
       "3-element Vector{String}:\n",
       " \"a\"\n",
       " \"b\"\n",
       " \"c\""
      ]
     },
     "execution_count": 57,
     "metadata": {},
     "output_type": "execute_result"
    }
   ],
   "source": [
    "df.names = [\"a\", \"b\", \"c\"]"
   ]
  },
  {
   "cell_type": "code",
   "execution_count": 58,
   "metadata": {},
   "outputs": [
    {
     "data": {
      "text/html": [
       "<div class=\"data-frame\"><p>4 rows × 4 columns</p><table class=\"data-frame\"><thead><tr><th></th><th>names</th><th>a</th><th>b</th><th>c</th></tr><tr><th></th><th title=\"String\">String</th><th title=\"Int64\">Int64</th><th title=\"Int64\">Int64</th><th title=\"Int64\">Int64</th></tr></thead><tbody><tr><th>1</th><td>x1</td><td>1</td><td>2</td><td>3</td></tr><tr><th>2</th><td>x2</td><td>4</td><td>5</td><td>6</td></tr><tr><th>3</th><td>x3</td><td>7</td><td>8</td><td>9</td></tr><tr><th>4</th><td>x4</td><td>10</td><td>11</td><td>12</td></tr></tbody></table></div>"
      ],
      "text/latex": [
       "\\begin{tabular}{r|cccc}\n",
       "\t& names & a & b & c\\\\\n",
       "\t\\hline\n",
       "\t& String & Int64 & Int64 & Int64\\\\\n",
       "\t\\hline\n",
       "\t1 & x1 & 1 & 2 & 3 \\\\\n",
       "\t2 & x2 & 4 & 5 & 6 \\\\\n",
       "\t3 & x3 & 7 & 8 & 9 \\\\\n",
       "\t4 & x4 & 10 & 11 & 12 \\\\\n",
       "\\end{tabular}\n"
      ],
      "text/plain": [
       "\u001b[1m4×4 DataFrame\u001b[0m\n",
       "\u001b[1m Row \u001b[0m│\u001b[1m names  \u001b[0m\u001b[1m a     \u001b[0m\u001b[1m b     \u001b[0m\u001b[1m c     \u001b[0m\n",
       "\u001b[1m     \u001b[0m│\u001b[90m String \u001b[0m\u001b[90m Int64 \u001b[0m\u001b[90m Int64 \u001b[0m\u001b[90m Int64 \u001b[0m\n",
       "─────┼─────────────────────────────\n",
       "   1 │ x1          1      2      3\n",
       "   2 │ x2          4      5      6\n",
       "   3 │ x3          7      8      9\n",
       "   4 │ x4         10     11     12"
      ]
     },
     "execution_count": 58,
     "metadata": {},
     "output_type": "execute_result"
    }
   ],
   "source": [
    "permutedims(df, :names)"
   ]
  },
  {
   "cell_type": "code",
   "execution_count": null,
   "metadata": {},
   "outputs": [],
   "source": []
  }
 ],
 "metadata": {
  "kernelspec": {
   "display_name": "Julia 1.6.3",
   "language": "julia",
   "name": "julia-1.6"
  },
  "language_info": {
   "file_extension": ".jl",
   "mimetype": "application/julia",
   "name": "julia",
   "version": "1.6.3"
  },
  "orig_nbformat": 4
 },
 "nbformat": 4,
 "nbformat_minor": 2
}
