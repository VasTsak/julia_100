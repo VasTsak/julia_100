{
 "cells": [
  {
   "cell_type": "markdown",
   "metadata": {},
   "source": [
    "## Cross tabulation\n",
    "\n",
    "Cross tabulation, or contingency matrix, is a basis for many clustering quality measures. It shows how similar are the two clusterings on a cluster level."
   ]
  },
  {
   "cell_type": "code",
   "execution_count": 1,
   "metadata": {},
   "outputs": [],
   "source": [
    "# Packages we will use throughout this notebook\n",
    "using Clustering\n",
    "using VegaLite\n",
    "using VegaDatasets\n",
    "using DataFrames\n",
    "using Statistics\n",
    "using JSON\n",
    "using CSV\n",
    "using Distances"
   ]
  },
  {
   "cell_type": "code",
   "execution_count": 2,
   "metadata": {},
   "outputs": [
    {
     "name": "stderr",
     "output_type": "stream",
     "text": [
      "┌ Error: curl_easy_setopt: 48\n",
      "└ @ Downloads.Curl /Users/julia/buildbot/worker/package_macos64/build/usr/share/julia/stdlib/v1.6/Downloads/src/Curl/utils.jl:36\n",
      "┌ Error: curl_easy_setopt: 48\n",
      "└ @ Downloads.Curl /Users/julia/buildbot/worker/package_macos64/build/usr/share/julia/stdlib/v1.6/Downloads/src/Curl/utils.jl:36\n",
      "┌ Error: curl_easy_setopt: 48\n",
      "└ @ Downloads.Curl /Users/julia/buildbot/worker/package_macos64/build/usr/share/julia/stdlib/v1.6/Downloads/src/Curl/utils.jl:36\n"
     ]
    },
    {
     "data": {
      "text/html": [
       "<div class=\"data-frame\"><p>20,640 rows × 10 columns (omitted printing of 4 columns)</p><table class=\"data-frame\"><thead><tr><th></th><th>longitude</th><th>latitude</th><th>housing_median_age</th><th>total_rooms</th><th>total_bedrooms</th><th>population</th></tr><tr><th></th><th title=\"Float64\">Float64</th><th title=\"Float64\">Float64</th><th title=\"Float64\">Float64</th><th title=\"Float64\">Float64</th><th title=\"Union{Missing, Float64}\">Float64?</th><th title=\"Float64\">Float64</th></tr></thead><tbody><tr><th>1</th><td>-122.23</td><td>37.88</td><td>41.0</td><td>880.0</td><td>129.0</td><td>322.0</td></tr><tr><th>2</th><td>-122.22</td><td>37.86</td><td>21.0</td><td>7099.0</td><td>1106.0</td><td>2401.0</td></tr><tr><th>3</th><td>-122.24</td><td>37.85</td><td>52.0</td><td>1467.0</td><td>190.0</td><td>496.0</td></tr><tr><th>4</th><td>-122.25</td><td>37.85</td><td>52.0</td><td>1274.0</td><td>235.0</td><td>558.0</td></tr><tr><th>5</th><td>-122.25</td><td>37.85</td><td>52.0</td><td>1627.0</td><td>280.0</td><td>565.0</td></tr><tr><th>6</th><td>-122.25</td><td>37.85</td><td>52.0</td><td>919.0</td><td>213.0</td><td>413.0</td></tr><tr><th>7</th><td>-122.25</td><td>37.84</td><td>52.0</td><td>2535.0</td><td>489.0</td><td>1094.0</td></tr><tr><th>8</th><td>-122.25</td><td>37.84</td><td>52.0</td><td>3104.0</td><td>687.0</td><td>1157.0</td></tr><tr><th>9</th><td>-122.26</td><td>37.84</td><td>42.0</td><td>2555.0</td><td>665.0</td><td>1206.0</td></tr><tr><th>10</th><td>-122.25</td><td>37.84</td><td>52.0</td><td>3549.0</td><td>707.0</td><td>1551.0</td></tr><tr><th>11</th><td>-122.26</td><td>37.85</td><td>52.0</td><td>2202.0</td><td>434.0</td><td>910.0</td></tr><tr><th>12</th><td>-122.26</td><td>37.85</td><td>52.0</td><td>3503.0</td><td>752.0</td><td>1504.0</td></tr><tr><th>13</th><td>-122.26</td><td>37.85</td><td>52.0</td><td>2491.0</td><td>474.0</td><td>1098.0</td></tr><tr><th>14</th><td>-122.26</td><td>37.84</td><td>52.0</td><td>696.0</td><td>191.0</td><td>345.0</td></tr><tr><th>15</th><td>-122.26</td><td>37.85</td><td>52.0</td><td>2643.0</td><td>626.0</td><td>1212.0</td></tr><tr><th>16</th><td>-122.26</td><td>37.85</td><td>50.0</td><td>1120.0</td><td>283.0</td><td>697.0</td></tr><tr><th>17</th><td>-122.27</td><td>37.85</td><td>52.0</td><td>1966.0</td><td>347.0</td><td>793.0</td></tr><tr><th>18</th><td>-122.27</td><td>37.85</td><td>52.0</td><td>1228.0</td><td>293.0</td><td>648.0</td></tr><tr><th>19</th><td>-122.26</td><td>37.84</td><td>50.0</td><td>2239.0</td><td>455.0</td><td>990.0</td></tr><tr><th>20</th><td>-122.27</td><td>37.84</td><td>52.0</td><td>1503.0</td><td>298.0</td><td>690.0</td></tr><tr><th>21</th><td>-122.27</td><td>37.85</td><td>40.0</td><td>751.0</td><td>184.0</td><td>409.0</td></tr><tr><th>22</th><td>-122.27</td><td>37.85</td><td>42.0</td><td>1639.0</td><td>367.0</td><td>929.0</td></tr><tr><th>23</th><td>-122.27</td><td>37.84</td><td>52.0</td><td>2436.0</td><td>541.0</td><td>1015.0</td></tr><tr><th>24</th><td>-122.27</td><td>37.84</td><td>52.0</td><td>1688.0</td><td>337.0</td><td>853.0</td></tr><tr><th>25</th><td>-122.27</td><td>37.84</td><td>52.0</td><td>2224.0</td><td>437.0</td><td>1006.0</td></tr><tr><th>26</th><td>-122.28</td><td>37.85</td><td>41.0</td><td>535.0</td><td>123.0</td><td>317.0</td></tr><tr><th>27</th><td>-122.28</td><td>37.85</td><td>49.0</td><td>1130.0</td><td>244.0</td><td>607.0</td></tr><tr><th>28</th><td>-122.28</td><td>37.85</td><td>52.0</td><td>1898.0</td><td>421.0</td><td>1102.0</td></tr><tr><th>29</th><td>-122.28</td><td>37.84</td><td>50.0</td><td>2082.0</td><td>492.0</td><td>1131.0</td></tr><tr><th>30</th><td>-122.28</td><td>37.84</td><td>52.0</td><td>729.0</td><td>160.0</td><td>395.0</td></tr><tr><th>&vellip;</th><td>&vellip;</td><td>&vellip;</td><td>&vellip;</td><td>&vellip;</td><td>&vellip;</td><td>&vellip;</td></tr></tbody></table></div>"
      ],
      "text/latex": [
       "\\begin{tabular}{r|ccccccc}\n",
       "\t& longitude & latitude & housing\\_median\\_age & total\\_rooms & total\\_bedrooms & population & \\\\\n",
       "\t\\hline\n",
       "\t& Float64 & Float64 & Float64 & Float64 & Float64? & Float64 & \\\\\n",
       "\t\\hline\n",
       "\t1 & -122.23 & 37.88 & 41.0 & 880.0 & 129.0 & 322.0 & $\\dots$ \\\\\n",
       "\t2 & -122.22 & 37.86 & 21.0 & 7099.0 & 1106.0 & 2401.0 & $\\dots$ \\\\\n",
       "\t3 & -122.24 & 37.85 & 52.0 & 1467.0 & 190.0 & 496.0 & $\\dots$ \\\\\n",
       "\t4 & -122.25 & 37.85 & 52.0 & 1274.0 & 235.0 & 558.0 & $\\dots$ \\\\\n",
       "\t5 & -122.25 & 37.85 & 52.0 & 1627.0 & 280.0 & 565.0 & $\\dots$ \\\\\n",
       "\t6 & -122.25 & 37.85 & 52.0 & 919.0 & 213.0 & 413.0 & $\\dots$ \\\\\n",
       "\t7 & -122.25 & 37.84 & 52.0 & 2535.0 & 489.0 & 1094.0 & $\\dots$ \\\\\n",
       "\t8 & -122.25 & 37.84 & 52.0 & 3104.0 & 687.0 & 1157.0 & $\\dots$ \\\\\n",
       "\t9 & -122.26 & 37.84 & 42.0 & 2555.0 & 665.0 & 1206.0 & $\\dots$ \\\\\n",
       "\t10 & -122.25 & 37.84 & 52.0 & 3549.0 & 707.0 & 1551.0 & $\\dots$ \\\\\n",
       "\t11 & -122.26 & 37.85 & 52.0 & 2202.0 & 434.0 & 910.0 & $\\dots$ \\\\\n",
       "\t12 & -122.26 & 37.85 & 52.0 & 3503.0 & 752.0 & 1504.0 & $\\dots$ \\\\\n",
       "\t13 & -122.26 & 37.85 & 52.0 & 2491.0 & 474.0 & 1098.0 & $\\dots$ \\\\\n",
       "\t14 & -122.26 & 37.84 & 52.0 & 696.0 & 191.0 & 345.0 & $\\dots$ \\\\\n",
       "\t15 & -122.26 & 37.85 & 52.0 & 2643.0 & 626.0 & 1212.0 & $\\dots$ \\\\\n",
       "\t16 & -122.26 & 37.85 & 50.0 & 1120.0 & 283.0 & 697.0 & $\\dots$ \\\\\n",
       "\t17 & -122.27 & 37.85 & 52.0 & 1966.0 & 347.0 & 793.0 & $\\dots$ \\\\\n",
       "\t18 & -122.27 & 37.85 & 52.0 & 1228.0 & 293.0 & 648.0 & $\\dots$ \\\\\n",
       "\t19 & -122.26 & 37.84 & 50.0 & 2239.0 & 455.0 & 990.0 & $\\dots$ \\\\\n",
       "\t20 & -122.27 & 37.84 & 52.0 & 1503.0 & 298.0 & 690.0 & $\\dots$ \\\\\n",
       "\t21 & -122.27 & 37.85 & 40.0 & 751.0 & 184.0 & 409.0 & $\\dots$ \\\\\n",
       "\t22 & -122.27 & 37.85 & 42.0 & 1639.0 & 367.0 & 929.0 & $\\dots$ \\\\\n",
       "\t23 & -122.27 & 37.84 & 52.0 & 2436.0 & 541.0 & 1015.0 & $\\dots$ \\\\\n",
       "\t24 & -122.27 & 37.84 & 52.0 & 1688.0 & 337.0 & 853.0 & $\\dots$ \\\\\n",
       "\t25 & -122.27 & 37.84 & 52.0 & 2224.0 & 437.0 & 1006.0 & $\\dots$ \\\\\n",
       "\t26 & -122.28 & 37.85 & 41.0 & 535.0 & 123.0 & 317.0 & $\\dots$ \\\\\n",
       "\t27 & -122.28 & 37.85 & 49.0 & 1130.0 & 244.0 & 607.0 & $\\dots$ \\\\\n",
       "\t28 & -122.28 & 37.85 & 52.0 & 1898.0 & 421.0 & 1102.0 & $\\dots$ \\\\\n",
       "\t29 & -122.28 & 37.84 & 50.0 & 2082.0 & 492.0 & 1131.0 & $\\dots$ \\\\\n",
       "\t30 & -122.28 & 37.84 & 52.0 & 729.0 & 160.0 & 395.0 & $\\dots$ \\\\\n",
       "\t$\\dots$ & $\\dots$ & $\\dots$ & $\\dots$ & $\\dots$ & $\\dots$ & $\\dots$ &  \\\\\n",
       "\\end{tabular}\n"
      ],
      "text/plain": [
       "\u001b[1m20640×10 DataFrame\u001b[0m\n",
       "\u001b[1m   Row \u001b[0m│\u001b[1m longitude \u001b[0m\u001b[1m latitude \u001b[0m\u001b[1m housing_median_age \u001b[0m\u001b[1m total_rooms \u001b[0m\u001b[1m total_bedrooms \u001b[0m\u001b[1m\u001b[0m ⋯\n",
       "\u001b[1m       \u001b[0m│\u001b[90m Float64   \u001b[0m\u001b[90m Float64  \u001b[0m\u001b[90m Float64            \u001b[0m\u001b[90m Float64     \u001b[0m\u001b[90m Float64?       \u001b[0m\u001b[90m\u001b[0m ⋯\n",
       "───────┼────────────────────────────────────────────────────────────────────────\n",
       "     1 │   -122.23     37.88                41.0        880.0           129.0  ⋯\n",
       "     2 │   -122.22     37.86                21.0       7099.0          1106.0\n",
       "     3 │   -122.24     37.85                52.0       1467.0           190.0\n",
       "     4 │   -122.25     37.85                52.0       1274.0           235.0\n",
       "     5 │   -122.25     37.85                52.0       1627.0           280.0  ⋯\n",
       "     6 │   -122.25     37.85                52.0        919.0           213.0\n",
       "     7 │   -122.25     37.84                52.0       2535.0           489.0\n",
       "     8 │   -122.25     37.84                52.0       3104.0           687.0\n",
       "     9 │   -122.26     37.84                42.0       2555.0           665.0  ⋯\n",
       "    10 │   -122.25     37.84                52.0       3549.0           707.0\n",
       "    11 │   -122.26     37.85                52.0       2202.0           434.0\n",
       "   ⋮   │     ⋮         ⋮              ⋮                ⋮             ⋮         ⋱\n",
       " 20631 │   -121.32     39.29                11.0       2640.0           505.0\n",
       " 20632 │   -121.4      39.33                15.0       2655.0           493.0  ⋯\n",
       " 20633 │   -121.45     39.26                15.0       2319.0           416.0\n",
       " 20634 │   -121.53     39.19                27.0       2080.0           412.0\n",
       " 20635 │   -121.56     39.27                28.0       2332.0           395.0\n",
       " 20636 │   -121.09     39.48                25.0       1665.0           374.0  ⋯\n",
       " 20637 │   -121.21     39.49                18.0        697.0           150.0\n",
       " 20638 │   -121.22     39.43                17.0       2254.0           485.0\n",
       " 20639 │   -121.32     39.43                18.0       1860.0           409.0\n",
       " 20640 │   -121.24     39.37                16.0       2785.0           616.0  ⋯\n",
       "\u001b[36m                                                5 columns and 20619 rows omitted\u001b[0m"
      ]
     },
     "execution_count": 2,
     "metadata": {},
     "output_type": "execute_result"
    }
   ],
   "source": [
    "download(\"https://raw.githubusercontent.com/ageron/handson-ml/master/datasets/housing/housing.csv\",\"newhouses.csv\")\n",
    "houses = CSV.read(\"newhouses.csv\", DataFrame)"
   ]
  },
  {
   "cell_type": "code",
   "execution_count": null,
   "metadata": {},
   "outputs": [],
   "source": []
  },
  {
   "cell_type": "code",
   "execution_count": 3,
   "metadata": {},
   "outputs": [
    {
     "data": {
      "text/html": [
       "<div class=\"data-frame\"><p>20,640 rows × 11 columns (omitted printing of 5 columns)</p><table class=\"data-frame\"><thead><tr><th></th><th>longitude</th><th>latitude</th><th>cluster10_means</th><th>housing_median_age</th><th>total_rooms</th><th>total_bedrooms</th></tr><tr><th></th><th title=\"Float64\">Float64</th><th title=\"Float64\">Float64</th><th title=\"Int64\">Int64</th><th title=\"Float64\">Float64</th><th title=\"Float64\">Float64</th><th title=\"Union{Missing, Float64}\">Float64?</th></tr></thead><tbody><tr><th>1</th><td>-122.23</td><td>37.88</td><td>10</td><td>41.0</td><td>880.0</td><td>129.0</td></tr><tr><th>2</th><td>-122.22</td><td>37.86</td><td>10</td><td>21.0</td><td>7099.0</td><td>1106.0</td></tr><tr><th>3</th><td>-122.24</td><td>37.85</td><td>10</td><td>52.0</td><td>1467.0</td><td>190.0</td></tr><tr><th>4</th><td>-122.25</td><td>37.85</td><td>10</td><td>52.0</td><td>1274.0</td><td>235.0</td></tr><tr><th>5</th><td>-122.25</td><td>37.85</td><td>10</td><td>52.0</td><td>1627.0</td><td>280.0</td></tr><tr><th>6</th><td>-122.25</td><td>37.85</td><td>10</td><td>52.0</td><td>919.0</td><td>213.0</td></tr><tr><th>7</th><td>-122.25</td><td>37.84</td><td>10</td><td>52.0</td><td>2535.0</td><td>489.0</td></tr><tr><th>8</th><td>-122.25</td><td>37.84</td><td>10</td><td>52.0</td><td>3104.0</td><td>687.0</td></tr><tr><th>9</th><td>-122.26</td><td>37.84</td><td>10</td><td>42.0</td><td>2555.0</td><td>665.0</td></tr><tr><th>10</th><td>-122.25</td><td>37.84</td><td>10</td><td>52.0</td><td>3549.0</td><td>707.0</td></tr><tr><th>11</th><td>-122.26</td><td>37.85</td><td>10</td><td>52.0</td><td>2202.0</td><td>434.0</td></tr><tr><th>12</th><td>-122.26</td><td>37.85</td><td>10</td><td>52.0</td><td>3503.0</td><td>752.0</td></tr><tr><th>13</th><td>-122.26</td><td>37.85</td><td>10</td><td>52.0</td><td>2491.0</td><td>474.0</td></tr><tr><th>14</th><td>-122.26</td><td>37.84</td><td>10</td><td>52.0</td><td>696.0</td><td>191.0</td></tr><tr><th>15</th><td>-122.26</td><td>37.85</td><td>10</td><td>52.0</td><td>2643.0</td><td>626.0</td></tr><tr><th>16</th><td>-122.26</td><td>37.85</td><td>10</td><td>50.0</td><td>1120.0</td><td>283.0</td></tr><tr><th>17</th><td>-122.27</td><td>37.85</td><td>10</td><td>52.0</td><td>1966.0</td><td>347.0</td></tr><tr><th>18</th><td>-122.27</td><td>37.85</td><td>10</td><td>52.0</td><td>1228.0</td><td>293.0</td></tr><tr><th>19</th><td>-122.26</td><td>37.84</td><td>10</td><td>50.0</td><td>2239.0</td><td>455.0</td></tr><tr><th>20</th><td>-122.27</td><td>37.84</td><td>10</td><td>52.0</td><td>1503.0</td><td>298.0</td></tr><tr><th>21</th><td>-122.27</td><td>37.85</td><td>10</td><td>40.0</td><td>751.0</td><td>184.0</td></tr><tr><th>22</th><td>-122.27</td><td>37.85</td><td>10</td><td>42.0</td><td>1639.0</td><td>367.0</td></tr><tr><th>23</th><td>-122.27</td><td>37.84</td><td>10</td><td>52.0</td><td>2436.0</td><td>541.0</td></tr><tr><th>24</th><td>-122.27</td><td>37.84</td><td>10</td><td>52.0</td><td>1688.0</td><td>337.0</td></tr><tr><th>25</th><td>-122.27</td><td>37.84</td><td>10</td><td>52.0</td><td>2224.0</td><td>437.0</td></tr><tr><th>26</th><td>-122.28</td><td>37.85</td><td>10</td><td>41.0</td><td>535.0</td><td>123.0</td></tr><tr><th>27</th><td>-122.28</td><td>37.85</td><td>10</td><td>49.0</td><td>1130.0</td><td>244.0</td></tr><tr><th>28</th><td>-122.28</td><td>37.85</td><td>10</td><td>52.0</td><td>1898.0</td><td>421.0</td></tr><tr><th>29</th><td>-122.28</td><td>37.84</td><td>10</td><td>50.0</td><td>2082.0</td><td>492.0</td></tr><tr><th>30</th><td>-122.28</td><td>37.84</td><td>10</td><td>52.0</td><td>729.0</td><td>160.0</td></tr><tr><th>&vellip;</th><td>&vellip;</td><td>&vellip;</td><td>&vellip;</td><td>&vellip;</td><td>&vellip;</td><td>&vellip;</td></tr></tbody></table></div>"
      ],
      "text/latex": [
       "\\begin{tabular}{r|ccccccc}\n",
       "\t& longitude & latitude & cluster10\\_means & housing\\_median\\_age & total\\_rooms & total\\_bedrooms & \\\\\n",
       "\t\\hline\n",
       "\t& Float64 & Float64 & Int64 & Float64 & Float64 & Float64? & \\\\\n",
       "\t\\hline\n",
       "\t1 & -122.23 & 37.88 & 10 & 41.0 & 880.0 & 129.0 & $\\dots$ \\\\\n",
       "\t2 & -122.22 & 37.86 & 10 & 21.0 & 7099.0 & 1106.0 & $\\dots$ \\\\\n",
       "\t3 & -122.24 & 37.85 & 10 & 52.0 & 1467.0 & 190.0 & $\\dots$ \\\\\n",
       "\t4 & -122.25 & 37.85 & 10 & 52.0 & 1274.0 & 235.0 & $\\dots$ \\\\\n",
       "\t5 & -122.25 & 37.85 & 10 & 52.0 & 1627.0 & 280.0 & $\\dots$ \\\\\n",
       "\t6 & -122.25 & 37.85 & 10 & 52.0 & 919.0 & 213.0 & $\\dots$ \\\\\n",
       "\t7 & -122.25 & 37.84 & 10 & 52.0 & 2535.0 & 489.0 & $\\dots$ \\\\\n",
       "\t8 & -122.25 & 37.84 & 10 & 52.0 & 3104.0 & 687.0 & $\\dots$ \\\\\n",
       "\t9 & -122.26 & 37.84 & 10 & 42.0 & 2555.0 & 665.0 & $\\dots$ \\\\\n",
       "\t10 & -122.25 & 37.84 & 10 & 52.0 & 3549.0 & 707.0 & $\\dots$ \\\\\n",
       "\t11 & -122.26 & 37.85 & 10 & 52.0 & 2202.0 & 434.0 & $\\dots$ \\\\\n",
       "\t12 & -122.26 & 37.85 & 10 & 52.0 & 3503.0 & 752.0 & $\\dots$ \\\\\n",
       "\t13 & -122.26 & 37.85 & 10 & 52.0 & 2491.0 & 474.0 & $\\dots$ \\\\\n",
       "\t14 & -122.26 & 37.84 & 10 & 52.0 & 696.0 & 191.0 & $\\dots$ \\\\\n",
       "\t15 & -122.26 & 37.85 & 10 & 52.0 & 2643.0 & 626.0 & $\\dots$ \\\\\n",
       "\t16 & -122.26 & 37.85 & 10 & 50.0 & 1120.0 & 283.0 & $\\dots$ \\\\\n",
       "\t17 & -122.27 & 37.85 & 10 & 52.0 & 1966.0 & 347.0 & $\\dots$ \\\\\n",
       "\t18 & -122.27 & 37.85 & 10 & 52.0 & 1228.0 & 293.0 & $\\dots$ \\\\\n",
       "\t19 & -122.26 & 37.84 & 10 & 50.0 & 2239.0 & 455.0 & $\\dots$ \\\\\n",
       "\t20 & -122.27 & 37.84 & 10 & 52.0 & 1503.0 & 298.0 & $\\dots$ \\\\\n",
       "\t21 & -122.27 & 37.85 & 10 & 40.0 & 751.0 & 184.0 & $\\dots$ \\\\\n",
       "\t22 & -122.27 & 37.85 & 10 & 42.0 & 1639.0 & 367.0 & $\\dots$ \\\\\n",
       "\t23 & -122.27 & 37.84 & 10 & 52.0 & 2436.0 & 541.0 & $\\dots$ \\\\\n",
       "\t24 & -122.27 & 37.84 & 10 & 52.0 & 1688.0 & 337.0 & $\\dots$ \\\\\n",
       "\t25 & -122.27 & 37.84 & 10 & 52.0 & 2224.0 & 437.0 & $\\dots$ \\\\\n",
       "\t26 & -122.28 & 37.85 & 10 & 41.0 & 535.0 & 123.0 & $\\dots$ \\\\\n",
       "\t27 & -122.28 & 37.85 & 10 & 49.0 & 1130.0 & 244.0 & $\\dots$ \\\\\n",
       "\t28 & -122.28 & 37.85 & 10 & 52.0 & 1898.0 & 421.0 & $\\dots$ \\\\\n",
       "\t29 & -122.28 & 37.84 & 10 & 50.0 & 2082.0 & 492.0 & $\\dots$ \\\\\n",
       "\t30 & -122.28 & 37.84 & 10 & 52.0 & 729.0 & 160.0 & $\\dots$ \\\\\n",
       "\t$\\dots$ & $\\dots$ & $\\dots$ & $\\dots$ & $\\dots$ & $\\dots$ & $\\dots$ &  \\\\\n",
       "\\end{tabular}\n"
      ],
      "text/plain": [
       "\u001b[1m20640×11 DataFrame\u001b[0m\n",
       "\u001b[1m   Row \u001b[0m│\u001b[1m longitude \u001b[0m\u001b[1m latitude \u001b[0m\u001b[1m cluster10_means \u001b[0m\u001b[1m housing_median_age \u001b[0m\u001b[1m total_rooms\u001b[0m ⋯\n",
       "\u001b[1m       \u001b[0m│\u001b[90m Float64   \u001b[0m\u001b[90m Float64  \u001b[0m\u001b[90m Int64           \u001b[0m\u001b[90m Float64            \u001b[0m\u001b[90m Float64    \u001b[0m ⋯\n",
       "───────┼────────────────────────────────────────────────────────────────────────\n",
       "     1 │   -122.23     37.88               10                41.0        880.0 ⋯\n",
       "     2 │   -122.22     37.86               10                21.0       7099.0\n",
       "     3 │   -122.24     37.85               10                52.0       1467.0\n",
       "     4 │   -122.25     37.85               10                52.0       1274.0\n",
       "     5 │   -122.25     37.85               10                52.0       1627.0 ⋯\n",
       "     6 │   -122.25     37.85               10                52.0        919.0\n",
       "     7 │   -122.25     37.84               10                52.0       2535.0\n",
       "     8 │   -122.25     37.84               10                52.0       3104.0\n",
       "     9 │   -122.26     37.84               10                42.0       2555.0 ⋯\n",
       "    10 │   -122.25     37.84               10                52.0       3549.0\n",
       "    11 │   -122.26     37.85               10                52.0       2202.0\n",
       "   ⋮   │     ⋮         ⋮             ⋮                 ⋮                ⋮      ⋱\n",
       " 20631 │   -121.32     39.29                6                11.0       2640.0\n",
       " 20632 │   -121.4      39.33                6                15.0       2655.0 ⋯\n",
       " 20633 │   -121.45     39.26                6                15.0       2319.0\n",
       " 20634 │   -121.53     39.19                6                27.0       2080.0\n",
       " 20635 │   -121.56     39.27                6                28.0       2332.0\n",
       " 20636 │   -121.09     39.48                6                25.0       1665.0 ⋯\n",
       " 20637 │   -121.21     39.49                6                18.0        697.0\n",
       " 20638 │   -121.22     39.43                6                17.0       2254.0\n",
       " 20639 │   -121.32     39.43                6                18.0       1860.0\n",
       " 20640 │   -121.24     39.37                6                16.0       2785.0 ⋯\n",
       "\u001b[36m                                                6 columns and 20619 rows omitted\u001b[0m"
      ]
     },
     "execution_count": 3,
     "metadata": {},
     "output_type": "execute_result"
    }
   ],
   "source": [
    "X = houses[!, [:latitude,:longitude]]\n",
    "C = kmeans(Matrix(X)', 10) \n",
    "insertcols!(houses,3,:cluster10_means=>C.assignments)"
   ]
  },
  {
   "cell_type": "code",
   "execution_count": 4,
   "metadata": {},
   "outputs": [
    {
     "data": {
      "text/html": [
       "<div class=\"data-frame\"><p>20,640 rows × 12 columns (omitted printing of 6 columns)</p><table class=\"data-frame\"><thead><tr><th></th><th>longitude</th><th>latitude</th><th>medoids_clusters</th><th>cluster10_means</th><th>housing_median_age</th><th>total_rooms</th></tr><tr><th></th><th title=\"Float64\">Float64</th><th title=\"Float64\">Float64</th><th title=\"Int64\">Int64</th><th title=\"Int64\">Int64</th><th title=\"Float64\">Float64</th><th title=\"Float64\">Float64</th></tr></thead><tbody><tr><th>1</th><td>-122.23</td><td>37.88</td><td>7</td><td>10</td><td>41.0</td><td>880.0</td></tr><tr><th>2</th><td>-122.22</td><td>37.86</td><td>7</td><td>10</td><td>21.0</td><td>7099.0</td></tr><tr><th>3</th><td>-122.24</td><td>37.85</td><td>7</td><td>10</td><td>52.0</td><td>1467.0</td></tr><tr><th>4</th><td>-122.25</td><td>37.85</td><td>7</td><td>10</td><td>52.0</td><td>1274.0</td></tr><tr><th>5</th><td>-122.25</td><td>37.85</td><td>7</td><td>10</td><td>52.0</td><td>1627.0</td></tr><tr><th>6</th><td>-122.25</td><td>37.85</td><td>7</td><td>10</td><td>52.0</td><td>919.0</td></tr><tr><th>7</th><td>-122.25</td><td>37.84</td><td>7</td><td>10</td><td>52.0</td><td>2535.0</td></tr><tr><th>8</th><td>-122.25</td><td>37.84</td><td>7</td><td>10</td><td>52.0</td><td>3104.0</td></tr><tr><th>9</th><td>-122.26</td><td>37.84</td><td>7</td><td>10</td><td>42.0</td><td>2555.0</td></tr><tr><th>10</th><td>-122.25</td><td>37.84</td><td>7</td><td>10</td><td>52.0</td><td>3549.0</td></tr><tr><th>11</th><td>-122.26</td><td>37.85</td><td>7</td><td>10</td><td>52.0</td><td>2202.0</td></tr><tr><th>12</th><td>-122.26</td><td>37.85</td><td>7</td><td>10</td><td>52.0</td><td>3503.0</td></tr><tr><th>13</th><td>-122.26</td><td>37.85</td><td>7</td><td>10</td><td>52.0</td><td>2491.0</td></tr><tr><th>14</th><td>-122.26</td><td>37.84</td><td>7</td><td>10</td><td>52.0</td><td>696.0</td></tr><tr><th>15</th><td>-122.26</td><td>37.85</td><td>7</td><td>10</td><td>52.0</td><td>2643.0</td></tr><tr><th>16</th><td>-122.26</td><td>37.85</td><td>7</td><td>10</td><td>50.0</td><td>1120.0</td></tr><tr><th>17</th><td>-122.27</td><td>37.85</td><td>7</td><td>10</td><td>52.0</td><td>1966.0</td></tr><tr><th>18</th><td>-122.27</td><td>37.85</td><td>7</td><td>10</td><td>52.0</td><td>1228.0</td></tr><tr><th>19</th><td>-122.26</td><td>37.84</td><td>7</td><td>10</td><td>50.0</td><td>2239.0</td></tr><tr><th>20</th><td>-122.27</td><td>37.84</td><td>7</td><td>10</td><td>52.0</td><td>1503.0</td></tr><tr><th>21</th><td>-122.27</td><td>37.85</td><td>7</td><td>10</td><td>40.0</td><td>751.0</td></tr><tr><th>22</th><td>-122.27</td><td>37.85</td><td>7</td><td>10</td><td>42.0</td><td>1639.0</td></tr><tr><th>23</th><td>-122.27</td><td>37.84</td><td>7</td><td>10</td><td>52.0</td><td>2436.0</td></tr><tr><th>24</th><td>-122.27</td><td>37.84</td><td>7</td><td>10</td><td>52.0</td><td>1688.0</td></tr><tr><th>25</th><td>-122.27</td><td>37.84</td><td>7</td><td>10</td><td>52.0</td><td>2224.0</td></tr><tr><th>26</th><td>-122.28</td><td>37.85</td><td>7</td><td>10</td><td>41.0</td><td>535.0</td></tr><tr><th>27</th><td>-122.28</td><td>37.85</td><td>7</td><td>10</td><td>49.0</td><td>1130.0</td></tr><tr><th>28</th><td>-122.28</td><td>37.85</td><td>7</td><td>10</td><td>52.0</td><td>1898.0</td></tr><tr><th>29</th><td>-122.28</td><td>37.84</td><td>7</td><td>10</td><td>50.0</td><td>2082.0</td></tr><tr><th>30</th><td>-122.28</td><td>37.84</td><td>7</td><td>10</td><td>52.0</td><td>729.0</td></tr><tr><th>&vellip;</th><td>&vellip;</td><td>&vellip;</td><td>&vellip;</td><td>&vellip;</td><td>&vellip;</td><td>&vellip;</td></tr></tbody></table></div>"
      ],
      "text/latex": [
       "\\begin{tabular}{r|ccccccc}\n",
       "\t& longitude & latitude & medoids\\_clusters & cluster10\\_means & housing\\_median\\_age & total\\_rooms & \\\\\n",
       "\t\\hline\n",
       "\t& Float64 & Float64 & Int64 & Int64 & Float64 & Float64 & \\\\\n",
       "\t\\hline\n",
       "\t1 & -122.23 & 37.88 & 7 & 10 & 41.0 & 880.0 & $\\dots$ \\\\\n",
       "\t2 & -122.22 & 37.86 & 7 & 10 & 21.0 & 7099.0 & $\\dots$ \\\\\n",
       "\t3 & -122.24 & 37.85 & 7 & 10 & 52.0 & 1467.0 & $\\dots$ \\\\\n",
       "\t4 & -122.25 & 37.85 & 7 & 10 & 52.0 & 1274.0 & $\\dots$ \\\\\n",
       "\t5 & -122.25 & 37.85 & 7 & 10 & 52.0 & 1627.0 & $\\dots$ \\\\\n",
       "\t6 & -122.25 & 37.85 & 7 & 10 & 52.0 & 919.0 & $\\dots$ \\\\\n",
       "\t7 & -122.25 & 37.84 & 7 & 10 & 52.0 & 2535.0 & $\\dots$ \\\\\n",
       "\t8 & -122.25 & 37.84 & 7 & 10 & 52.0 & 3104.0 & $\\dots$ \\\\\n",
       "\t9 & -122.26 & 37.84 & 7 & 10 & 42.0 & 2555.0 & $\\dots$ \\\\\n",
       "\t10 & -122.25 & 37.84 & 7 & 10 & 52.0 & 3549.0 & $\\dots$ \\\\\n",
       "\t11 & -122.26 & 37.85 & 7 & 10 & 52.0 & 2202.0 & $\\dots$ \\\\\n",
       "\t12 & -122.26 & 37.85 & 7 & 10 & 52.0 & 3503.0 & $\\dots$ \\\\\n",
       "\t13 & -122.26 & 37.85 & 7 & 10 & 52.0 & 2491.0 & $\\dots$ \\\\\n",
       "\t14 & -122.26 & 37.84 & 7 & 10 & 52.0 & 696.0 & $\\dots$ \\\\\n",
       "\t15 & -122.26 & 37.85 & 7 & 10 & 52.0 & 2643.0 & $\\dots$ \\\\\n",
       "\t16 & -122.26 & 37.85 & 7 & 10 & 50.0 & 1120.0 & $\\dots$ \\\\\n",
       "\t17 & -122.27 & 37.85 & 7 & 10 & 52.0 & 1966.0 & $\\dots$ \\\\\n",
       "\t18 & -122.27 & 37.85 & 7 & 10 & 52.0 & 1228.0 & $\\dots$ \\\\\n",
       "\t19 & -122.26 & 37.84 & 7 & 10 & 50.0 & 2239.0 & $\\dots$ \\\\\n",
       "\t20 & -122.27 & 37.84 & 7 & 10 & 52.0 & 1503.0 & $\\dots$ \\\\\n",
       "\t21 & -122.27 & 37.85 & 7 & 10 & 40.0 & 751.0 & $\\dots$ \\\\\n",
       "\t22 & -122.27 & 37.85 & 7 & 10 & 42.0 & 1639.0 & $\\dots$ \\\\\n",
       "\t23 & -122.27 & 37.84 & 7 & 10 & 52.0 & 2436.0 & $\\dots$ \\\\\n",
       "\t24 & -122.27 & 37.84 & 7 & 10 & 52.0 & 1688.0 & $\\dots$ \\\\\n",
       "\t25 & -122.27 & 37.84 & 7 & 10 & 52.0 & 2224.0 & $\\dots$ \\\\\n",
       "\t26 & -122.28 & 37.85 & 7 & 10 & 41.0 & 535.0 & $\\dots$ \\\\\n",
       "\t27 & -122.28 & 37.85 & 7 & 10 & 49.0 & 1130.0 & $\\dots$ \\\\\n",
       "\t28 & -122.28 & 37.85 & 7 & 10 & 52.0 & 1898.0 & $\\dots$ \\\\\n",
       "\t29 & -122.28 & 37.84 & 7 & 10 & 50.0 & 2082.0 & $\\dots$ \\\\\n",
       "\t30 & -122.28 & 37.84 & 7 & 10 & 52.0 & 729.0 & $\\dots$ \\\\\n",
       "\t$\\dots$ & $\\dots$ & $\\dots$ & $\\dots$ & $\\dots$ & $\\dots$ & $\\dots$ &  \\\\\n",
       "\\end{tabular}\n"
      ],
      "text/plain": [
       "\u001b[1m20640×12 DataFrame\u001b[0m\n",
       "\u001b[1m   Row \u001b[0m│\u001b[1m longitude \u001b[0m\u001b[1m latitude \u001b[0m\u001b[1m medoids_clusters \u001b[0m\u001b[1m cluster10_means \u001b[0m\u001b[1m housing_media\u001b[0m ⋯\n",
       "\u001b[1m       \u001b[0m│\u001b[90m Float64   \u001b[0m\u001b[90m Float64  \u001b[0m\u001b[90m Int64            \u001b[0m\u001b[90m Int64           \u001b[0m\u001b[90m Float64      \u001b[0m ⋯\n",
       "───────┼────────────────────────────────────────────────────────────────────────\n",
       "     1 │   -122.23     37.88                 7               10                ⋯\n",
       "     2 │   -122.22     37.86                 7               10\n",
       "     3 │   -122.24     37.85                 7               10\n",
       "     4 │   -122.25     37.85                 7               10\n",
       "     5 │   -122.25     37.85                 7               10                ⋯\n",
       "     6 │   -122.25     37.85                 7               10\n",
       "     7 │   -122.25     37.84                 7               10\n",
       "     8 │   -122.25     37.84                 7               10\n",
       "     9 │   -122.26     37.84                 7               10                ⋯\n",
       "    10 │   -122.25     37.84                 7               10\n",
       "    11 │   -122.26     37.85                 7               10\n",
       "   ⋮   │     ⋮         ⋮             ⋮                 ⋮                 ⋮     ⋱\n",
       " 20631 │   -121.32     39.29                 9                6\n",
       " 20632 │   -121.4      39.33                 9                6                ⋯\n",
       " 20633 │   -121.45     39.26                 9                6\n",
       " 20634 │   -121.53     39.19                 9                6\n",
       " 20635 │   -121.56     39.27                 9                6\n",
       " 20636 │   -121.09     39.48                 9                6                ⋯\n",
       " 20637 │   -121.21     39.49                 9                6\n",
       " 20638 │   -121.22     39.43                 9                6\n",
       " 20639 │   -121.32     39.43                 9                6\n",
       " 20640 │   -121.24     39.37                 9                6                ⋯\n",
       "\u001b[36m                                                8 columns and 20619 rows omitted\u001b[0m"
      ]
     },
     "execution_count": 4,
     "metadata": {},
     "output_type": "execute_result"
    }
   ],
   "source": [
    "xmatrix = Matrix(X)'\n",
    "D = pairwise(Euclidean(), xmatrix, xmatrix,dims=2) \n",
    "\n",
    "K = kmedoids(D,10)\n",
    "insertcols!(houses,3,:medoids_clusters=>K.assignments)"
   ]
  },
  {
   "cell_type": "code",
   "execution_count": 8,
   "metadata": {},
   "outputs": [
    {
     "data": {
      "text/plain": [
       "10×10 Matrix{Int64}:\n",
       "   0  1073    0     0    0     0     0  5965  362     0\n",
       "  20     0    0     0  397   114     0     0    0     0\n",
       "   0     0    0     0    0     0  1765     0    0     0\n",
       "   0     0    0  1276    0     0     0     0    0   411\n",
       "   0     0  980     1    0     0     0     1  570     0\n",
       "   0  1874    0     0    0     0   147    25    0     0\n",
       "   0     0    0     1    0     0     0     0    0  2697\n",
       "   0     0   76   745    0   145     0     0    0     0\n",
       "   7     0    0     0    0  1380     0     0    0    10\n",
       " 519     0    0     0    0     0     0     0    0    79"
      ]
     },
     "execution_count": 8,
     "metadata": {},
     "output_type": "execute_result"
    }
   ],
   "source": [
    "counts(houses[!,:medoids_clusters], houses[!,:cluster10_means]) "
   ]
  },
  {
   "cell_type": "markdown",
   "metadata": {},
   "source": [
    "## Rand index\n",
    "Rand index is a measure of the similarity between the two data clusterings. From a mathematical standpoint, Rand index is related to the prediction accuracy, but is applicable even when the original class labels are not used."
   ]
  },
  {
   "cell_type": "code",
   "execution_count": 9,
   "metadata": {},
   "outputs": [
    {
     "data": {
      "text/plain": [
       "(0.7338686544611878, 0.9244415207380022, 0.07555847926199778, 0.8488830414760045)"
      ]
     },
     "execution_count": 9,
     "metadata": {},
     "output_type": "execute_result"
    }
   ],
   "source": [
    "randindex(houses[!,:medoids_clusters], houses[!,:cluster10_means])\n"
   ]
  },
  {
   "cell_type": "markdown",
   "metadata": {},
   "source": [
    "Silhouettes\n",
    "Silhouettes is a method for evaluating the quality of clustering. Particularly, it provides a quantitative way to measure how well each point lies within its cluster in comparison to the other clusters.\n",
    "\n",
    "The Silhouette value for the i-th data point is:\n",
    "\n",
    "si=(bi−ai)/max(ai,bi), where\n",
    "ai is the average distance from the i-th point to the other points in the same cluster zi,\n",
    "bi≝mink≠zibik, where bik is the average distance from the i-th point to the points in the k-th cluster.\n",
    "Note that si≤1, and that si is close to 1 when the i-th point lies well within its own cluster. This property allows using mean(silhouettes(assignments, counts, X)) as a measure of clustering quality. Higher values indicate better separation of clusters w.r.t. point distances."
   ]
  },
  {
   "cell_type": "code",
   "execution_count": 15,
   "metadata": {},
   "outputs": [
    {
     "data": {
      "text/plain": [
       "9472.41999682436"
      ]
     },
     "execution_count": 15,
     "metadata": {},
     "output_type": "execute_result"
    }
   ],
   "source": [
    "sum(silhouettes(houses[!,:cluster10_means], D))"
   ]
  },
  {
   "cell_type": "code",
   "execution_count": 16,
   "metadata": {},
   "outputs": [
    {
     "data": {
      "text/plain": [
       "10011.846774416339"
      ]
     },
     "execution_count": 16,
     "metadata": {},
     "output_type": "execute_result"
    }
   ],
   "source": [
    "sum(silhouettes(houses[!,:medoids_clusters], D))"
   ]
  },
  {
   "cell_type": "markdown",
   "metadata": {},
   "source": [
    "## Variation of Information\n",
    "Variation of information (also known as shared information distance) is a measure of the distance between the two clusterings. It is devised from the mutual information, but it is a true metric, i.e. it is symmetric and satisfies the triangle inequality."
   ]
  },
  {
   "cell_type": "code",
   "execution_count": 21,
   "metadata": {},
   "outputs": [
    {
     "ename": "LoadError",
     "evalue": "UndefVarError: varinfo not defined",
     "output_type": "error",
     "traceback": [
      "UndefVarError: varinfo not defined",
      "",
      "Stacktrace:",
      " [1] top-level scope",
      "   @ In[21]:1",
      " [2] eval",
      "   @ ./boot.jl:360 [inlined]",
      " [3] include_string(mapexpr::typeof(REPL.softscope), mod::Module, code::String, filename::String)",
      "   @ Base ./loading.jl:1116"
     ]
    }
   ],
   "source": [
    "varinfo(houses[!,:medoids_clusters], houses[!,:cluster10_means])"
   ]
  },
  {
   "cell_type": "markdown",
   "metadata": {},
   "source": [
    "## V-measure\n",
    "V-measure can be used to compare the clustering results with the existing class labels of data points or with the alternative clustering. It is defined as the harmonic mean of homogeneity (h) and completeness (c) of the clustering:\n",
    "\n",
    "Vβ=(1+β)h⋅cβ⋅h+c.\n",
    "Both h and c can be expressed in terms of the mutual information and entropy measures from the information theory. Homogeneity (h) is maximized when each cluster contains elements of as few different classes as possible. Completeness (c) aims to put all elements of each class in single clusters. The β parameter (β>0) could used to control the weights of h and c in the final measure. If β>1, completeness has more weight, and when β<1 it's homogeneity."
   ]
  },
  {
   "cell_type": "code",
   "execution_count": 19,
   "metadata": {},
   "outputs": [
    {
     "data": {
      "text/plain": [
       "0.8080415648262416"
      ]
     },
     "execution_count": 19,
     "metadata": {},
     "output_type": "execute_result"
    }
   ],
   "source": [
    "vmeasure(houses[!,:medoids_clusters], houses[!,:cluster10_means]) \n"
   ]
  },
  {
   "cell_type": "markdown",
   "metadata": {},
   "source": [
    "## Mutual information\n",
    "Mutual information quantifies the \"amount of information\" obtained about one random variable through observing the other random variable. It is used in determining the similarity of two different clusterings of a dataset.\n",
    "\n",
    "Clustering.mutualinfo — Function.\n",
    "mutualinfo(a, b; normed=true) -> Float64\n",
    "Compute the mutual information between the two clusterings of the same data points.\n",
    "\n",
    "a and b can be either ClusteringResult instances or assignments vectors (AbstractVector{<:Integer}).\n",
    "\n",
    "If normed parameter is true the return value is the normalized mutual information (symmetric uncertainty), see \"Data Mining Practical Machine Tools and Techniques\", Witten & Frank 2005.\n",
    "\n",
    "References\n",
    "\n",
    "Vinh, Epps, and Bailey, (2009). “Information theoretic measures for clusterings comparison”.\n",
    "\n",
    "Proceedings of the 26th Annual International Conference on Machine Learning - ICML ‘09.\n",
    "\n"
   ]
  },
  {
   "cell_type": "code",
   "execution_count": 20,
   "metadata": {},
   "outputs": [
    {
     "data": {
      "text/plain": [
       "0.8080415648262417"
      ]
     },
     "execution_count": 20,
     "metadata": {},
     "output_type": "execute_result"
    }
   ],
   "source": [
    "mutualinfo(houses[!,:medoids_clusters], houses[!,:cluster10_means])\n"
   ]
  },
  {
   "cell_type": "code",
   "execution_count": null,
   "metadata": {},
   "outputs": [],
   "source": []
  }
 ],
 "metadata": {
  "kernelspec": {
   "display_name": "Julia 1.6.3",
   "language": "julia",
   "name": "julia-1.6"
  },
  "language_info": {
   "file_extension": ".jl",
   "mimetype": "application/julia",
   "name": "julia",
   "version": "1.6.3"
  },
  "orig_nbformat": 4
 },
 "nbformat": 4,
 "nbformat_minor": 2
}
