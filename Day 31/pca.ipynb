{
 "cells": [
  {
   "cell_type": "markdown",
   "metadata": {},
   "source": [
    "## Principal Component Analysis\n",
    "\n",
    "Principal Component Analysis (PCA) derives an orthogonal projection to convert a given set of observations to linearly uncorrelated variables, called principal components."
   ]
  },
  {
   "cell_type": "code",
   "execution_count": 45,
   "metadata": {},
   "outputs": [
    {
     "data": {
      "text/html": [
       "<div class=\"data-frame\"><p>20,640 rows × 10 columns (omitted printing of 4 columns)</p><table class=\"data-frame\"><thead><tr><th></th><th>longitude</th><th>latitude</th><th>housing_median_age</th><th>total_rooms</th><th>total_bedrooms</th><th>population</th></tr><tr><th></th><th title=\"Float64\">Float64</th><th title=\"Float64\">Float64</th><th title=\"Float64\">Float64</th><th title=\"Float64\">Float64</th><th title=\"Union{Missing, Float64}\">Float64?</th><th title=\"Float64\">Float64</th></tr></thead><tbody><tr><th>1</th><td>-122.23</td><td>37.88</td><td>41.0</td><td>880.0</td><td>129.0</td><td>322.0</td></tr><tr><th>2</th><td>-122.22</td><td>37.86</td><td>21.0</td><td>7099.0</td><td>1106.0</td><td>2401.0</td></tr><tr><th>3</th><td>-122.24</td><td>37.85</td><td>52.0</td><td>1467.0</td><td>190.0</td><td>496.0</td></tr><tr><th>4</th><td>-122.25</td><td>37.85</td><td>52.0</td><td>1274.0</td><td>235.0</td><td>558.0</td></tr><tr><th>5</th><td>-122.25</td><td>37.85</td><td>52.0</td><td>1627.0</td><td>280.0</td><td>565.0</td></tr><tr><th>6</th><td>-122.25</td><td>37.85</td><td>52.0</td><td>919.0</td><td>213.0</td><td>413.0</td></tr><tr><th>7</th><td>-122.25</td><td>37.84</td><td>52.0</td><td>2535.0</td><td>489.0</td><td>1094.0</td></tr><tr><th>8</th><td>-122.25</td><td>37.84</td><td>52.0</td><td>3104.0</td><td>687.0</td><td>1157.0</td></tr><tr><th>9</th><td>-122.26</td><td>37.84</td><td>42.0</td><td>2555.0</td><td>665.0</td><td>1206.0</td></tr><tr><th>10</th><td>-122.25</td><td>37.84</td><td>52.0</td><td>3549.0</td><td>707.0</td><td>1551.0</td></tr><tr><th>11</th><td>-122.26</td><td>37.85</td><td>52.0</td><td>2202.0</td><td>434.0</td><td>910.0</td></tr><tr><th>12</th><td>-122.26</td><td>37.85</td><td>52.0</td><td>3503.0</td><td>752.0</td><td>1504.0</td></tr><tr><th>13</th><td>-122.26</td><td>37.85</td><td>52.0</td><td>2491.0</td><td>474.0</td><td>1098.0</td></tr><tr><th>14</th><td>-122.26</td><td>37.84</td><td>52.0</td><td>696.0</td><td>191.0</td><td>345.0</td></tr><tr><th>15</th><td>-122.26</td><td>37.85</td><td>52.0</td><td>2643.0</td><td>626.0</td><td>1212.0</td></tr><tr><th>16</th><td>-122.26</td><td>37.85</td><td>50.0</td><td>1120.0</td><td>283.0</td><td>697.0</td></tr><tr><th>17</th><td>-122.27</td><td>37.85</td><td>52.0</td><td>1966.0</td><td>347.0</td><td>793.0</td></tr><tr><th>18</th><td>-122.27</td><td>37.85</td><td>52.0</td><td>1228.0</td><td>293.0</td><td>648.0</td></tr><tr><th>19</th><td>-122.26</td><td>37.84</td><td>50.0</td><td>2239.0</td><td>455.0</td><td>990.0</td></tr><tr><th>20</th><td>-122.27</td><td>37.84</td><td>52.0</td><td>1503.0</td><td>298.0</td><td>690.0</td></tr><tr><th>21</th><td>-122.27</td><td>37.85</td><td>40.0</td><td>751.0</td><td>184.0</td><td>409.0</td></tr><tr><th>22</th><td>-122.27</td><td>37.85</td><td>42.0</td><td>1639.0</td><td>367.0</td><td>929.0</td></tr><tr><th>23</th><td>-122.27</td><td>37.84</td><td>52.0</td><td>2436.0</td><td>541.0</td><td>1015.0</td></tr><tr><th>24</th><td>-122.27</td><td>37.84</td><td>52.0</td><td>1688.0</td><td>337.0</td><td>853.0</td></tr><tr><th>&vellip;</th><td>&vellip;</td><td>&vellip;</td><td>&vellip;</td><td>&vellip;</td><td>&vellip;</td><td>&vellip;</td></tr></tbody></table></div>"
      ],
      "text/latex": [
       "\\begin{tabular}{r|ccccccc}\n",
       "\t& longitude & latitude & housing\\_median\\_age & total\\_rooms & total\\_bedrooms & population & \\\\\n",
       "\t\\hline\n",
       "\t& Float64 & Float64 & Float64 & Float64 & Float64? & Float64 & \\\\\n",
       "\t\\hline\n",
       "\t1 & -122.23 & 37.88 & 41.0 & 880.0 & 129.0 & 322.0 & $\\dots$ \\\\\n",
       "\t2 & -122.22 & 37.86 & 21.0 & 7099.0 & 1106.0 & 2401.0 & $\\dots$ \\\\\n",
       "\t3 & -122.24 & 37.85 & 52.0 & 1467.0 & 190.0 & 496.0 & $\\dots$ \\\\\n",
       "\t4 & -122.25 & 37.85 & 52.0 & 1274.0 & 235.0 & 558.0 & $\\dots$ \\\\\n",
       "\t5 & -122.25 & 37.85 & 52.0 & 1627.0 & 280.0 & 565.0 & $\\dots$ \\\\\n",
       "\t6 & -122.25 & 37.85 & 52.0 & 919.0 & 213.0 & 413.0 & $\\dots$ \\\\\n",
       "\t7 & -122.25 & 37.84 & 52.0 & 2535.0 & 489.0 & 1094.0 & $\\dots$ \\\\\n",
       "\t8 & -122.25 & 37.84 & 52.0 & 3104.0 & 687.0 & 1157.0 & $\\dots$ \\\\\n",
       "\t9 & -122.26 & 37.84 & 42.0 & 2555.0 & 665.0 & 1206.0 & $\\dots$ \\\\\n",
       "\t10 & -122.25 & 37.84 & 52.0 & 3549.0 & 707.0 & 1551.0 & $\\dots$ \\\\\n",
       "\t11 & -122.26 & 37.85 & 52.0 & 2202.0 & 434.0 & 910.0 & $\\dots$ \\\\\n",
       "\t12 & -122.26 & 37.85 & 52.0 & 3503.0 & 752.0 & 1504.0 & $\\dots$ \\\\\n",
       "\t13 & -122.26 & 37.85 & 52.0 & 2491.0 & 474.0 & 1098.0 & $\\dots$ \\\\\n",
       "\t14 & -122.26 & 37.84 & 52.0 & 696.0 & 191.0 & 345.0 & $\\dots$ \\\\\n",
       "\t15 & -122.26 & 37.85 & 52.0 & 2643.0 & 626.0 & 1212.0 & $\\dots$ \\\\\n",
       "\t16 & -122.26 & 37.85 & 50.0 & 1120.0 & 283.0 & 697.0 & $\\dots$ \\\\\n",
       "\t17 & -122.27 & 37.85 & 52.0 & 1966.0 & 347.0 & 793.0 & $\\dots$ \\\\\n",
       "\t18 & -122.27 & 37.85 & 52.0 & 1228.0 & 293.0 & 648.0 & $\\dots$ \\\\\n",
       "\t19 & -122.26 & 37.84 & 50.0 & 2239.0 & 455.0 & 990.0 & $\\dots$ \\\\\n",
       "\t20 & -122.27 & 37.84 & 52.0 & 1503.0 & 298.0 & 690.0 & $\\dots$ \\\\\n",
       "\t21 & -122.27 & 37.85 & 40.0 & 751.0 & 184.0 & 409.0 & $\\dots$ \\\\\n",
       "\t22 & -122.27 & 37.85 & 42.0 & 1639.0 & 367.0 & 929.0 & $\\dots$ \\\\\n",
       "\t23 & -122.27 & 37.84 & 52.0 & 2436.0 & 541.0 & 1015.0 & $\\dots$ \\\\\n",
       "\t24 & -122.27 & 37.84 & 52.0 & 1688.0 & 337.0 & 853.0 & $\\dots$ \\\\\n",
       "\t$\\dots$ & $\\dots$ & $\\dots$ & $\\dots$ & $\\dots$ & $\\dots$ & $\\dots$ &  \\\\\n",
       "\\end{tabular}\n"
      ],
      "text/plain": [
       "\u001b[1m20640×10 DataFrame\u001b[0m\n",
       "\u001b[1m   Row \u001b[0m│\u001b[1m longitude \u001b[0m\u001b[1m latitude \u001b[0m\u001b[1m housing_median_age \u001b[0m\u001b[1m total_rooms \u001b[0m\u001b[1m total_bedrooms \u001b[0m\u001b[1m\u001b[0m ⋯\n",
       "\u001b[1m       \u001b[0m│\u001b[90m Float64   \u001b[0m\u001b[90m Float64  \u001b[0m\u001b[90m Float64            \u001b[0m\u001b[90m Float64     \u001b[0m\u001b[90m Float64?       \u001b[0m\u001b[90m\u001b[0m ⋯\n",
       "───────┼────────────────────────────────────────────────────────────────────────\n",
       "     1 │   -122.23     37.88                41.0        880.0           129.0  ⋯\n",
       "     2 │   -122.22     37.86                21.0       7099.0          1106.0\n",
       "     3 │   -122.24     37.85                52.0       1467.0           190.0\n",
       "     4 │   -122.25     37.85                52.0       1274.0           235.0\n",
       "     5 │   -122.25     37.85                52.0       1627.0           280.0  ⋯\n",
       "     6 │   -122.25     37.85                52.0        919.0           213.0\n",
       "     7 │   -122.25     37.84                52.0       2535.0           489.0\n",
       "     8 │   -122.25     37.84                52.0       3104.0           687.0\n",
       "   ⋮   │     ⋮         ⋮              ⋮                ⋮             ⋮         ⋱\n",
       " 20634 │   -121.53     39.19                27.0       2080.0           412.0  ⋯\n",
       " 20635 │   -121.56     39.27                28.0       2332.0           395.0\n",
       " 20636 │   -121.09     39.48                25.0       1665.0           374.0\n",
       " 20637 │   -121.21     39.49                18.0        697.0           150.0\n",
       " 20638 │   -121.22     39.43                17.0       2254.0           485.0  ⋯\n",
       " 20639 │   -121.32     39.43                18.0       1860.0           409.0\n",
       " 20640 │   -121.24     39.37                16.0       2785.0           616.0\n",
       "\u001b[36m                                                5 columns and 20625 rows omitted\u001b[0m"
      ]
     },
     "metadata": {},
     "output_type": "display_data"
    }
   ],
   "source": [
    "# Packages we will use throughout this notebook\n",
    "using DataFrames\n",
    "using Statistics\n",
    "using JSON\n",
    "using CSV\n",
    "using Distances\n",
    "using MultivariateStats\n",
    "\n",
    "download(\"https://raw.githubusercontent.com/ageron/handson-ml/master/datasets/housing/housing.csv\",\"newhouses.csv\")\n",
    "houses = CSV.read(\"newhouses.csv\", DataFrame)"
   ]
  },
  {
   "cell_type": "code",
   "execution_count": 37,
   "metadata": {},
   "outputs": [
    {
     "data": {
      "text/plain": [
       "(20640, 10)"
      ]
     },
     "metadata": {},
     "output_type": "display_data"
    }
   ],
   "source": [
    "size(houses)"
   ]
  },
  {
   "cell_type": "code",
   "execution_count": 43,
   "metadata": {},
   "outputs": [
    {
     "name": "stderr",
     "output_type": "stream",
     "text": [
      "┌ Info: For saving to png with the Plotly backend PlotlyBase has to be installed.\n",
      "└ @ Plots C:\\Users\\tsakalos\\.julia\\packages\\Plots\\FI0vT\\src\\backends.jl:432\n"
     ]
    },
    {
     "data": {
      "text/plain": [
       "PCA(indim = 10320, outdim = 2, principalratio = 1.0)"
      ]
     },
     "metadata": {},
     "output_type": "display_data"
    }
   ],
   "source": [
    "\n",
    "X = houses[!, [:housing_median_age,:total_rooms, :population]]\n",
    "# suppose X and Xte are training and testing data matrix,\n",
    "# with each observation in a column\n",
    "X = Matrix(X)\n",
    "# Half training and the other half as test set\n",
    "X_tr = X[1:2:end, 1:3]\n",
    "X_te = X[2:2:end, 1:3]\n",
    "\n",
    "# train a PCA model, allowing up to 3 dimensions\n",
    "M = fit(PCA, X_tr; maxoutdim=2)\n"
   ]
  },
  {
   "cell_type": "code",
   "execution_count": 44,
   "metadata": {},
   "outputs": [
    {
     "ename": "UndefVarError",
     "evalue": "UndefVarError: transform not defined",
     "output_type": "error",
     "traceback": [
      "UndefVarError: transform not defined\n",
      "\n",
      "Stacktrace:\n",
      "  [1] top-level scope\n",
      "    @ d:\\github\\julia_100\\Day 31\\pca.ipynb:2\n",
      "  [2] eval\n",
      "    @ .\\boot.jl:373 [inlined]\n",
      "  [3] include_string(mapexpr::typeof(REPL.softscope), mod::Module, code::String, filename::String)\n",
      "    @ Base .\\loading.jl:1196\n",
      "  [4] #invokelatest#2\n",
      "    @ .\\essentials.jl:716 [inlined]\n",
      "  [5] invokelatest\n",
      "    @ .\\essentials.jl:714 [inlined]\n",
      "  [6] (::VSCodeServer.var\"#150#151\"{VSCodeServer.NotebookRunCellArguments, String})()\n",
      "    @ VSCodeServer c:\\Users\\tsakalos\\.vscode\\extensions\\julialang.language-julia-1.5.9\\scripts\\packages\\VSCodeServer\\src\\serve_notebook.jl:18\n",
      "  [7] withpath(f::VSCodeServer.var\"#150#151\"{VSCodeServer.NotebookRunCellArguments, String}, path::String)\n",
      "    @ VSCodeServer c:\\Users\\tsakalos\\.vscode\\extensions\\julialang.language-julia-1.5.9\\scripts\\packages\\VSCodeServer\\src\\repl.jl:185\n",
      "  [8] notebook_runcell_request(conn::VSCodeServer.JSONRPC.JSONRPCEndpoint{Base.PipeEndpoint, Base.PipeEndpoint}, params::VSCodeServer.NotebookRunCellArguments)\n",
      "    @ VSCodeServer c:\\Users\\tsakalos\\.vscode\\extensions\\julialang.language-julia-1.5.9\\scripts\\packages\\VSCodeServer\\src\\serve_notebook.jl:14\n",
      "  [9] dispatch_msg(x::VSCodeServer.JSONRPC.JSONRPCEndpoint{Base.PipeEndpoint, Base.PipeEndpoint}, dispatcher::VSCodeServer.JSONRPC.MsgDispatcher, msg::Dict{String, Any})\n",
      "    @ VSCodeServer.JSONRPC c:\\Users\\tsakalos\\.vscode\\extensions\\julialang.language-julia-1.5.9\\scripts\\packages\\JSONRPC\\src\\typed.jl:67\n",
      " [10] serve_notebook(pipename::String; crashreporting_pipename::String)\n",
      "    @ VSCodeServer c:\\Users\\tsakalos\\.vscode\\extensions\\julialang.language-julia-1.5.9\\scripts\\packages\\VSCodeServer\\src\\serve_notebook.jl:94\n",
      " [11] top-level scope\n",
      "    @ c:\\Users\\tsakalos\\.vscode\\extensions\\julialang.language-julia-1.5.9\\scripts\\notebook\\notebook.jl:12\n",
      " [12] include(mod::Module, _path::String)\n",
      "    @ Base .\\Base.jl:418\n",
      " [13] exec_options(opts::Base.JLOptions)\n",
      "    @ Base .\\client.jl:292\n",
      " [14] _start()\n",
      "    @ Base .\\client.jl:495"
     ]
    }
   ],
   "source": [
    "# apply PCA model to testing set\n",
    "Yte = transform(M, X_te)"
   ]
  },
  {
   "cell_type": "code",
   "execution_count": 42,
   "metadata": {},
   "outputs": [
    {
     "ename": "UndefVarError",
     "evalue": "UndefVarError: DataArray not defined",
     "output_type": "error",
     "traceback": [
      "UndefVarError: DataArray not defined\n",
      "\n",
      "Stacktrace:\n",
      "  [1] top-level scope\n",
      "    @ d:\\github\\julia_100\\Day 31\\pca.ipynb:8\n",
      "  [2] eval\n",
      "    @ .\\boot.jl:373 [inlined]\n",
      "  [3] include_string(mapexpr::typeof(REPL.softscope), mod::Module, code::String, filename::String)\n",
      "    @ Base .\\loading.jl:1196\n",
      "  [4] #invokelatest#2\n",
      "    @ .\\essentials.jl:716 [inlined]\n",
      "  [5] invokelatest\n",
      "    @ .\\essentials.jl:714 [inlined]\n",
      "  [6] (::VSCodeServer.var\"#150#151\"{VSCodeServer.NotebookRunCellArguments, String})()\n",
      "    @ VSCodeServer c:\\Users\\tsakalos\\.vscode\\extensions\\julialang.language-julia-1.5.9\\scripts\\packages\\VSCodeServer\\src\\serve_notebook.jl:18\n",
      "  [7] withpath(f::VSCodeServer.var\"#150#151\"{VSCodeServer.NotebookRunCellArguments, String}, path::String)\n",
      "    @ VSCodeServer c:\\Users\\tsakalos\\.vscode\\extensions\\julialang.language-julia-1.5.9\\scripts\\packages\\VSCodeServer\\src\\repl.jl:185\n",
      "  [8] notebook_runcell_request(conn::VSCodeServer.JSONRPC.JSONRPCEndpoint{Base.PipeEndpoint, Base.PipeEndpoint}, params::VSCodeServer.NotebookRunCellArguments)\n",
      "    @ VSCodeServer c:\\Users\\tsakalos\\.vscode\\extensions\\julialang.language-julia-1.5.9\\scripts\\packages\\VSCodeServer\\src\\serve_notebook.jl:14\n",
      "  [9] dispatch_msg(x::VSCodeServer.JSONRPC.JSONRPCEndpoint{Base.PipeEndpoint, Base.PipeEndpoint}, dispatcher::VSCodeServer.JSONRPC.MsgDispatcher, msg::Dict{String, Any})\n",
      "    @ VSCodeServer.JSONRPC c:\\Users\\tsakalos\\.vscode\\extensions\\julialang.language-julia-1.5.9\\scripts\\packages\\JSONRPC\\src\\typed.jl:67\n",
      " [10] serve_notebook(pipename::String; crashreporting_pipename::String)\n",
      "    @ VSCodeServer c:\\Users\\tsakalos\\.vscode\\extensions\\julialang.language-julia-1.5.9\\scripts\\packages\\VSCodeServer\\src\\serve_notebook.jl:94\n",
      " [11] top-level scope\n",
      "    @ c:\\Users\\tsakalos\\.vscode\\extensions\\julialang.language-julia-1.5.9\\scripts\\notebook\\notebook.jl:12\n",
      " [12] include(mod::Module, _path::String)\n",
      "    @ Base .\\Base.jl:418\n",
      " [13] exec_options(opts::Base.JLOptions)\n",
      "    @ Base .\\client.jl:292\n",
      " [14] _start()\n",
      "    @ Base .\\client.jl:495"
     ]
    }
   ],
   "source": [
    "using MultivariateStats, RDatasets, Plots\n",
    "plotly() # using plotly for 3D-interacive graphing\n",
    "\n",
    "# load iris dataset\n",
    "iris = dataset(\"datasets\", \"iris\")\n",
    "\n",
    "# split half to training set\n",
    "Xtr = convert(Array,DataArray(iris[1:2:end,1:4]))'\n",
    "Xtr_labels = convert(Array,DataArray(iris[1:2:end,5]))\n",
    "\n",
    "# split other half to testing set\n",
    "Xte = convert(Array,DataArray(iris[2:2:end,1:4]))'\n",
    "Xte_labels = convert(Array,DataArray(iris[2:2:end,5]))\n",
    "\n",
    "# suppose Xtr and Xte are training and testing data matrix,\n",
    "# with each observation in a column\n",
    "\n",
    "# train a PCA model, allowing up to 3 dimensions\n",
    "M = fit(PCA, Xtr; maxoutdim=3)\n",
    "\n",
    "# apply PCA model to testing set\n",
    "Yte = transform(M, Xte)\n",
    "\n",
    "# reconstruct testing observations (approximately)\n",
    "Xr = reconstruct(M, Yte)\n",
    "\n",
    "# group results by testing set labels for color coding\n",
    "setosa = Yte[:,Xte_labels.==\"setosa\"]\n",
    "versicolor = Yte[:,Xte_labels.==\"versicolor\"]\n",
    "virginica = Yte[:,Xte_labels.==\"virginica\"]\n",
    "\n",
    "# visualize first 3 principal components in 3D interacive plot\n",
    "p = scatter(setosa[1,:],setosa[2,:],setosa[3,:],marker=:circle,linewidth=0)\n",
    "scatter!(versicolor[1,:],versicolor[2,:],versicolor[3,:],marker=:circle,linewidth=0)\n",
    "scatter!(virginica[1,:],virginica[2,:],virginica[3,:],marker=:circle,linewidth=0)\n",
    "plot!(p,xlabel=\"PC1\",ylabel=\"PC2\",zlabel=\"PC3\")"
   ]
  },
  {
   "cell_type": "code",
   "execution_count": 41,
   "metadata": {},
   "outputs": [
    {
     "data": {
      "text/plain": [
       "10320×3 Matrix{Float64}:\n",
       " 41.0   880.0   322.0\n",
       " 52.0  1467.0   496.0\n",
       " 52.0  1627.0   565.0\n",
       " 52.0  2535.0  1094.0\n",
       " 42.0  2555.0  1206.0\n",
       " 52.0  2202.0   910.0\n",
       " 52.0  2491.0  1098.0\n",
       " 52.0  2643.0  1212.0\n",
       " 52.0  1966.0   793.0\n",
       " 50.0  2239.0   990.0\n",
       "  ⋮            \n",
       " 20.0   755.0   457.0\n",
       " 16.0  1698.0   731.0\n",
       " 36.0  1124.0   504.0\n",
       " 19.0  2043.0  1018.0\n",
       " 11.0  2640.0  1257.0\n",
       " 15.0  2319.0  1047.0\n",
       " 28.0  2332.0  1041.0\n",
       " 18.0   697.0   356.0\n",
       " 18.0  1860.0   741.0"
      ]
     },
     "metadata": {},
     "output_type": "display_data"
    }
   ],
   "source": [
    "X_tr"
   ]
  },
  {
   "cell_type": "code",
   "execution_count": null,
   "metadata": {},
   "outputs": [],
   "source": []
  }
 ],
 "metadata": {
  "kernelspec": {
   "display_name": "Julia 1.7.1",
   "language": "julia",
   "name": "julia-1.7"
  },
  "language_info": {
   "file_extension": ".jl",
   "mimetype": "application/julia",
   "name": "julia",
   "version": "1.7.1"
  },
  "orig_nbformat": 4
 },
 "nbformat": 4,
 "nbformat_minor": 2
}
