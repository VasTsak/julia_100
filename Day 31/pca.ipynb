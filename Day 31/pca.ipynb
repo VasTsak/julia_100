{
 "cells": [
  {
   "cell_type": "markdown",
   "metadata": {},
   "source": [
    "## Principal Component Analysis\n",
    "\n",
    "Principal Component Analysis (PCA) derives an orthogonal projection to convert a given set of observations to linearly uncorrelated variables, called principal components."
   ]
  },
  {
   "cell_type": "code",
   "execution_count": 22,
   "metadata": {},
   "outputs": [
    {
     "name": "stderr",
     "output_type": "stream",
     "text": [
      "\u001b[32m\u001b[1m   Resolving\u001b[22m\u001b[39m package versions...\n",
      "\u001b[32m\u001b[1m   Installed\u001b[22m\u001b[39m MLBase ─ v0.9.0\n",
      "\u001b[32m\u001b[1m    Updating\u001b[22m\u001b[39m `C:\\Users\\tsakalos\\.julia\\environments\\v1.7\\Project.toml`\n",
      " \u001b[90m [f0e99cf1] \u001b[39m\u001b[92m+ MLBase v0.9.0\u001b[39m\n",
      "\u001b[32m\u001b[1m    Updating\u001b[22m\u001b[39m `C:\\Users\\tsakalos\\.julia\\environments\\v1.7\\Manifest.toml`\n",
      " \u001b[90m [f0e99cf1] \u001b[39m\u001b[92m+ MLBase v0.9.0\u001b[39m\n",
      "\u001b[32m\u001b[1mPrecompiling\u001b[22m\u001b[39m project...\n",
      "\u001b[32m  ✓ \u001b[39mMLBase\n",
      "  1 dependency successfully precompiled in 5 seconds (275 already precompiled)\n"
     ]
    }
   ],
   "source": [
    "import Pkg; Pkg.add(\"MLBase\")"
   ]
  },
  {
   "cell_type": "code",
   "execution_count": 23,
   "metadata": {},
   "outputs": [
    {
     "name": "stderr",
     "output_type": "stream",
     "text": [
      "WARNING: using MLBase.transform in module Main conflicts with an existing identifier.\n"
     ]
    }
   ],
   "source": [
    "# Packages we will use throughout this notebook\n",
    "using Makie\n",
    "using XLSX\n",
    "using VegaDatasets\n",
    "using DataFrames\n",
    "using MultivariateStats\n",
    "using RDatasets\n",
    "using StatsBase\n",
    "using Statistics\n",
    "using LinearAlgebra\n",
    "using Plots\n",
    "using ScikitLearn\n",
    "using MLBase\n",
    "using Distances"
   ]
  },
  {
   "cell_type": "code",
   "execution_count": 24,
   "metadata": {},
   "outputs": [
    {
     "data": {
      "text/html": [
       "<div class=\"data-frame\"><p>406 rows × 9 columns (omitted printing of 4 columns)</p><table class=\"data-frame\"><thead><tr><th></th><th>Name</th><th>Miles_per_Gallon</th><th>Cylinders</th><th>Displacement</th><th>Horsepower</th></tr><tr><th></th><th title=\"String\">String</th><th title=\"Union{Missing, Float64}\">Float64?</th><th title=\"Int64\">Int64</th><th title=\"Float64\">Float64</th><th title=\"Union{Missing, Int64}\">Int64?</th></tr></thead><tbody><tr><th>1</th><td>chevrolet chevelle malibu</td><td>18.0</td><td>8</td><td>307.0</td><td>130</td></tr><tr><th>2</th><td>buick skylark 320</td><td>15.0</td><td>8</td><td>350.0</td><td>165</td></tr><tr><th>3</th><td>plymouth satellite</td><td>18.0</td><td>8</td><td>318.0</td><td>150</td></tr><tr><th>4</th><td>amc rebel sst</td><td>16.0</td><td>8</td><td>304.0</td><td>150</td></tr><tr><th>5</th><td>ford torino</td><td>17.0</td><td>8</td><td>302.0</td><td>140</td></tr><tr><th>6</th><td>ford galaxie 500</td><td>15.0</td><td>8</td><td>429.0</td><td>198</td></tr><tr><th>7</th><td>chevrolet impala</td><td>14.0</td><td>8</td><td>454.0</td><td>220</td></tr><tr><th>8</th><td>plymouth fury iii</td><td>14.0</td><td>8</td><td>440.0</td><td>215</td></tr><tr><th>9</th><td>pontiac catalina</td><td>14.0</td><td>8</td><td>455.0</td><td>225</td></tr><tr><th>10</th><td>amc ambassador dpl</td><td>15.0</td><td>8</td><td>390.0</td><td>190</td></tr><tr><th>11</th><td>citroen ds-21 pallas</td><td><em>missing</em></td><td>4</td><td>133.0</td><td>115</td></tr><tr><th>12</th><td>chevrolet chevelle concours (sw)</td><td><em>missing</em></td><td>8</td><td>350.0</td><td>165</td></tr><tr><th>13</th><td>ford torino (sw)</td><td><em>missing</em></td><td>8</td><td>351.0</td><td>153</td></tr><tr><th>14</th><td>plymouth satellite (sw)</td><td><em>missing</em></td><td>8</td><td>383.0</td><td>175</td></tr><tr><th>15</th><td>amc rebel sst (sw)</td><td><em>missing</em></td><td>8</td><td>360.0</td><td>175</td></tr><tr><th>16</th><td>dodge challenger se</td><td>15.0</td><td>8</td><td>383.0</td><td>170</td></tr><tr><th>17</th><td>plymouth &apos;cuda 340</td><td>14.0</td><td>8</td><td>340.0</td><td>160</td></tr><tr><th>18</th><td>ford mustang boss 302</td><td><em>missing</em></td><td>8</td><td>302.0</td><td>140</td></tr><tr><th>19</th><td>chevrolet monte carlo</td><td>15.0</td><td>8</td><td>400.0</td><td>150</td></tr><tr><th>20</th><td>buick estate wagon (sw)</td><td>14.0</td><td>8</td><td>455.0</td><td>225</td></tr><tr><th>21</th><td>toyota corona mark ii</td><td>24.0</td><td>4</td><td>113.0</td><td>95</td></tr><tr><th>22</th><td>plymouth duster</td><td>22.0</td><td>6</td><td>198.0</td><td>95</td></tr><tr><th>23</th><td>amc hornet</td><td>18.0</td><td>6</td><td>199.0</td><td>97</td></tr><tr><th>24</th><td>ford maverick</td><td>21.0</td><td>6</td><td>200.0</td><td>85</td></tr><tr><th>&vellip;</th><td>&vellip;</td><td>&vellip;</td><td>&vellip;</td><td>&vellip;</td><td>&vellip;</td></tr></tbody></table></div>"
      ],
      "text/latex": [
       "\\begin{tabular}{r|cccccc}\n",
       "\t& Name & Miles\\_per\\_Gallon & Cylinders & Displacement & Horsepower & \\\\\n",
       "\t\\hline\n",
       "\t& String & Float64? & Int64 & Float64 & Int64? & \\\\\n",
       "\t\\hline\n",
       "\t1 & chevrolet chevelle malibu & 18.0 & 8 & 307.0 & 130 & $\\dots$ \\\\\n",
       "\t2 & buick skylark 320 & 15.0 & 8 & 350.0 & 165 & $\\dots$ \\\\\n",
       "\t3 & plymouth satellite & 18.0 & 8 & 318.0 & 150 & $\\dots$ \\\\\n",
       "\t4 & amc rebel sst & 16.0 & 8 & 304.0 & 150 & $\\dots$ \\\\\n",
       "\t5 & ford torino & 17.0 & 8 & 302.0 & 140 & $\\dots$ \\\\\n",
       "\t6 & ford galaxie 500 & 15.0 & 8 & 429.0 & 198 & $\\dots$ \\\\\n",
       "\t7 & chevrolet impala & 14.0 & 8 & 454.0 & 220 & $\\dots$ \\\\\n",
       "\t8 & plymouth fury iii & 14.0 & 8 & 440.0 & 215 & $\\dots$ \\\\\n",
       "\t9 & pontiac catalina & 14.0 & 8 & 455.0 & 225 & $\\dots$ \\\\\n",
       "\t10 & amc ambassador dpl & 15.0 & 8 & 390.0 & 190 & $\\dots$ \\\\\n",
       "\t11 & citroen ds-21 pallas & \\emph{missing} & 4 & 133.0 & 115 & $\\dots$ \\\\\n",
       "\t12 & chevrolet chevelle concours (sw) & \\emph{missing} & 8 & 350.0 & 165 & $\\dots$ \\\\\n",
       "\t13 & ford torino (sw) & \\emph{missing} & 8 & 351.0 & 153 & $\\dots$ \\\\\n",
       "\t14 & plymouth satellite (sw) & \\emph{missing} & 8 & 383.0 & 175 & $\\dots$ \\\\\n",
       "\t15 & amc rebel sst (sw) & \\emph{missing} & 8 & 360.0 & 175 & $\\dots$ \\\\\n",
       "\t16 & dodge challenger se & 15.0 & 8 & 383.0 & 170 & $\\dots$ \\\\\n",
       "\t17 & plymouth 'cuda 340 & 14.0 & 8 & 340.0 & 160 & $\\dots$ \\\\\n",
       "\t18 & ford mustang boss 302 & \\emph{missing} & 8 & 302.0 & 140 & $\\dots$ \\\\\n",
       "\t19 & chevrolet monte carlo & 15.0 & 8 & 400.0 & 150 & $\\dots$ \\\\\n",
       "\t20 & buick estate wagon (sw) & 14.0 & 8 & 455.0 & 225 & $\\dots$ \\\\\n",
       "\t21 & toyota corona mark ii & 24.0 & 4 & 113.0 & 95 & $\\dots$ \\\\\n",
       "\t22 & plymouth duster & 22.0 & 6 & 198.0 & 95 & $\\dots$ \\\\\n",
       "\t23 & amc hornet & 18.0 & 6 & 199.0 & 97 & $\\dots$ \\\\\n",
       "\t24 & ford maverick & 21.0 & 6 & 200.0 & 85 & $\\dots$ \\\\\n",
       "\t$\\dots$ & $\\dots$ & $\\dots$ & $\\dots$ & $\\dots$ & $\\dots$ &  \\\\\n",
       "\\end{tabular}\n"
      ],
      "text/plain": [
       "\u001b[1m406×9 DataFrame\u001b[0m\n",
       "\u001b[1m Row \u001b[0m│\u001b[1m Name                              \u001b[0m\u001b[1m Miles_per_Gallon \u001b[0m\u001b[1m Cylinders \u001b[0m\u001b[1m Displac\u001b[0m ⋯\n",
       "\u001b[1m     \u001b[0m│\u001b[90m String                            \u001b[0m\u001b[90m Float64?         \u001b[0m\u001b[90m Int64     \u001b[0m\u001b[90m Float64\u001b[0m ⋯\n",
       "─────┼──────────────────────────────────────────────────────────────────────────\n",
       "   1 │ chevrolet chevelle malibu                      18.0          8          ⋯\n",
       "   2 │ buick skylark 320                              15.0          8\n",
       "   3 │ plymouth satellite                             18.0          8\n",
       "   4 │ amc rebel sst                                  16.0          8\n",
       "   5 │ ford torino                                    17.0          8          ⋯\n",
       "   6 │ ford galaxie 500                               15.0          8\n",
       "   7 │ chevrolet impala                               14.0          8\n",
       "   8 │ plymouth fury iii                              14.0          8\n",
       "  ⋮  │                 ⋮                         ⋮              ⋮           ⋮  ⋱\n",
       " 400 │ dodge charger 2.2                              36.0          4          ⋯\n",
       " 401 │ chevrolet camaro                               27.0          4\n",
       " 402 │ ford mustang gl                                27.0          4\n",
       " 403 │ vw pickup                                      44.0          4\n",
       " 404 │ dodge rampage                                  32.0          4          ⋯\n",
       " 405 │ ford ranger                                    28.0          4\n",
       " 406 │ chevy s-10                                     31.0          4\n",
       "\u001b[36m                                                  6 columns and 391 rows omitted\u001b[0m"
      ]
     },
     "metadata": {},
     "output_type": "display_data"
    }
   ],
   "source": [
    "C = DataFrame(VegaDatasets.dataset(\"cars\"))"
   ]
  },
  {
   "cell_type": "code",
   "execution_count": 25,
   "metadata": {},
   "outputs": [
    {
     "data": {
      "text/plain": [
       "9-element Vector{String}:\n",
       " \"Name\"\n",
       " \"Miles_per_Gallon\"\n",
       " \"Cylinders\"\n",
       " \"Displacement\"\n",
       " \"Horsepower\"\n",
       " \"Weight_in_lbs\"\n",
       " \"Acceleration\"\n",
       " \"Year\"\n",
       " \"Origin\""
      ]
     },
     "metadata": {},
     "output_type": "display_data"
    }
   ],
   "source": [
    "dropmissing!(C)\n",
    "M = Matrix(C[:,2:7])\n",
    "names(C)"
   ]
  },
  {
   "cell_type": "code",
   "execution_count": 26,
   "metadata": {},
   "outputs": [
    {
     "data": {
      "text/plain": [
       "392-element Vector{Int64}:\n",
       " 1\n",
       " 1\n",
       " 1\n",
       " 1\n",
       " 1\n",
       " 1\n",
       " 1\n",
       " 1\n",
       " 1\n",
       " 1\n",
       " ⋮\n",
       " 1\n",
       " 2\n",
       " 1\n",
       " 1\n",
       " 1\n",
       " 3\n",
       " 1\n",
       " 1\n",
       " 1"
      ]
     },
     "metadata": {},
     "output_type": "display_data"
    }
   ],
   "source": [
    "car_origin = C[:,:Origin]\n",
    "carmap = labelmap(car_origin) #from MLBase\n",
    "uniqueids = labelencode(carmap,car_origin)"
   ]
  },
  {
   "cell_type": "code",
   "execution_count": 27,
   "metadata": {},
   "outputs": [
    {
     "data": {
      "text/plain": [
       "392×6 Matrix{Float64}:\n",
       " -0.697747   1.48205    1.07591    0.663285   0.619748   -1.28362\n",
       " -1.08212    1.48205    1.48683    1.57258    0.842258   -1.46485\n",
       " -0.697747   1.48205    1.18103    1.18288    0.539692   -1.64609\n",
       " -0.953992   1.48205    1.04725    1.18288    0.53616    -1.28362\n",
       " -0.82587    1.48205    1.02813    0.923085   0.554997   -1.82732\n",
       " -1.08212    1.48205    2.24177    2.42992    1.60515    -2.00855\n",
       " -1.21024    1.48205    2.48068    3.00148    1.62045    -2.37102\n",
       " -1.21024    1.48205    2.34689    2.87158    1.57101    -2.55226\n",
       " -1.21024    1.48205    2.49023    3.13138    1.70404    -2.00855\n",
       " -1.08212    1.48205    1.86908    2.22208    1.02709    -2.55226\n",
       "  ⋮                                                       ⋮\n",
       " -0.185255   0.309571   0.359199   0.195645  -0.167864   -0.304954\n",
       "  1.09597   -0.862911  -0.481748  -0.220035  -0.368005   -0.594928\n",
       "  1.60847   -0.862911  -0.567753  -0.531795  -0.715308   -0.92115\n",
       "  0.455359  -0.862911  -0.414854  -0.375915  -0.0324748   0.637463\n",
       "  0.455359  -0.862911  -0.519972  -0.479835  -0.220842    0.0212673\n",
       "  2.63345   -0.862911  -0.930889  -1.36315   -0.997859    3.28348\n",
       "  1.09597   -0.862911  -0.567753  -0.531795  -0.803605   -1.4286\n",
       "  0.583482  -0.862911  -0.711097  -0.661694  -0.415097    1.10867\n",
       "  0.967851  -0.862911  -0.720653  -0.583754  -0.303253    1.39865"
      ]
     },
     "metadata": {},
     "output_type": "display_data"
    }
   ],
   "source": [
    "# center and normalize the data\n",
    "data = M\n",
    "data = (data .- mean(data,dims = 1))./ std(data,dims=1)"
   ]
  },
  {
   "cell_type": "code",
   "execution_count": 28,
   "metadata": {},
   "outputs": [
    {
     "data": {
      "text/plain": [
       "392×6 Matrix{Float64}:\n",
       " -0.697747   1.48205    1.07591    0.663285   0.619748   -1.28362\n",
       " -1.08212    1.48205    1.48683    1.57258    0.842258   -1.46485\n",
       " -0.697747   1.48205    1.18103    1.18288    0.539692   -1.64609\n",
       " -0.953992   1.48205    1.04725    1.18288    0.53616    -1.28362\n",
       " -0.82587    1.48205    1.02813    0.923085   0.554997   -1.82732\n",
       " -1.08212    1.48205    2.24177    2.42992    1.60515    -2.00855\n",
       " -1.21024    1.48205    2.48068    3.00148    1.62045    -2.37102\n",
       " -1.21024    1.48205    2.34689    2.87158    1.57101    -2.55226\n",
       " -1.21024    1.48205    2.49023    3.13138    1.70404    -2.00855\n",
       " -1.08212    1.48205    1.86908    2.22208    1.02709    -2.55226\n",
       "  ⋮                                                       ⋮\n",
       " -0.185255   0.309571   0.359199   0.195645  -0.167864   -0.304954\n",
       "  1.09597   -0.862911  -0.481748  -0.220035  -0.368005   -0.594928\n",
       "  1.60847   -0.862911  -0.567753  -0.531795  -0.715308   -0.92115\n",
       "  0.455359  -0.862911  -0.414854  -0.375915  -0.0324748   0.637463\n",
       "  0.455359  -0.862911  -0.519972  -0.479835  -0.220842    0.0212673\n",
       "  2.63345   -0.862911  -0.930889  -1.36315   -0.997859    3.28348\n",
       "  1.09597   -0.862911  -0.567753  -0.531795  -0.803605   -1.4286\n",
       "  0.583482  -0.862911  -0.711097  -0.661694  -0.415097    1.10867\n",
       "  0.967851  -0.862911  -0.720653  -0.583754  -0.303253    1.39865"
      ]
     },
     "metadata": {},
     "output_type": "display_data"
    }
   ],
   "source": [
    "# PCA expects each column to be an observation, so we will use the transpose of the matrix.\n",
    "# each car is now a column, PCA takes features - by - samples matrix\n",
    "data"
   ]
  },
  {
   "cell_type": "code",
   "execution_count": 29,
   "metadata": {},
   "outputs": [
    {
     "data": {
      "text/plain": [
       "PCA(indim = 6, outdim = 2, principalratio = 0.9194828785333574)"
      ]
     },
     "metadata": {},
     "output_type": "display_data"
    }
   ],
   "source": [
    "p = fit(PCA,data',maxoutdim=2)\n"
   ]
  },
  {
   "cell_type": "code",
   "execution_count": 30,
   "metadata": {},
   "outputs": [
    {
     "data": {
      "text/plain": [
       "6×2 Matrix{Float64}:\n",
       "  0.398973  -0.244835\n",
       " -0.430615   0.148314\n",
       " -0.443531   0.108497\n",
       " -0.434122  -0.166158\n",
       " -0.430103   0.286095\n",
       "  0.291926   0.892652"
      ]
     },
     "metadata": {},
     "output_type": "display_data"
    }
   ],
   "source": [
    "P = projection(p)\n"
   ]
  },
  {
   "cell_type": "code",
   "execution_count": 33,
   "metadata": {},
   "outputs": [
    {
     "data": {
      "text/plain": [
       "2-element Vector{Float64}:\n",
       " -2.3230016965226925\n",
       " -0.5713519642644688"
      ]
     },
     "metadata": {},
     "output_type": "display_data"
    }
   ],
   "source": [
    "# Now that we have the projection matrix, P, we can apply it on one car as follows:\n",
    "\n",
    "P'*(data[1,:]-mean(p))"
   ]
  },
  {
   "cell_type": "code",
   "execution_count": 34,
   "metadata": {},
   "outputs": [
    {
     "data": {
      "text/plain": [
       "2×392 Matrix{Float64}:\n",
       " -2.323     -3.20196  -2.66658   -2.60214   …   1.22011  1.70921   1.86951\n",
       " -0.571352  -0.68187  -0.992744  -0.621975     -1.87471  0.632857  0.815607"
      ]
     },
     "metadata": {},
     "output_type": "display_data"
    }
   ],
   "source": [
    "# Or we can transorm all the data via the transform function.\n",
    "Yte = MultivariateStats.transform(p, data') #notice that Yte[:,1] is the same as P'*(data[1,:]-mean(p))\n"
   ]
  },
  {
   "cell_type": "code",
   "execution_count": 35,
   "metadata": {},
   "outputs": [
    {
     "data": {
      "text/plain": [
       "6×392 Matrix{Float64}:\n",
       " -0.786928  -1.11055  -0.820834  …   0.945785   0.526984   0.546196\n",
       "  0.91558    1.27768   1.00103      -0.803445  -0.64215   -0.684075\n",
       "  0.968334   1.34619   1.075        -0.744559  -0.689425  -0.740696\n",
       "  1.1034     1.50334   1.32257      -0.218179  -0.847159  -0.947116\n",
       "  0.835669   1.18209   0.862883     -1.06112   -0.554079  -0.570742\n",
       " -1.18816   -1.54341  -1.66462   …  -1.31728    1.06388    1.27381"
      ]
     },
     "metadata": {},
     "output_type": "display_data"
    }
   ],
   "source": [
    "# We can also go back from two dimensions to 6 dimensions, via the reconstruct function... But this time, it will be approximate.\n",
    "# reconstruct testing observations (approximately)\n",
    "Xr = reconstruct(p, Yte)"
   ]
  },
  {
   "cell_type": "code",
   "execution_count": 36,
   "metadata": {},
   "outputs": [
    {
     "data": {
      "text/plain": [
       "13.743841055569009"
      ]
     },
     "metadata": {},
     "output_type": "display_data"
    }
   ],
   "source": [
    "norm(Xr-data') # this won't be zero"
   ]
  },
  {
   "cell_type": "code",
   "execution_count": 37,
   "metadata": {},
   "outputs": [],
   "source": [
    "# Finally, we will generate a scatter plot of the cars:\n",
    "\n",
    "Plots.scatter(Yte[1,:],Yte[2,:])\n"
   ]
  },
  {
   "cell_type": "code",
   "execution_count": 40,
   "metadata": {},
   "outputs": [],
   "source": [
    "\n",
    "Plots.scatter(Yte[1,car_origin.==\"USA\"],Yte[2,car_origin.==\"USA\"],color=1,label=\"USA\")\n",
    "Plots.xlabel!(\"pca component1\")\n",
    "Plots.ylabel!(\"pca component2\")\n",
    "Plots.scatter!(Yte[1,car_origin.==\"Japan\"],Yte[2,car_origin.==\"Japan\"],color=2,label=\"Japan\")\n",
    "Plots.scatter!(Yte[1,car_origin.==\"Europe\"],Yte[2,car_origin.==\"Europe\"],color=3,label=\"Europe\")"
   ]
  },
  {
   "cell_type": "code",
   "execution_count": 41,
   "metadata": {},
   "outputs": [],
   "source": [
    "p = fit(PCA,data',maxoutdim=3)\n",
    "Yte = MultivariateStats.transform(p, data')\n",
    "scatter3d(Yte[1,:],Yte[2,:],Yte[3,:],color=uniqueids,legend=false)"
   ]
  },
  {
   "cell_type": "code",
   "execution_count": 44,
   "metadata": {},
   "outputs": [
    {
     "name": "stderr",
     "output_type": "stream",
     "text": [
      "┌ Info: Makie is caching fonts, this may take a while. Needed only on first run!\n",
      "└ @ Makie C:\\Users\\tsakalos\\.julia\\packages\\Makie\\f11Ut\\src\\utilities\\texture_atlas.jl:118\n"
     ]
    }
   ],
   "source": [
    "\n",
    "#This is a 3d plot, but eventhough you can set the camera view, you won't be able to move the 3d plot around. Let's use another package for this purpose. We will use Mackie.\n",
    "using GLMakie\n",
    "scene = Makie.scatter(Yte[1,:],Yte[2,:],Yte[3,:],color=uniqueids)"
   ]
  }
 ],
 "metadata": {
  "kernelspec": {
   "display_name": "Julia 1.7.1",
   "language": "julia",
   "name": "julia-1.7"
  },
  "language_info": {
   "file_extension": ".jl",
   "mimetype": "application/julia",
   "name": "julia",
   "version": "1.7.1"
  },
  "orig_nbformat": 4
 },
 "nbformat": 4,
 "nbformat_minor": 2
}
