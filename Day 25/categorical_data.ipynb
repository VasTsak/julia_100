{
 "cells": [
  {
   "cell_type": "markdown",
   "metadata": {},
   "source": [
    "## What is Categorical Data?\n",
    "Categorical data are variables that contain label values rather than numeric values.\n",
    "\n",
    "The number of possible values is often limited to a fixed set.\n",
    "\n",
    "Categorical variables are often called nominal.\n",
    "\n",
    "Some examples include:\n",
    "\n",
    "* A “pet” variable with the values: “dog” and “cat“.\n",
    "* A “color” variable with the values: “red“, “green” and “blue“.\n",
    "* A “place” variable with the values: “first”, “second” and “third“.\n",
    "\n",
    "Each value represents a different category.\n",
    "\n",
    "Some categories may have a natural relationship to each other, such as a natural ordering.\n",
    "\n",
    "The “place” variable above does have a natural ordering of values. This type of categorical variable is called an ordinal variable.\n",
    "\n",
    "\n",
    "## What is the Problem with Categorical Data?\n",
    "Some algorithms can work with categorical data directly.\n",
    "\n",
    "For example, a decision tree can be learned directly from categorical data with no data transform required (this depends on the specific implementation).\n",
    "\n",
    "Many machine learning algorithms cannot operate on label data directly. They require all input variables and output variables to be numeric.\n",
    "\n",
    "In general, this is mostly a constraint of the efficient implementation of machine learning algorithms rather than hard limitations on the algorithms themselves.\n",
    "\n",
    "This means that categorical data must be converted to a numerical form. If the categorical variable is an output variable, you may also want to convert predictions by the model back into a categorical form in order to present them or use them in some application.\n",
    "\n",
    "## How to Convert Categorical Data to Numerical Data?\n",
    "This involves two steps:\n",
    "\n",
    "1. Integer Encoding\n",
    "2. One-Hot Encoding\n",
    "\n",
    "### 1. Integer Encoding\n",
    "As a first step, each unique category value is assigned an integer value.\n",
    "\n",
    "For example, “red” is 1, “green” is 2, and “blue” is 3.\n",
    "\n",
    "This is called a label encoding or an integer encoding and is easily reversible.\n",
    "\n",
    "For some variables, this may be enough.\n",
    "\n",
    "The integer values have a natural ordered relationship between each other and machine learning algorithms may be able to understand and harness this relationship.\n",
    "\n",
    "For example, ordinal variables like the “place” example above would be a good example where a label encoding would be sufficient.\n",
    "\n",
    "### 2. One-Hot Encoding\n",
    "For categorical variables where no such ordinal relationship exists, the integer encoding is not enough.\n",
    "\n",
    "In fact, using this encoding and allowing the model to assume a natural ordering between categories may result in poor performance or unexpected results (predictions halfway between categories).\n",
    "\n",
    "In this case, a one-hot encoding can be applied to the integer representation. This is where the integer encoded variable is removed and a new binary variable is added for each unique integer value.\n",
    "\n",
    "In the “color” variable example, there are 3 categories and therefore 3 binary variables are needed. A “1” value is placed in the binary variable for the color and “0” values for the other colors."
   ]
  },
  {
   "cell_type": "code",
   "execution_count": 10,
   "metadata": {},
   "outputs": [],
   "source": [
    "using DataFrames\n",
    "using MLLabelUtils\n"
   ]
  },
  {
   "cell_type": "code",
   "execution_count": 11,
   "metadata": {},
   "outputs": [
    {
     "data": {
      "text/html": [
       "<div class=\"data-frame\"><p>3 rows × 5 columns</p><table class=\"data-frame\"><thead><tr><th></th><th>col1</th><th>col2</th><th>col2_a</th><th>col2_b</th><th>col2_c</th></tr><tr><th></th><th title=\"Int64\">Int64</th><th title=\"Vector{String}\">Array…</th><th title=\"Bool\">Bool</th><th title=\"Bool\">Bool</th><th title=\"Bool\">Bool</th></tr></thead><tbody><tr><th>1</th><td>102</td><td>[&quot;a&quot;]</td><td>1</td><td>0</td><td>0</td></tr><tr><th>2</th><td>103</td><td>[&quot;a&quot;, &quot;b&quot;]</td><td>1</td><td>1</td><td>0</td></tr><tr><th>3</th><td>104</td><td>[&quot;c&quot;, &quot;b&quot;]</td><td>0</td><td>1</td><td>1</td></tr></tbody></table></div>"
      ],
      "text/latex": [
       "\\begin{tabular}{r|ccccc}\n",
       "\t& col1 & col2 & col2\\_a & col2\\_b & col2\\_c\\\\\n",
       "\t\\hline\n",
       "\t& Int64 & Array… & Bool & Bool & Bool\\\\\n",
       "\t\\hline\n",
       "\t1 & 102 & [\"a\"] & 1 & 0 & 0 \\\\\n",
       "\t2 & 103 & [\"a\", \"b\"] & 1 & 1 & 0 \\\\\n",
       "\t3 & 104 & [\"c\", \"b\"] & 0 & 1 & 1 \\\\\n",
       "\\end{tabular}\n"
      ],
      "text/plain": [
       "\u001b[1m3×5 DataFrame\u001b[0m\n",
       "\u001b[1m Row \u001b[0m│\u001b[1m col1  \u001b[0m\u001b[1m col2       \u001b[0m\u001b[1m col2_a \u001b[0m\u001b[1m col2_b \u001b[0m\u001b[1m col2_c \u001b[0m\n",
       "\u001b[1m     \u001b[0m│\u001b[90m Int64 \u001b[0m\u001b[90m Array…     \u001b[0m\u001b[90m Bool   \u001b[0m\u001b[90m Bool   \u001b[0m\u001b[90m Bool   \u001b[0m\n",
       "─────┼───────────────────────────────────────────\n",
       "   1 │   102  [\"a\"]         true   false   false\n",
       "   2 │   103  [\"a\", \"b\"]    true    true   false\n",
       "   3 │   104  [\"c\", \"b\"]   false    true    true"
      ]
     },
     "execution_count": 11,
     "metadata": {},
     "output_type": "execute_result"
    }
   ],
   "source": [
    "df = DataFrame(col1=102:104, col2=[[\"a\"], [\"a\",\"b\"], [\"c\",\"b\"]])\n",
    "ux = unique(reduce(vcat, df.col2))\n",
    "transform(df, :col2 .=> [ByRow(v -> x in v) for x in ux] .=> Symbol.(:col2_, ux))"
   ]
  },
  {
   "cell_type": "code",
   "execution_count": 12,
   "metadata": {},
   "outputs": [
    {
     "data": {
      "text/plain": [
       "5-element Vector{Symbol}:\n",
       " :no\n",
       " :yes\n",
       " :no\n",
       " :yes\n",
       " :yes"
      ]
     },
     "execution_count": 12,
     "metadata": {},
     "output_type": "execute_result"
    }
   ],
   "source": [
    "true_targets = Int8[0, 1, 0, 1, 1];\n",
    "convertlabel([:yes,:no], true_targets)"
   ]
  },
  {
   "cell_type": "code",
   "execution_count": 13,
   "metadata": {},
   "outputs": [
    {
     "data": {
      "text/plain": [
       "3-element Vector{Int64}:\n",
       " 0\n",
       " 1\n",
       " 1"
      ]
     },
     "execution_count": 13,
     "metadata": {},
     "output_type": "execute_result"
    }
   ],
   "source": [
    "df = DataFrame(col1=102:104, col2=[\"a\", \"b\", \"b\"])\n",
    "convertlabel([0,1], df.col2)\n"
   ]
  },
  {
   "cell_type": "code",
   "execution_count": 14,
   "metadata": {},
   "outputs": [
    {
     "data": {
      "text/plain": [
       "3-element Vector{Symbol}:\n",
       " :yes\n",
       " :no\n",
       " :no"
      ]
     },
     "execution_count": 14,
     "metadata": {},
     "output_type": "execute_result"
    }
   ],
   "source": [
    "df = DataFrame(col1=102:104, col2=[\"a\", \"b\", \"b\"])\n",
    "convertlabel([:yes,:no], df.col2)\n"
   ]
  }
 ],
 "metadata": {
  "kernelspec": {
   "display_name": "Julia 1.6.3",
   "language": "julia",
   "name": "julia-1.6"
  },
  "language_info": {
   "file_extension": ".jl",
   "mimetype": "application/julia",
   "name": "julia",
   "version": "1.6.3"
  },
  "orig_nbformat": 4
 },
 "nbformat": 4,
 "nbformat_minor": 2
}
