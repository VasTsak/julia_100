{
 "cells": [
  {
   "cell_type": "markdown",
   "metadata": {},
   "source": [
    "## Hierarchical Clustering\n",
    "\n",
    "Hierarchical clustering, also known as hierarchical cluster analysis, is an algorithm that groups similar objects into groups called clusters. The endpoint is a set of clusters, where each cluster is distinct from each other cluster, and the objects within each cluster are broadly similar to each other.\n",
    "\n",
    "### Measures of distance (similarity)\n",
    "In the example above, the distance between two clusters has been computed based on the length of the straight line drawn from one cluster to another. This is commonly referred to as the Euclidean distance. Many other distance metrics have been developed.\n",
    "\n",
    "The choice of distance metric should be made based on theoretical concerns from the domain of study. That is, a distance metric needs to define similarity in a way that is sensible for the field of study. For example, if clustering crime sites in a city, city block distance may be appropriate. Or, better yet, the time taken to travel between each location. Where there is no theoretical justification for an alternative, the Euclidean should generally be preferred, as it is usually the appropriate measure of distance in the physical world.\n",
    "\n",
    "### Linkage Criteria\n",
    "After selecting a distance metric, it is necessary to determine from where distance is computed. For example, it can be computed between the two most similar parts of a cluster (single-linkage), the two least similar bits of a cluster (complete-linkage), the center of the clusters (mean or average-linkage), or some other criterion. Many linkage criteria have been developed.\n",
    "\n",
    "As with distance metrics, the choice of linkage criteria should be made based on theoretical considerations from the domain of application. A key theoretical issue is what causes variation. For example, in archeology, we expect variation to occur through innovation and natural resources, so working out if two groups of artifacts are similar may make sense based on identifying the most similar members of the cluster.\n",
    "\n",
    "Where there are no clear theoretical justifications for the choice of linkage criteria, Ward’s method is the sensible default. This method works out which observations to group based on reducing the sum of squared distances of each observation from the average observation in a cluster. This is often appropriate as this concept of distance matches the standard assumptions of how to compute differences between groups in statistics (e.g., ANOVA, MANOVA).\n",
    "\n",
    "### Agglomerative versus divisive algorithms\n",
    "Hierarchical clustering typically works by sequentially merging similar clusters, as shown above. This is known as agglomerative hierarchical clustering. In theory, it can also be done by initially grouping all the observations into one cluster, and then successively splitting these clusters. This is known as divisive hierarchical clustering. Divisive clustering is rarely done in practice."
   ]
  },
  {
   "cell_type": "code",
   "execution_count": 4,
   "metadata": {},
   "outputs": [
    {
     "data": {
      "text/plain": [
       "Hclust{Float64}([-5 -362; -386 -525; … ; -889 997; -180 998], [0.0015473733362019182, 0.001789818492099915, 0.0039962418518577625, 0.005266125001234023, 0.005909776007200662, 0.00601878803074074, 0.006179086716817661, 0.006351788554708859, 0.006357427578721486, 0.006761378792420114  …  0.09480579194061955, 0.09564630287599085, 0.09994086489727949, 0.1001603627536285, 0.10279381586355574, 0.10303997308084867, 0.10853395026590551, 0.11085944714987916, 0.11104189588772218, 0.1144214017609928], [180, 889, 980, 37, 519, 322, 230, 498, 778, 186  …  529, 632, 199, 824, 686, 963, 945, 223, 515, 589], :single)"
      ]
     },
     "execution_count": 4,
     "metadata": {},
     "output_type": "execute_result"
    }
   ],
   "source": [
    "using Clustering\n",
    "\n",
    "D = rand(1000, 1000)\n",
    "D += D' # symmetric distance matrix (optional)\n",
    "result = hclust(D, linkage=:single)"
   ]
  },
  {
   "cell_type": "code",
   "execution_count": 1,
   "metadata": {},
   "outputs": [],
   "source": [
    "using Clustering\n",
    "using VegaLite\n",
    "using VegaDatasets\n",
    "using DataFrames\n",
    "using Statistics\n",
    "using JSON\n",
    "using CSV\n",
    "using Distances"
   ]
  },
  {
   "cell_type": "code",
   "execution_count": 2,
   "metadata": {},
   "outputs": [
    {
     "name": "stderr",
     "output_type": "stream",
     "text": [
      "┌ Error: curl_easy_setopt: 48\n",
      "└ @ Downloads.Curl /Users/julia/buildbot/worker/package_macos64/build/usr/share/julia/stdlib/v1.6/Downloads/src/Curl/utils.jl:36\n",
      "┌ Error: curl_easy_setopt: 48\n",
      "└ @ Downloads.Curl /Users/julia/buildbot/worker/package_macos64/build/usr/share/julia/stdlib/v1.6/Downloads/src/Curl/utils.jl:36\n",
      "┌ Error: curl_easy_setopt: 48\n",
      "└ @ Downloads.Curl /Users/julia/buildbot/worker/package_macos64/build/usr/share/julia/stdlib/v1.6/Downloads/src/Curl/utils.jl:36\n"
     ]
    },
    {
     "data": {
      "text/html": [
       "<div class=\"data-frame\"><p>20,640 rows × 10 columns (omitted printing of 4 columns)</p><table class=\"data-frame\"><thead><tr><th></th><th>longitude</th><th>latitude</th><th>housing_median_age</th><th>total_rooms</th><th>total_bedrooms</th><th>population</th></tr><tr><th></th><th title=\"Float64\">Float64</th><th title=\"Float64\">Float64</th><th title=\"Float64\">Float64</th><th title=\"Float64\">Float64</th><th title=\"Union{Missing, Float64}\">Float64?</th><th title=\"Float64\">Float64</th></tr></thead><tbody><tr><th>1</th><td>-122.23</td><td>37.88</td><td>41.0</td><td>880.0</td><td>129.0</td><td>322.0</td></tr><tr><th>2</th><td>-122.22</td><td>37.86</td><td>21.0</td><td>7099.0</td><td>1106.0</td><td>2401.0</td></tr><tr><th>3</th><td>-122.24</td><td>37.85</td><td>52.0</td><td>1467.0</td><td>190.0</td><td>496.0</td></tr><tr><th>4</th><td>-122.25</td><td>37.85</td><td>52.0</td><td>1274.0</td><td>235.0</td><td>558.0</td></tr><tr><th>5</th><td>-122.25</td><td>37.85</td><td>52.0</td><td>1627.0</td><td>280.0</td><td>565.0</td></tr><tr><th>6</th><td>-122.25</td><td>37.85</td><td>52.0</td><td>919.0</td><td>213.0</td><td>413.0</td></tr><tr><th>7</th><td>-122.25</td><td>37.84</td><td>52.0</td><td>2535.0</td><td>489.0</td><td>1094.0</td></tr><tr><th>8</th><td>-122.25</td><td>37.84</td><td>52.0</td><td>3104.0</td><td>687.0</td><td>1157.0</td></tr><tr><th>9</th><td>-122.26</td><td>37.84</td><td>42.0</td><td>2555.0</td><td>665.0</td><td>1206.0</td></tr><tr><th>10</th><td>-122.25</td><td>37.84</td><td>52.0</td><td>3549.0</td><td>707.0</td><td>1551.0</td></tr><tr><th>11</th><td>-122.26</td><td>37.85</td><td>52.0</td><td>2202.0</td><td>434.0</td><td>910.0</td></tr><tr><th>12</th><td>-122.26</td><td>37.85</td><td>52.0</td><td>3503.0</td><td>752.0</td><td>1504.0</td></tr><tr><th>13</th><td>-122.26</td><td>37.85</td><td>52.0</td><td>2491.0</td><td>474.0</td><td>1098.0</td></tr><tr><th>14</th><td>-122.26</td><td>37.84</td><td>52.0</td><td>696.0</td><td>191.0</td><td>345.0</td></tr><tr><th>15</th><td>-122.26</td><td>37.85</td><td>52.0</td><td>2643.0</td><td>626.0</td><td>1212.0</td></tr><tr><th>16</th><td>-122.26</td><td>37.85</td><td>50.0</td><td>1120.0</td><td>283.0</td><td>697.0</td></tr><tr><th>17</th><td>-122.27</td><td>37.85</td><td>52.0</td><td>1966.0</td><td>347.0</td><td>793.0</td></tr><tr><th>18</th><td>-122.27</td><td>37.85</td><td>52.0</td><td>1228.0</td><td>293.0</td><td>648.0</td></tr><tr><th>19</th><td>-122.26</td><td>37.84</td><td>50.0</td><td>2239.0</td><td>455.0</td><td>990.0</td></tr><tr><th>20</th><td>-122.27</td><td>37.84</td><td>52.0</td><td>1503.0</td><td>298.0</td><td>690.0</td></tr><tr><th>21</th><td>-122.27</td><td>37.85</td><td>40.0</td><td>751.0</td><td>184.0</td><td>409.0</td></tr><tr><th>22</th><td>-122.27</td><td>37.85</td><td>42.0</td><td>1639.0</td><td>367.0</td><td>929.0</td></tr><tr><th>23</th><td>-122.27</td><td>37.84</td><td>52.0</td><td>2436.0</td><td>541.0</td><td>1015.0</td></tr><tr><th>24</th><td>-122.27</td><td>37.84</td><td>52.0</td><td>1688.0</td><td>337.0</td><td>853.0</td></tr><tr><th>25</th><td>-122.27</td><td>37.84</td><td>52.0</td><td>2224.0</td><td>437.0</td><td>1006.0</td></tr><tr><th>26</th><td>-122.28</td><td>37.85</td><td>41.0</td><td>535.0</td><td>123.0</td><td>317.0</td></tr><tr><th>27</th><td>-122.28</td><td>37.85</td><td>49.0</td><td>1130.0</td><td>244.0</td><td>607.0</td></tr><tr><th>28</th><td>-122.28</td><td>37.85</td><td>52.0</td><td>1898.0</td><td>421.0</td><td>1102.0</td></tr><tr><th>29</th><td>-122.28</td><td>37.84</td><td>50.0</td><td>2082.0</td><td>492.0</td><td>1131.0</td></tr><tr><th>30</th><td>-122.28</td><td>37.84</td><td>52.0</td><td>729.0</td><td>160.0</td><td>395.0</td></tr><tr><th>&vellip;</th><td>&vellip;</td><td>&vellip;</td><td>&vellip;</td><td>&vellip;</td><td>&vellip;</td><td>&vellip;</td></tr></tbody></table></div>"
      ],
      "text/latex": [
       "\\begin{tabular}{r|ccccccc}\n",
       "\t& longitude & latitude & housing\\_median\\_age & total\\_rooms & total\\_bedrooms & population & \\\\\n",
       "\t\\hline\n",
       "\t& Float64 & Float64 & Float64 & Float64 & Float64? & Float64 & \\\\\n",
       "\t\\hline\n",
       "\t1 & -122.23 & 37.88 & 41.0 & 880.0 & 129.0 & 322.0 & $\\dots$ \\\\\n",
       "\t2 & -122.22 & 37.86 & 21.0 & 7099.0 & 1106.0 & 2401.0 & $\\dots$ \\\\\n",
       "\t3 & -122.24 & 37.85 & 52.0 & 1467.0 & 190.0 & 496.0 & $\\dots$ \\\\\n",
       "\t4 & -122.25 & 37.85 & 52.0 & 1274.0 & 235.0 & 558.0 & $\\dots$ \\\\\n",
       "\t5 & -122.25 & 37.85 & 52.0 & 1627.0 & 280.0 & 565.0 & $\\dots$ \\\\\n",
       "\t6 & -122.25 & 37.85 & 52.0 & 919.0 & 213.0 & 413.0 & $\\dots$ \\\\\n",
       "\t7 & -122.25 & 37.84 & 52.0 & 2535.0 & 489.0 & 1094.0 & $\\dots$ \\\\\n",
       "\t8 & -122.25 & 37.84 & 52.0 & 3104.0 & 687.0 & 1157.0 & $\\dots$ \\\\\n",
       "\t9 & -122.26 & 37.84 & 42.0 & 2555.0 & 665.0 & 1206.0 & $\\dots$ \\\\\n",
       "\t10 & -122.25 & 37.84 & 52.0 & 3549.0 & 707.0 & 1551.0 & $\\dots$ \\\\\n",
       "\t11 & -122.26 & 37.85 & 52.0 & 2202.0 & 434.0 & 910.0 & $\\dots$ \\\\\n",
       "\t12 & -122.26 & 37.85 & 52.0 & 3503.0 & 752.0 & 1504.0 & $\\dots$ \\\\\n",
       "\t13 & -122.26 & 37.85 & 52.0 & 2491.0 & 474.0 & 1098.0 & $\\dots$ \\\\\n",
       "\t14 & -122.26 & 37.84 & 52.0 & 696.0 & 191.0 & 345.0 & $\\dots$ \\\\\n",
       "\t15 & -122.26 & 37.85 & 52.0 & 2643.0 & 626.0 & 1212.0 & $\\dots$ \\\\\n",
       "\t16 & -122.26 & 37.85 & 50.0 & 1120.0 & 283.0 & 697.0 & $\\dots$ \\\\\n",
       "\t17 & -122.27 & 37.85 & 52.0 & 1966.0 & 347.0 & 793.0 & $\\dots$ \\\\\n",
       "\t18 & -122.27 & 37.85 & 52.0 & 1228.0 & 293.0 & 648.0 & $\\dots$ \\\\\n",
       "\t19 & -122.26 & 37.84 & 50.0 & 2239.0 & 455.0 & 990.0 & $\\dots$ \\\\\n",
       "\t20 & -122.27 & 37.84 & 52.0 & 1503.0 & 298.0 & 690.0 & $\\dots$ \\\\\n",
       "\t21 & -122.27 & 37.85 & 40.0 & 751.0 & 184.0 & 409.0 & $\\dots$ \\\\\n",
       "\t22 & -122.27 & 37.85 & 42.0 & 1639.0 & 367.0 & 929.0 & $\\dots$ \\\\\n",
       "\t23 & -122.27 & 37.84 & 52.0 & 2436.0 & 541.0 & 1015.0 & $\\dots$ \\\\\n",
       "\t24 & -122.27 & 37.84 & 52.0 & 1688.0 & 337.0 & 853.0 & $\\dots$ \\\\\n",
       "\t25 & -122.27 & 37.84 & 52.0 & 2224.0 & 437.0 & 1006.0 & $\\dots$ \\\\\n",
       "\t26 & -122.28 & 37.85 & 41.0 & 535.0 & 123.0 & 317.0 & $\\dots$ \\\\\n",
       "\t27 & -122.28 & 37.85 & 49.0 & 1130.0 & 244.0 & 607.0 & $\\dots$ \\\\\n",
       "\t28 & -122.28 & 37.85 & 52.0 & 1898.0 & 421.0 & 1102.0 & $\\dots$ \\\\\n",
       "\t29 & -122.28 & 37.84 & 50.0 & 2082.0 & 492.0 & 1131.0 & $\\dots$ \\\\\n",
       "\t30 & -122.28 & 37.84 & 52.0 & 729.0 & 160.0 & 395.0 & $\\dots$ \\\\\n",
       "\t$\\dots$ & $\\dots$ & $\\dots$ & $\\dots$ & $\\dots$ & $\\dots$ & $\\dots$ &  \\\\\n",
       "\\end{tabular}\n"
      ],
      "text/plain": [
       "\u001b[1m20640×10 DataFrame\u001b[0m\n",
       "\u001b[1m   Row \u001b[0m│\u001b[1m longitude \u001b[0m\u001b[1m latitude \u001b[0m\u001b[1m housing_median_age \u001b[0m\u001b[1m total_rooms \u001b[0m\u001b[1m total_bedrooms \u001b[0m\u001b[1m\u001b[0m ⋯\n",
       "\u001b[1m       \u001b[0m│\u001b[90m Float64   \u001b[0m\u001b[90m Float64  \u001b[0m\u001b[90m Float64            \u001b[0m\u001b[90m Float64     \u001b[0m\u001b[90m Float64?       \u001b[0m\u001b[90m\u001b[0m ⋯\n",
       "───────┼────────────────────────────────────────────────────────────────────────\n",
       "     1 │   -122.23     37.88                41.0        880.0           129.0  ⋯\n",
       "     2 │   -122.22     37.86                21.0       7099.0          1106.0\n",
       "     3 │   -122.24     37.85                52.0       1467.0           190.0\n",
       "     4 │   -122.25     37.85                52.0       1274.0           235.0\n",
       "     5 │   -122.25     37.85                52.0       1627.0           280.0  ⋯\n",
       "     6 │   -122.25     37.85                52.0        919.0           213.0\n",
       "     7 │   -122.25     37.84                52.0       2535.0           489.0\n",
       "     8 │   -122.25     37.84                52.0       3104.0           687.0\n",
       "     9 │   -122.26     37.84                42.0       2555.0           665.0  ⋯\n",
       "    10 │   -122.25     37.84                52.0       3549.0           707.0\n",
       "    11 │   -122.26     37.85                52.0       2202.0           434.0\n",
       "   ⋮   │     ⋮         ⋮              ⋮                ⋮             ⋮         ⋱\n",
       " 20631 │   -121.32     39.29                11.0       2640.0           505.0\n",
       " 20632 │   -121.4      39.33                15.0       2655.0           493.0  ⋯\n",
       " 20633 │   -121.45     39.26                15.0       2319.0           416.0\n",
       " 20634 │   -121.53     39.19                27.0       2080.0           412.0\n",
       " 20635 │   -121.56     39.27                28.0       2332.0           395.0\n",
       " 20636 │   -121.09     39.48                25.0       1665.0           374.0  ⋯\n",
       " 20637 │   -121.21     39.49                18.0        697.0           150.0\n",
       " 20638 │   -121.22     39.43                17.0       2254.0           485.0\n",
       " 20639 │   -121.32     39.43                18.0       1860.0           409.0\n",
       " 20640 │   -121.24     39.37                16.0       2785.0           616.0  ⋯\n",
       "\u001b[36m                                                5 columns and 20619 rows omitted\u001b[0m"
      ]
     },
     "execution_count": 2,
     "metadata": {},
     "output_type": "execute_result"
    }
   ],
   "source": [
    "download(\"https://raw.githubusercontent.com/ageron/handson-ml/master/datasets/housing/housing.csv\",\"newhouses.csv\")\n",
    "houses = CSV.read(\"newhouses.csv\", DataFrame)"
   ]
  },
  {
   "cell_type": "code",
   "execution_count": 3,
   "metadata": {},
   "outputs": [],
   "source": [
    "cali_shape = JSON.parsefile(\"data/california-counties.json\")\n",
    "VV = VegaDatasets.VegaJSONDataset(cali_shape,\"data/california-counties.json\")\n",
    "\n",
    "@vlplot(width=500, height=300) +\n",
    "@vlplot(\n",
    "    mark={\n",
    "        :geoshape,\n",
    "        fill=:black,\n",
    "        stroke=:white\n",
    "    },\n",
    "    data={\n",
    "        values=VV,\n",
    "        format={\n",
    "            type=:topojson,\n",
    "            feature=:cb_2015_california_county_20m\n",
    "        }\n",
    "    },\n",
    "    projection={type=:albersUsa},\n",
    ")+\n",
    "@vlplot(\n",
    "    :circle,\n",
    "    data=houses,\n",
    "    projection={type=:albersUsa},\n",
    "    longitude=\"longitude:q\",\n",
    "    latitude=\"latitude:q\",\n",
    "    size={value=12},\n",
    "    color=\"median_house_value:q\"\n",
    "                    \n",
    ")"
   ]
  },
  {
   "cell_type": "code",
   "execution_count": null,
   "metadata": {},
   "outputs": [],
   "source": [
    "bucketprice = Int.(div.(houses[!,:median_house_value],50000))\n",
    "insertcols!(houses,3,:cprice=>bucketprice)\n",
    "\n",
    "@vlplot(width=500, height=300) +\n",
    "@vlplot(\n",
    "    mark={\n",
    "        :geoshape,\n",
    "        fill=:black,\n",
    "        stroke=:white\n",
    "    },\n",
    "    data={\n",
    "        values=VV,\n",
    "        format={\n",
    "            type=:topojson,\n",
    "            feature=:cb_2015_california_county_20m\n",
    "        }\n",
    "    },\n",
    "    projection={type=:albersUsa},\n",
    ")+\n",
    "@vlplot(\n",
    "    :circle,\n",
    "    data=houses,\n",
    "    projection={type=:albersUsa},\n",
    "    longitude=\"longitude:q\",\n",
    "    latitude=\"latitude:q\",\n",
    "    size={value=12},\n",
    "    color=\"cprice:n\"\n",
    "                    \n",
    ")"
   ]
  },
  {
   "cell_type": "code",
   "execution_count": null,
   "metadata": {},
   "outputs": [],
   "source": [
    "K = hclust(D)\n",
    "L = cutree(K;k=10)\n",
    "insertcols!(houses,3,:hclust_clusters=>L)"
   ]
  },
  {
   "cell_type": "code",
   "execution_count": null,
   "metadata": {},
   "outputs": [],
   "source": [
    "@vlplot(width=500, height=300) +\n",
    "@vlplot(\n",
    "    mark={\n",
    "        :geoshape,\n",
    "        fill=:black,\n",
    "        stroke=:white\n",
    "    },\n",
    "    data={\n",
    "        values=VV,\n",
    "        format={\n",
    "            type=:topojson,\n",
    "            feature=:cb_2015_california_county_20m\n",
    "        }\n",
    "    },\n",
    "    projection={type=:albersUsa},\n",
    ")+\n",
    "@vlplot(\n",
    "    :circle,\n",
    "    data=houses,\n",
    "    projection={type=:albersUsa},\n",
    "    longitude=\"longitude:q\",\n",
    "    latitude=\"latitude:q\",\n",
    "    size={value=12},\n",
    "    color=\"hclust_clusters:n\"\n",
    "                    \n",
    ")"
   ]
  },
  {
   "cell_type": "code",
   "execution_count": null,
   "metadata": {},
   "outputs": [],
   "source": []
  }
 ],
 "metadata": {
  "kernelspec": {
   "display_name": "Julia 1.6.3",
   "language": "julia",
   "name": "julia-1.6"
  },
  "language_info": {
   "file_extension": ".jl",
   "mimetype": "application/julia",
   "name": "julia",
   "version": "1.6.3"
  },
  "orig_nbformat": 4
 },
 "nbformat": 4,
 "nbformat_minor": 2
}
