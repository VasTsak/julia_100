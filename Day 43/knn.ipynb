{
 "cells": [
  {
   "cell_type": "code",
   "execution_count": 8,
   "metadata": {},
   "outputs": [
    {
     "data": {
      "text/plain": [
       "findaccuracy (generic function with 1 method)"
      ]
     },
     "execution_count": 8,
     "metadata": {},
     "output_type": "execute_result"
    }
   ],
   "source": [
    "findaccuracy(predictedvals,groundtruthvals) = sum(predictedvals.==groundtruthvals)/length(groundtruthvals)"
   ]
  },
  {
   "cell_type": "code",
   "execution_count": 1,
   "metadata": {},
   "outputs": [],
   "source": [
    "using RDatasets\n",
    "using MLBase\n",
    "using Plots\n",
    "using Distances\n",
    "using Random\n",
    "using LinearAlgebra\n",
    "using DataStructures\n",
    "using NearestNeighbors"
   ]
  },
  {
   "cell_type": "code",
   "execution_count": 2,
   "metadata": {},
   "outputs": [
    {
     "data": {
      "text/plain": [
       "perclass_splits (generic function with 1 method)"
      ]
     },
     "execution_count": 2,
     "metadata": {},
     "output_type": "execute_result"
    }
   ],
   "source": [
    "function perclass_splits(y,at)\n",
    "    uids = unique(y)\n",
    "    keepids = []\n",
    "    for ui in uids\n",
    "        curids = findall(y.==ui)\n",
    "        rowids = randsubseq(curids, at) \n",
    "        push!(keepids,rowids...)\n",
    "    end\n",
    "    return keepids\n",
    "end"
   ]
  },
  {
   "cell_type": "code",
   "execution_count": 3,
   "metadata": {},
   "outputs": [
    {
     "data": {
      "text/plain": [
       "40-element Vector{Int64}:\n",
       "   8\n",
       "   9\n",
       "  12\n",
       "  18\n",
       "  23\n",
       "  25\n",
       "  32\n",
       "  43\n",
       "  45\n",
       "  47\n",
       "  49\n",
       "  55\n",
       "  59\n",
       "   ⋮\n",
       " 107\n",
       " 111\n",
       " 112\n",
       " 116\n",
       " 118\n",
       " 119\n",
       " 122\n",
       " 125\n",
       " 127\n",
       " 134\n",
       " 142\n",
       " 149"
      ]
     },
     "execution_count": 3,
     "metadata": {},
     "output_type": "execute_result"
    }
   ],
   "source": [
    "iris = dataset(\"datasets\", \"iris\")\n",
    "X = Matrix(iris[:,1:4])\n",
    "irislabels = iris[:,5]\n",
    "irislabelsmap = labelmap(irislabels)\n",
    "y = labelencode(irislabelsmap, irislabels)\n",
    "trainids = perclass_splits(y,0.7)\n",
    "testids = setdiff(1:length(y),trainids)"
   ]
  },
  {
   "cell_type": "code",
   "execution_count": 4,
   "metadata": {},
   "outputs": [
    {
     "data": {
      "text/plain": [
       "KDTree{StaticArrays.SVector{4, Float64}, Euclidean, Float64}\n",
       "  Number of points: 110\n",
       "  Dimensions: 4\n",
       "  Metric: Euclidean(0.0)\n",
       "  Reordered: true"
      ]
     },
     "execution_count": 4,
     "metadata": {},
     "output_type": "execute_result"
    }
   ],
   "source": [
    "Xtrain = X[trainids,:]\n",
    "ytrain = y[trainids]\n",
    "kdtree = KDTree(Xtrain')"
   ]
  },
  {
   "cell_type": "code",
   "execution_count": 5,
   "metadata": {},
   "outputs": [
    {
     "data": {
      "text/plain": [
       "40×4 Matrix{Float64}:\n",
       " 5.0  3.4  1.5  0.2\n",
       " 4.4  2.9  1.4  0.2\n",
       " 4.8  3.4  1.6  0.2\n",
       " 5.1  3.5  1.4  0.3\n",
       " 4.6  3.6  1.0  0.2\n",
       " 4.8  3.4  1.9  0.2\n",
       " 5.4  3.4  1.5  0.4\n",
       " 4.4  3.2  1.3  0.2\n",
       " 5.1  3.8  1.9  0.4\n",
       " 5.1  3.8  1.6  0.2\n",
       " 5.3  3.7  1.5  0.2\n",
       " 6.5  2.8  4.6  1.5\n",
       " 6.6  2.9  4.6  1.3\n",
       " ⋮              \n",
       " 4.9  2.5  4.5  1.7\n",
       " 6.5  3.2  5.1  2.0\n",
       " 6.4  2.7  5.3  1.9\n",
       " 6.4  3.2  5.3  2.3\n",
       " 7.7  3.8  6.7  2.2\n",
       " 7.7  2.6  6.9  2.3\n",
       " 5.6  2.8  4.9  2.0\n",
       " 6.7  3.3  5.7  2.1\n",
       " 6.2  2.8  4.8  1.8\n",
       " 6.3  2.8  5.1  1.5\n",
       " 6.9  3.1  5.1  2.3\n",
       " 6.2  3.4  5.4  2.3"
      ]
     },
     "execution_count": 5,
     "metadata": {},
     "output_type": "execute_result"
    }
   ],
   "source": [
    "queries = X[testids,:]"
   ]
  },
  {
   "cell_type": "code",
   "execution_count": 6,
   "metadata": {},
   "outputs": [
    {
     "data": {
      "text/plain": [
       "([[33, 39, 1, 21, 23], [32, 4, 11, 38, 37], [24, 21, 25, 7, 39], [1, 34, 5, 33, 23], [7, 3, 31, 34, 38], [24, 21, 25, 19, 33], [17, 22, 23, 30, 9], [32, 38, 4, 3, 7], [6, 18, 16, 36, 21], [16, 18, 5, 22, 9]  …  [109, 92, 108, 85, 89], [107, 109, 99, 103, 96], [95, 78, 81, 98, 88], [88, 78, 98, 79, 94], [104, 83, 110, 84, 101], [87, 105, 103, 82, 77], [89, 91, 101, 108, 66], [66, 56, 89, 91, 61], [107, 102, 82, 109, 103], [99, 109, 103, 100, 106]], [[0.09999999999999964, 0.14142135623730964, 0.17320508075688762, 0.22360679774997902, 0.22360679774997916], [0.14142135623730948, 0.29999999999999966, 0.34641016151377546, 0.36055512754639873, 0.42426406871192807], [0.22360679774997858, 0.2828427124746191, 0.2999999999999998, 0.3000000000000002, 0.30000000000000027], [0.09999999999999998, 0.14142135623730917, 0.17320508075688756, 0.1732050807568878, 0.17320508075688806], [0.45825756949558405, 0.5099019513592785, 0.5099019513592788, 0.5196152422706636, 0.5656854249492379], [0.3741657386773937, 0.412310562561766, 0.4242640687119283, 0.47958315233127186, 0.49999999999999983], [0.282842712474619, 0.30000000000000016, 0.30000000000000016, 0.31622776601683783, 0.3605551275463992], [0.20000000000000018, 0.22360679774997827, 0.29999999999999954, 0.2999999999999998, 0.3162277660168373], [0.3741657386773947, 0.41231056256176585, 0.41231056256176596, 0.47958315233127163, 0.5099019513592782], [0.14142135623730956, 0.24494897427831772, 0.2999999999999998, 0.33166247903554, 0.3316624790355405]  …  [0.34641016151377513, 0.374165738677394, 0.3741657386773942, 0.38729833462074154, 0.4242640687119281], [0.374165738677394, 0.3872983346207415, 0.3872983346207416, 0.44721359549995776, 0.5099019513592786], [0.4123105625617661, 0.818535277187245, 0.860232526704263, 1.0049875621120892, 1.019803902718557], [0.4123105625617659, 0.5477225575051664, 0.8944271909999164, 0.9273618495495707, 0.9643650760992959], [0.31622776601683755, 0.33166247903553986, 0.4582575694955842, 0.4898979485566353, 0.5000000000000004], [0.2999999999999998, 0.31622776601683766, 0.374165738677394, 0.374165738677394, 0.3872983346207416], [0.17320508075688762, 0.24494897427831838, 0.2828427124746193, 0.38729833462074154, 0.4242640687119284], [0.33166247903553975, 0.3605551275463984, 0.3741657386773937, 0.4582575694955839, 0.5000000000000002], [0.24494897427831822, 0.36055512754639935, 0.4690415759823433, 0.5196152422706635, 0.5477225575051662], [0.2449489742783171, 0.6164414002968974, 0.6244997998398395, 0.6244997998398396, 0.6244997998398398]])"
      ]
     },
     "execution_count": 6,
     "metadata": {},
     "output_type": "execute_result"
    }
   ],
   "source": [
    "idxs, dists = knn(kdtree, queries', 5, true)"
   ]
  },
  {
   "cell_type": "code",
   "execution_count": 9,
   "metadata": {},
   "outputs": [
    {
     "data": {
      "text/plain": [
       "0.925"
      ]
     },
     "execution_count": 9,
     "metadata": {},
     "output_type": "execute_result"
    }
   ],
   "source": [
    "c = ytrain[hcat(idxs...)]\n",
    "possible_labels = map(i->counter(c[:,i]),1:size(c,2))\n",
    "predictions_NN = map(i->parse(Int,string(string(argmax(possible_labels[i])))),1:size(c,2))\n",
    "findaccuracy(predictions_NN,y[testids])"
   ]
  }
 ],
 "metadata": {
  "kernelspec": {
   "display_name": "Julia 1.7.1",
   "language": "julia",
   "name": "julia-1.7"
  },
  "language_info": {
   "file_extension": ".jl",
   "mimetype": "application/julia",
   "name": "julia",
   "version": "1.7.1"
  },
  "orig_nbformat": 4
 },
 "nbformat": 4,
 "nbformat_minor": 2
}
